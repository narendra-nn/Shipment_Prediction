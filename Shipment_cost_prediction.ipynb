{
  "cells": [
    {
      "cell_type": "code",
      "execution_count": null,
      "metadata": {
        "colab": {
          "base_uri": "https://localhost:8080/"
        },
        "id": "LN-ZeOZ1WzlS",
        "outputId": "54d19f01-372d-4763-ffe9-577e11107bbe"
      },
      "outputs": [
        {
          "output_type": "stream",
          "name": "stdout",
          "text": [
            "Drive already mounted at /content/drive; to attempt to forcibly remount, call drive.mount(\"/content/drive\", force_remount=True).\n"
          ]
        }
      ],
      "source": [
        "##Importing drive and mounting \n",
        "from google.colab import drive\n",
        "drive.mount('/content/drive')"
      ]
    },
    {
      "cell_type": "code",
      "execution_count": null,
      "metadata": {
        "id": "02l7ivqoXvxa"
      },
      "outputs": [],
      "source": [
        "import warnings\n",
        "warnings.filterwarnings(\"ignore\")"
      ]
    },
    {
      "cell_type": "code",
      "execution_count": null,
      "metadata": {
        "id": "jHj-Pua1YEu7"
      },
      "outputs": [],
      "source": [
        "#Importing libraries \n",
        "import pandas as pd \n",
        "import numpy as np\n"
      ]
    },
    {
      "cell_type": "code",
      "execution_count": null,
      "metadata": {
        "id": "Cq5glAI6YQuy"
      },
      "outputs": [],
      "source": [
        "#Loading given datase into dataframe\n",
        "SwiftData=pd.read_excel(\"/content/drive/MyDrive/Final_hackthon/Quickfreightdata.xlsx\")"
      ]
    },
    {
      "cell_type": "markdown",
      "metadata": {
        "id": "ipEcySJWZdTm"
      },
      "source": [
        "**Data Exploration**"
      ]
    },
    {
      "cell_type": "code",
      "execution_count": null,
      "metadata": {
        "colab": {
          "base_uri": "https://localhost:8080/"
        },
        "id": "jDNbTEFSYjpt",
        "outputId": "7a551c45-23d9-49d9-dabc-34a63a741e48"
      },
      "outputs": [
        {
          "output_type": "execute_result",
          "data": {
            "text/plain": [
              "(18739, 13)"
            ]
          },
          "metadata": {},
          "execution_count": 299
        }
      ],
      "source": [
        "SwiftData.shape"
      ]
    },
    {
      "cell_type": "code",
      "execution_count": null,
      "metadata": {
        "colab": {
          "base_uri": "https://localhost:8080/",
          "height": 357
        },
        "id": "fkZywRnYZppG",
        "outputId": "beeec575-ecab-4516-f4dc-cf1a75d8c4ce"
      },
      "outputs": [
        {
          "output_type": "execute_result",
          "data": {
            "text/plain": [
              "    ORDER_NBR EQUIPMENT_TYPE  CUSTOMER_MILES  WEIGHT  ORDER_COST  \\\n",
              "0   535361133     53 FLATBED             802   42000        0.00   \n",
              "1  1499443993              V               0   40500      875.00   \n",
              "2  1058279607            NaN             774       0       88.14   \n",
              "3  2093496262              V               0   40500      875.00   \n",
              "4  2373724838              V               0   40500      875.00   \n",
              "\n",
              "  FIRST_PICK_ZIP FIRST_PICK_EARLY_APPT FIRST_PICK_LATE_APPT LAST_DELIVERY_ZIP  \\\n",
              "0          21224   2015-07-13 07:30:00  2015-07-13 15:00:00             62707   \n",
              "1        L1W 3H9   2015-07-06 14:00:00  2015-07-06 14:00:00             13619   \n",
              "2          46037   2015-07-01 08:00:00  2015-07-02 17:00:00             73107   \n",
              "3        L1W 3H9   2015-07-07 14:00:00  2015-07-07 14:00:00             13619   \n",
              "4        L1W 3H9   2015-07-08 14:00:00  2015-07-08 14:00:00             13619   \n",
              "\n",
              "  LAST_DELIVERY_EARLY_APPT LAST_DELIVERY_LATE_APPT IS_HAZARDOUS  \\\n",
              "0      2015-07-14 08:00:00     2015-07-14 16:00:00            N   \n",
              "1      2015-07-07 07:00:00     2015-07-07 16:00:00            N   \n",
              "2      2015-07-07 08:00:00     2015-07-07 17:00:00            N   \n",
              "3      2015-07-08 07:00:00     2015-07-08 16:00:00            N   \n",
              "4      2015-07-09 07:00:00     2015-07-09 16:00:00            N   \n",
              "\n",
              "         CREATED_DATE  \n",
              "0 2015-07-01 10:22:00  \n",
              "1 2015-07-02 10:37:00  \n",
              "2 2015-07-01 15:05:00  \n",
              "3 2015-07-02 10:38:00  \n",
              "4 2015-07-02 11:16:00  "
            ],
            "text/html": [
              "\n",
              "  <div id=\"df-e02778ec-c4a1-412e-8981-1ab92f77dec9\">\n",
              "    <div class=\"colab-df-container\">\n",
              "      <div>\n",
              "<style scoped>\n",
              "    .dataframe tbody tr th:only-of-type {\n",
              "        vertical-align: middle;\n",
              "    }\n",
              "\n",
              "    .dataframe tbody tr th {\n",
              "        vertical-align: top;\n",
              "    }\n",
              "\n",
              "    .dataframe thead th {\n",
              "        text-align: right;\n",
              "    }\n",
              "</style>\n",
              "<table border=\"1\" class=\"dataframe\">\n",
              "  <thead>\n",
              "    <tr style=\"text-align: right;\">\n",
              "      <th></th>\n",
              "      <th>ORDER_NBR</th>\n",
              "      <th>EQUIPMENT_TYPE</th>\n",
              "      <th>CUSTOMER_MILES</th>\n",
              "      <th>WEIGHT</th>\n",
              "      <th>ORDER_COST</th>\n",
              "      <th>FIRST_PICK_ZIP</th>\n",
              "      <th>FIRST_PICK_EARLY_APPT</th>\n",
              "      <th>FIRST_PICK_LATE_APPT</th>\n",
              "      <th>LAST_DELIVERY_ZIP</th>\n",
              "      <th>LAST_DELIVERY_EARLY_APPT</th>\n",
              "      <th>LAST_DELIVERY_LATE_APPT</th>\n",
              "      <th>IS_HAZARDOUS</th>\n",
              "      <th>CREATED_DATE</th>\n",
              "    </tr>\n",
              "  </thead>\n",
              "  <tbody>\n",
              "    <tr>\n",
              "      <th>0</th>\n",
              "      <td>535361133</td>\n",
              "      <td>53 FLATBED</td>\n",
              "      <td>802</td>\n",
              "      <td>42000</td>\n",
              "      <td>0.00</td>\n",
              "      <td>21224</td>\n",
              "      <td>2015-07-13 07:30:00</td>\n",
              "      <td>2015-07-13 15:00:00</td>\n",
              "      <td>62707</td>\n",
              "      <td>2015-07-14 08:00:00</td>\n",
              "      <td>2015-07-14 16:00:00</td>\n",
              "      <td>N</td>\n",
              "      <td>2015-07-01 10:22:00</td>\n",
              "    </tr>\n",
              "    <tr>\n",
              "      <th>1</th>\n",
              "      <td>1499443993</td>\n",
              "      <td>V</td>\n",
              "      <td>0</td>\n",
              "      <td>40500</td>\n",
              "      <td>875.00</td>\n",
              "      <td>L1W 3H9</td>\n",
              "      <td>2015-07-06 14:00:00</td>\n",
              "      <td>2015-07-06 14:00:00</td>\n",
              "      <td>13619</td>\n",
              "      <td>2015-07-07 07:00:00</td>\n",
              "      <td>2015-07-07 16:00:00</td>\n",
              "      <td>N</td>\n",
              "      <td>2015-07-02 10:37:00</td>\n",
              "    </tr>\n",
              "    <tr>\n",
              "      <th>2</th>\n",
              "      <td>1058279607</td>\n",
              "      <td>NaN</td>\n",
              "      <td>774</td>\n",
              "      <td>0</td>\n",
              "      <td>88.14</td>\n",
              "      <td>46037</td>\n",
              "      <td>2015-07-01 08:00:00</td>\n",
              "      <td>2015-07-02 17:00:00</td>\n",
              "      <td>73107</td>\n",
              "      <td>2015-07-07 08:00:00</td>\n",
              "      <td>2015-07-07 17:00:00</td>\n",
              "      <td>N</td>\n",
              "      <td>2015-07-01 15:05:00</td>\n",
              "    </tr>\n",
              "    <tr>\n",
              "      <th>3</th>\n",
              "      <td>2093496262</td>\n",
              "      <td>V</td>\n",
              "      <td>0</td>\n",
              "      <td>40500</td>\n",
              "      <td>875.00</td>\n",
              "      <td>L1W 3H9</td>\n",
              "      <td>2015-07-07 14:00:00</td>\n",
              "      <td>2015-07-07 14:00:00</td>\n",
              "      <td>13619</td>\n",
              "      <td>2015-07-08 07:00:00</td>\n",
              "      <td>2015-07-08 16:00:00</td>\n",
              "      <td>N</td>\n",
              "      <td>2015-07-02 10:38:00</td>\n",
              "    </tr>\n",
              "    <tr>\n",
              "      <th>4</th>\n",
              "      <td>2373724838</td>\n",
              "      <td>V</td>\n",
              "      <td>0</td>\n",
              "      <td>40500</td>\n",
              "      <td>875.00</td>\n",
              "      <td>L1W 3H9</td>\n",
              "      <td>2015-07-08 14:00:00</td>\n",
              "      <td>2015-07-08 14:00:00</td>\n",
              "      <td>13619</td>\n",
              "      <td>2015-07-09 07:00:00</td>\n",
              "      <td>2015-07-09 16:00:00</td>\n",
              "      <td>N</td>\n",
              "      <td>2015-07-02 11:16:00</td>\n",
              "    </tr>\n",
              "  </tbody>\n",
              "</table>\n",
              "</div>\n",
              "      <button class=\"colab-df-convert\" onclick=\"convertToInteractive('df-e02778ec-c4a1-412e-8981-1ab92f77dec9')\"\n",
              "              title=\"Convert this dataframe to an interactive table.\"\n",
              "              style=\"display:none;\">\n",
              "        \n",
              "  <svg xmlns=\"http://www.w3.org/2000/svg\" height=\"24px\"viewBox=\"0 0 24 24\"\n",
              "       width=\"24px\">\n",
              "    <path d=\"M0 0h24v24H0V0z\" fill=\"none\"/>\n",
              "    <path d=\"M18.56 5.44l.94 2.06.94-2.06 2.06-.94-2.06-.94-.94-2.06-.94 2.06-2.06.94zm-11 1L8.5 8.5l.94-2.06 2.06-.94-2.06-.94L8.5 2.5l-.94 2.06-2.06.94zm10 10l.94 2.06.94-2.06 2.06-.94-2.06-.94-.94-2.06-.94 2.06-2.06.94z\"/><path d=\"M17.41 7.96l-1.37-1.37c-.4-.4-.92-.59-1.43-.59-.52 0-1.04.2-1.43.59L10.3 9.45l-7.72 7.72c-.78.78-.78 2.05 0 2.83L4 21.41c.39.39.9.59 1.41.59.51 0 1.02-.2 1.41-.59l7.78-7.78 2.81-2.81c.8-.78.8-2.07 0-2.86zM5.41 20L4 18.59l7.72-7.72 1.47 1.35L5.41 20z\"/>\n",
              "  </svg>\n",
              "      </button>\n",
              "      \n",
              "  <style>\n",
              "    .colab-df-container {\n",
              "      display:flex;\n",
              "      flex-wrap:wrap;\n",
              "      gap: 12px;\n",
              "    }\n",
              "\n",
              "    .colab-df-convert {\n",
              "      background-color: #E8F0FE;\n",
              "      border: none;\n",
              "      border-radius: 50%;\n",
              "      cursor: pointer;\n",
              "      display: none;\n",
              "      fill: #1967D2;\n",
              "      height: 32px;\n",
              "      padding: 0 0 0 0;\n",
              "      width: 32px;\n",
              "    }\n",
              "\n",
              "    .colab-df-convert:hover {\n",
              "      background-color: #E2EBFA;\n",
              "      box-shadow: 0px 1px 2px rgba(60, 64, 67, 0.3), 0px 1px 3px 1px rgba(60, 64, 67, 0.15);\n",
              "      fill: #174EA6;\n",
              "    }\n",
              "\n",
              "    [theme=dark] .colab-df-convert {\n",
              "      background-color: #3B4455;\n",
              "      fill: #D2E3FC;\n",
              "    }\n",
              "\n",
              "    [theme=dark] .colab-df-convert:hover {\n",
              "      background-color: #434B5C;\n",
              "      box-shadow: 0px 1px 3px 1px rgba(0, 0, 0, 0.15);\n",
              "      filter: drop-shadow(0px 1px 2px rgba(0, 0, 0, 0.3));\n",
              "      fill: #FFFFFF;\n",
              "    }\n",
              "  </style>\n",
              "\n",
              "      <script>\n",
              "        const buttonEl =\n",
              "          document.querySelector('#df-e02778ec-c4a1-412e-8981-1ab92f77dec9 button.colab-df-convert');\n",
              "        buttonEl.style.display =\n",
              "          google.colab.kernel.accessAllowed ? 'block' : 'none';\n",
              "\n",
              "        async function convertToInteractive(key) {\n",
              "          const element = document.querySelector('#df-e02778ec-c4a1-412e-8981-1ab92f77dec9');\n",
              "          const dataTable =\n",
              "            await google.colab.kernel.invokeFunction('convertToInteractive',\n",
              "                                                     [key], {});\n",
              "          if (!dataTable) return;\n",
              "\n",
              "          const docLinkHtml = 'Like what you see? Visit the ' +\n",
              "            '<a target=\"_blank\" href=https://colab.research.google.com/notebooks/data_table.ipynb>data table notebook</a>'\n",
              "            + ' to learn more about interactive tables.';\n",
              "          element.innerHTML = '';\n",
              "          dataTable['output_type'] = 'display_data';\n",
              "          await google.colab.output.renderOutput(dataTable, element);\n",
              "          const docLink = document.createElement('div');\n",
              "          docLink.innerHTML = docLinkHtml;\n",
              "          element.appendChild(docLink);\n",
              "        }\n",
              "      </script>\n",
              "    </div>\n",
              "  </div>\n",
              "  "
            ]
          },
          "metadata": {},
          "execution_count": 300
        }
      ],
      "source": [
        "SwiftData.head()"
      ]
    },
    {
      "cell_type": "code",
      "execution_count": null,
      "metadata": {
        "colab": {
          "base_uri": "https://localhost:8080/",
          "height": 357
        },
        "id": "e4gtvMz3ZtN5",
        "outputId": "c0fc01f4-64f8-4604-9cd9-12a6ed8ac24b"
      },
      "outputs": [
        {
          "output_type": "execute_result",
          "data": {
            "text/plain": [
              "        ORDER_NBR EQUIPMENT_TYPE  CUSTOMER_MILES  WEIGHT  ORDER_COST  \\\n",
              "18734   675767319              R             707   26405      1500.0   \n",
              "18735  2597037520              R            1230   42500         0.0   \n",
              "18736  1272142564              R            1924   42000      2500.0   \n",
              "18737   830532830              R            2185   40000      5300.0   \n",
              "18738  1119673825              R            2185   40000      5300.0   \n",
              "\n",
              "      FIRST_PICK_ZIP FIRST_PICK_EARLY_APPT FIRST_PICK_LATE_APPT  \\\n",
              "18734          84104   2015-09-01 11:00:00  2015-09-01 18:00:00   \n",
              "18735          84088   2015-08-31 20:00:00  2015-08-31 20:00:00   \n",
              "18736          78521   2015-09-04 09:00:00  2015-09-04 17:00:00   \n",
              "18737           4915   2015-09-03 14:30:00  2015-09-03 14:30:00   \n",
              "18738           4915   2015-09-03 14:30:00  2015-09-03 14:30:00   \n",
              "\n",
              "      LAST_DELIVERY_ZIP LAST_DELIVERY_EARLY_APPT LAST_DELIVERY_LATE_APPT  \\\n",
              "18734             85353      2015-09-03 08:30:00     2015-09-03 08:30:00   \n",
              "18735             76102      2015-09-03 13:00:00     2015-09-03 13:00:00   \n",
              "18736             95380      2015-09-07 07:00:00     2015-09-07 07:00:00   \n",
              "18737             29209      2015-09-07 06:00:00     2015-09-07 06:00:00   \n",
              "18738             30336      2015-09-07 13:00:00     2015-09-07 13:00:00   \n",
              "\n",
              "      IS_HAZARDOUS        CREATED_DATE  \n",
              "18734            N 2015-08-28 17:19:00  \n",
              "18735            N 2015-08-28 17:22:00  \n",
              "18736            N 2015-09-03 08:31:00  \n",
              "18737            N 2015-09-03 13:08:00  \n",
              "18738            N 2015-09-03 13:08:00  "
            ],
            "text/html": [
              "\n",
              "  <div id=\"df-9e707adb-408a-48dd-af78-2efa5ccdb77b\">\n",
              "    <div class=\"colab-df-container\">\n",
              "      <div>\n",
              "<style scoped>\n",
              "    .dataframe tbody tr th:only-of-type {\n",
              "        vertical-align: middle;\n",
              "    }\n",
              "\n",
              "    .dataframe tbody tr th {\n",
              "        vertical-align: top;\n",
              "    }\n",
              "\n",
              "    .dataframe thead th {\n",
              "        text-align: right;\n",
              "    }\n",
              "</style>\n",
              "<table border=\"1\" class=\"dataframe\">\n",
              "  <thead>\n",
              "    <tr style=\"text-align: right;\">\n",
              "      <th></th>\n",
              "      <th>ORDER_NBR</th>\n",
              "      <th>EQUIPMENT_TYPE</th>\n",
              "      <th>CUSTOMER_MILES</th>\n",
              "      <th>WEIGHT</th>\n",
              "      <th>ORDER_COST</th>\n",
              "      <th>FIRST_PICK_ZIP</th>\n",
              "      <th>FIRST_PICK_EARLY_APPT</th>\n",
              "      <th>FIRST_PICK_LATE_APPT</th>\n",
              "      <th>LAST_DELIVERY_ZIP</th>\n",
              "      <th>LAST_DELIVERY_EARLY_APPT</th>\n",
              "      <th>LAST_DELIVERY_LATE_APPT</th>\n",
              "      <th>IS_HAZARDOUS</th>\n",
              "      <th>CREATED_DATE</th>\n",
              "    </tr>\n",
              "  </thead>\n",
              "  <tbody>\n",
              "    <tr>\n",
              "      <th>18734</th>\n",
              "      <td>675767319</td>\n",
              "      <td>R</td>\n",
              "      <td>707</td>\n",
              "      <td>26405</td>\n",
              "      <td>1500.0</td>\n",
              "      <td>84104</td>\n",
              "      <td>2015-09-01 11:00:00</td>\n",
              "      <td>2015-09-01 18:00:00</td>\n",
              "      <td>85353</td>\n",
              "      <td>2015-09-03 08:30:00</td>\n",
              "      <td>2015-09-03 08:30:00</td>\n",
              "      <td>N</td>\n",
              "      <td>2015-08-28 17:19:00</td>\n",
              "    </tr>\n",
              "    <tr>\n",
              "      <th>18735</th>\n",
              "      <td>2597037520</td>\n",
              "      <td>R</td>\n",
              "      <td>1230</td>\n",
              "      <td>42500</td>\n",
              "      <td>0.0</td>\n",
              "      <td>84088</td>\n",
              "      <td>2015-08-31 20:00:00</td>\n",
              "      <td>2015-08-31 20:00:00</td>\n",
              "      <td>76102</td>\n",
              "      <td>2015-09-03 13:00:00</td>\n",
              "      <td>2015-09-03 13:00:00</td>\n",
              "      <td>N</td>\n",
              "      <td>2015-08-28 17:22:00</td>\n",
              "    </tr>\n",
              "    <tr>\n",
              "      <th>18736</th>\n",
              "      <td>1272142564</td>\n",
              "      <td>R</td>\n",
              "      <td>1924</td>\n",
              "      <td>42000</td>\n",
              "      <td>2500.0</td>\n",
              "      <td>78521</td>\n",
              "      <td>2015-09-04 09:00:00</td>\n",
              "      <td>2015-09-04 17:00:00</td>\n",
              "      <td>95380</td>\n",
              "      <td>2015-09-07 07:00:00</td>\n",
              "      <td>2015-09-07 07:00:00</td>\n",
              "      <td>N</td>\n",
              "      <td>2015-09-03 08:31:00</td>\n",
              "    </tr>\n",
              "    <tr>\n",
              "      <th>18737</th>\n",
              "      <td>830532830</td>\n",
              "      <td>R</td>\n",
              "      <td>2185</td>\n",
              "      <td>40000</td>\n",
              "      <td>5300.0</td>\n",
              "      <td>4915</td>\n",
              "      <td>2015-09-03 14:30:00</td>\n",
              "      <td>2015-09-03 14:30:00</td>\n",
              "      <td>29209</td>\n",
              "      <td>2015-09-07 06:00:00</td>\n",
              "      <td>2015-09-07 06:00:00</td>\n",
              "      <td>N</td>\n",
              "      <td>2015-09-03 13:08:00</td>\n",
              "    </tr>\n",
              "    <tr>\n",
              "      <th>18738</th>\n",
              "      <td>1119673825</td>\n",
              "      <td>R</td>\n",
              "      <td>2185</td>\n",
              "      <td>40000</td>\n",
              "      <td>5300.0</td>\n",
              "      <td>4915</td>\n",
              "      <td>2015-09-03 14:30:00</td>\n",
              "      <td>2015-09-03 14:30:00</td>\n",
              "      <td>30336</td>\n",
              "      <td>2015-09-07 13:00:00</td>\n",
              "      <td>2015-09-07 13:00:00</td>\n",
              "      <td>N</td>\n",
              "      <td>2015-09-03 13:08:00</td>\n",
              "    </tr>\n",
              "  </tbody>\n",
              "</table>\n",
              "</div>\n",
              "      <button class=\"colab-df-convert\" onclick=\"convertToInteractive('df-9e707adb-408a-48dd-af78-2efa5ccdb77b')\"\n",
              "              title=\"Convert this dataframe to an interactive table.\"\n",
              "              style=\"display:none;\">\n",
              "        \n",
              "  <svg xmlns=\"http://www.w3.org/2000/svg\" height=\"24px\"viewBox=\"0 0 24 24\"\n",
              "       width=\"24px\">\n",
              "    <path d=\"M0 0h24v24H0V0z\" fill=\"none\"/>\n",
              "    <path d=\"M18.56 5.44l.94 2.06.94-2.06 2.06-.94-2.06-.94-.94-2.06-.94 2.06-2.06.94zm-11 1L8.5 8.5l.94-2.06 2.06-.94-2.06-.94L8.5 2.5l-.94 2.06-2.06.94zm10 10l.94 2.06.94-2.06 2.06-.94-2.06-.94-.94-2.06-.94 2.06-2.06.94z\"/><path d=\"M17.41 7.96l-1.37-1.37c-.4-.4-.92-.59-1.43-.59-.52 0-1.04.2-1.43.59L10.3 9.45l-7.72 7.72c-.78.78-.78 2.05 0 2.83L4 21.41c.39.39.9.59 1.41.59.51 0 1.02-.2 1.41-.59l7.78-7.78 2.81-2.81c.8-.78.8-2.07 0-2.86zM5.41 20L4 18.59l7.72-7.72 1.47 1.35L5.41 20z\"/>\n",
              "  </svg>\n",
              "      </button>\n",
              "      \n",
              "  <style>\n",
              "    .colab-df-container {\n",
              "      display:flex;\n",
              "      flex-wrap:wrap;\n",
              "      gap: 12px;\n",
              "    }\n",
              "\n",
              "    .colab-df-convert {\n",
              "      background-color: #E8F0FE;\n",
              "      border: none;\n",
              "      border-radius: 50%;\n",
              "      cursor: pointer;\n",
              "      display: none;\n",
              "      fill: #1967D2;\n",
              "      height: 32px;\n",
              "      padding: 0 0 0 0;\n",
              "      width: 32px;\n",
              "    }\n",
              "\n",
              "    .colab-df-convert:hover {\n",
              "      background-color: #E2EBFA;\n",
              "      box-shadow: 0px 1px 2px rgba(60, 64, 67, 0.3), 0px 1px 3px 1px rgba(60, 64, 67, 0.15);\n",
              "      fill: #174EA6;\n",
              "    }\n",
              "\n",
              "    [theme=dark] .colab-df-convert {\n",
              "      background-color: #3B4455;\n",
              "      fill: #D2E3FC;\n",
              "    }\n",
              "\n",
              "    [theme=dark] .colab-df-convert:hover {\n",
              "      background-color: #434B5C;\n",
              "      box-shadow: 0px 1px 3px 1px rgba(0, 0, 0, 0.15);\n",
              "      filter: drop-shadow(0px 1px 2px rgba(0, 0, 0, 0.3));\n",
              "      fill: #FFFFFF;\n",
              "    }\n",
              "  </style>\n",
              "\n",
              "      <script>\n",
              "        const buttonEl =\n",
              "          document.querySelector('#df-9e707adb-408a-48dd-af78-2efa5ccdb77b button.colab-df-convert');\n",
              "        buttonEl.style.display =\n",
              "          google.colab.kernel.accessAllowed ? 'block' : 'none';\n",
              "\n",
              "        async function convertToInteractive(key) {\n",
              "          const element = document.querySelector('#df-9e707adb-408a-48dd-af78-2efa5ccdb77b');\n",
              "          const dataTable =\n",
              "            await google.colab.kernel.invokeFunction('convertToInteractive',\n",
              "                                                     [key], {});\n",
              "          if (!dataTable) return;\n",
              "\n",
              "          const docLinkHtml = 'Like what you see? Visit the ' +\n",
              "            '<a target=\"_blank\" href=https://colab.research.google.com/notebooks/data_table.ipynb>data table notebook</a>'\n",
              "            + ' to learn more about interactive tables.';\n",
              "          element.innerHTML = '';\n",
              "          dataTable['output_type'] = 'display_data';\n",
              "          await google.colab.output.renderOutput(dataTable, element);\n",
              "          const docLink = document.createElement('div');\n",
              "          docLink.innerHTML = docLinkHtml;\n",
              "          element.appendChild(docLink);\n",
              "        }\n",
              "      </script>\n",
              "    </div>\n",
              "  </div>\n",
              "  "
            ]
          },
          "metadata": {},
          "execution_count": 301
        }
      ],
      "source": [
        "SwiftData.tail()"
      ]
    },
    {
      "cell_type": "code",
      "execution_count": null,
      "metadata": {
        "colab": {
          "base_uri": "https://localhost:8080/"
        },
        "id": "mPKNze6Dbw83",
        "outputId": "5d726bea-5d07-4d91-be05-98a8c5062705"
      },
      "outputs": [
        {
          "output_type": "execute_result",
          "data": {
            "text/plain": [
              "ORDER_NBR                   18739\n",
              "CREATED_DATE                12181\n",
              "LAST_DELIVERY_LATE_APPT      3874\n",
              "LAST_DELIVERY_EARLY_APPT     3699\n",
              "FIRST_PICK_LATE_APPT         3155\n",
              "FIRST_PICK_EARLY_APPT        3090\n",
              "WEIGHT                       2678\n",
              "LAST_DELIVERY_ZIP            1843\n",
              "CUSTOMER_MILES               1411\n",
              "FIRST_PICK_ZIP                842\n",
              "ORDER_COST                    758\n",
              "EQUIPMENT_TYPE                 28\n",
              "IS_HAZARDOUS                    2\n",
              "dtype: int64"
            ]
          },
          "metadata": {},
          "execution_count": 302
        }
      ],
      "source": [
        "SwiftData.nunique().sort_values(ascending = False)"
      ]
    },
    {
      "cell_type": "markdown",
      "metadata": {
        "id": "WYzHMNHDIiTD"
      },
      "source": [
        "If we observe at unique level in Order_NBR we have 18736 .."
      ]
    },
    {
      "cell_type": "code",
      "execution_count": null,
      "metadata": {
        "id": "vAD5XssQUsuD"
      },
      "outputs": [],
      "source": [
        "def present_null_values_info(SwiftData):\n",
        "    \n",
        "    \n",
        "    \"\"\"\n",
        "    Displaying null value info for the given data frame\n",
        "    \n",
        "    \"\"\"\n",
        "\n",
        "    SwiftData_about_null_value=pd.DataFrame()\n",
        "    if SwiftData.isnull().sum().sum()>0:\n",
        "\n",
        "        SwiftData_about_null_value[\"columns\"]=list(SwiftData.columns)\n",
        "        SwiftData_about_null_value[\"null_value_count\"]=list(SwiftData.isnull().sum())\n",
        "        SwiftData_about_null_value[\"Total_no_of_values\"]=SwiftData.shape[0]\n",
        "        SwiftData_about_null_value[\"%_of_null_values\"]=list(SwiftData.isnull().mean()*100)\n",
        "        \n",
        "        \n",
        "        \n",
        "        SwiftData_about_null_value = SwiftData_about_null_value.sort_values(\"%_of_null_values\",ascending=False)\n",
        "        SwiftData_about_null_value.reset_index(inplace = True)\n",
        "        SwiftData_about_null_value.drop([\"index\"],axis=1,inplace = True)\n",
        "        null_value_columns = SwiftData_about_null_value[SwiftData_about_null_value[\"%_of_null_values\"]>0]\n",
        "        \n",
        "        return null_value_columns\n",
        "        \n",
        "    else:\n",
        "        return \"no null values\"\n",
        "        "
      ]
    },
    {
      "cell_type": "code",
      "execution_count": null,
      "metadata": {
        "colab": {
          "base_uri": "https://localhost:8080/",
          "height": 238
        },
        "id": "XAelwJgL20ek",
        "outputId": "53ea0297-855a-4b8e-c3b7-c3d9e7e03fc6"
      },
      "outputs": [
        {
          "output_type": "execute_result",
          "data": {
            "text/plain": [
              "                    columns  null_value_count  Total_no_of_values  \\\n",
              "0            EQUIPMENT_TYPE              1011               18739   \n",
              "1   LAST_DELIVERY_LATE_APPT               386               18739   \n",
              "2  LAST_DELIVERY_EARLY_APPT               329               18739   \n",
              "3      FIRST_PICK_LATE_APPT               304               18739   \n",
              "4     FIRST_PICK_EARLY_APPT               260               18739   \n",
              "5                ORDER_COST                 6               18739   \n",
              "\n",
              "   %_of_null_values  \n",
              "0          5.395165  \n",
              "1          2.059875  \n",
              "2          1.755697  \n",
              "3          1.622285  \n",
              "4          1.387481  \n",
              "5          0.032019  "
            ],
            "text/html": [
              "\n",
              "  <div id=\"df-efe9f486-31eb-48b6-b94c-9ad66e973878\">\n",
              "    <div class=\"colab-df-container\">\n",
              "      <div>\n",
              "<style scoped>\n",
              "    .dataframe tbody tr th:only-of-type {\n",
              "        vertical-align: middle;\n",
              "    }\n",
              "\n",
              "    .dataframe tbody tr th {\n",
              "        vertical-align: top;\n",
              "    }\n",
              "\n",
              "    .dataframe thead th {\n",
              "        text-align: right;\n",
              "    }\n",
              "</style>\n",
              "<table border=\"1\" class=\"dataframe\">\n",
              "  <thead>\n",
              "    <tr style=\"text-align: right;\">\n",
              "      <th></th>\n",
              "      <th>columns</th>\n",
              "      <th>null_value_count</th>\n",
              "      <th>Total_no_of_values</th>\n",
              "      <th>%_of_null_values</th>\n",
              "    </tr>\n",
              "  </thead>\n",
              "  <tbody>\n",
              "    <tr>\n",
              "      <th>0</th>\n",
              "      <td>EQUIPMENT_TYPE</td>\n",
              "      <td>1011</td>\n",
              "      <td>18739</td>\n",
              "      <td>5.395165</td>\n",
              "    </tr>\n",
              "    <tr>\n",
              "      <th>1</th>\n",
              "      <td>LAST_DELIVERY_LATE_APPT</td>\n",
              "      <td>386</td>\n",
              "      <td>18739</td>\n",
              "      <td>2.059875</td>\n",
              "    </tr>\n",
              "    <tr>\n",
              "      <th>2</th>\n",
              "      <td>LAST_DELIVERY_EARLY_APPT</td>\n",
              "      <td>329</td>\n",
              "      <td>18739</td>\n",
              "      <td>1.755697</td>\n",
              "    </tr>\n",
              "    <tr>\n",
              "      <th>3</th>\n",
              "      <td>FIRST_PICK_LATE_APPT</td>\n",
              "      <td>304</td>\n",
              "      <td>18739</td>\n",
              "      <td>1.622285</td>\n",
              "    </tr>\n",
              "    <tr>\n",
              "      <th>4</th>\n",
              "      <td>FIRST_PICK_EARLY_APPT</td>\n",
              "      <td>260</td>\n",
              "      <td>18739</td>\n",
              "      <td>1.387481</td>\n",
              "    </tr>\n",
              "    <tr>\n",
              "      <th>5</th>\n",
              "      <td>ORDER_COST</td>\n",
              "      <td>6</td>\n",
              "      <td>18739</td>\n",
              "      <td>0.032019</td>\n",
              "    </tr>\n",
              "  </tbody>\n",
              "</table>\n",
              "</div>\n",
              "      <button class=\"colab-df-convert\" onclick=\"convertToInteractive('df-efe9f486-31eb-48b6-b94c-9ad66e973878')\"\n",
              "              title=\"Convert this dataframe to an interactive table.\"\n",
              "              style=\"display:none;\">\n",
              "        \n",
              "  <svg xmlns=\"http://www.w3.org/2000/svg\" height=\"24px\"viewBox=\"0 0 24 24\"\n",
              "       width=\"24px\">\n",
              "    <path d=\"M0 0h24v24H0V0z\" fill=\"none\"/>\n",
              "    <path d=\"M18.56 5.44l.94 2.06.94-2.06 2.06-.94-2.06-.94-.94-2.06-.94 2.06-2.06.94zm-11 1L8.5 8.5l.94-2.06 2.06-.94-2.06-.94L8.5 2.5l-.94 2.06-2.06.94zm10 10l.94 2.06.94-2.06 2.06-.94-2.06-.94-.94-2.06-.94 2.06-2.06.94z\"/><path d=\"M17.41 7.96l-1.37-1.37c-.4-.4-.92-.59-1.43-.59-.52 0-1.04.2-1.43.59L10.3 9.45l-7.72 7.72c-.78.78-.78 2.05 0 2.83L4 21.41c.39.39.9.59 1.41.59.51 0 1.02-.2 1.41-.59l7.78-7.78 2.81-2.81c.8-.78.8-2.07 0-2.86zM5.41 20L4 18.59l7.72-7.72 1.47 1.35L5.41 20z\"/>\n",
              "  </svg>\n",
              "      </button>\n",
              "      \n",
              "  <style>\n",
              "    .colab-df-container {\n",
              "      display:flex;\n",
              "      flex-wrap:wrap;\n",
              "      gap: 12px;\n",
              "    }\n",
              "\n",
              "    .colab-df-convert {\n",
              "      background-color: #E8F0FE;\n",
              "      border: none;\n",
              "      border-radius: 50%;\n",
              "      cursor: pointer;\n",
              "      display: none;\n",
              "      fill: #1967D2;\n",
              "      height: 32px;\n",
              "      padding: 0 0 0 0;\n",
              "      width: 32px;\n",
              "    }\n",
              "\n",
              "    .colab-df-convert:hover {\n",
              "      background-color: #E2EBFA;\n",
              "      box-shadow: 0px 1px 2px rgba(60, 64, 67, 0.3), 0px 1px 3px 1px rgba(60, 64, 67, 0.15);\n",
              "      fill: #174EA6;\n",
              "    }\n",
              "\n",
              "    [theme=dark] .colab-df-convert {\n",
              "      background-color: #3B4455;\n",
              "      fill: #D2E3FC;\n",
              "    }\n",
              "\n",
              "    [theme=dark] .colab-df-convert:hover {\n",
              "      background-color: #434B5C;\n",
              "      box-shadow: 0px 1px 3px 1px rgba(0, 0, 0, 0.15);\n",
              "      filter: drop-shadow(0px 1px 2px rgba(0, 0, 0, 0.3));\n",
              "      fill: #FFFFFF;\n",
              "    }\n",
              "  </style>\n",
              "\n",
              "      <script>\n",
              "        const buttonEl =\n",
              "          document.querySelector('#df-efe9f486-31eb-48b6-b94c-9ad66e973878 button.colab-df-convert');\n",
              "        buttonEl.style.display =\n",
              "          google.colab.kernel.accessAllowed ? 'block' : 'none';\n",
              "\n",
              "        async function convertToInteractive(key) {\n",
              "          const element = document.querySelector('#df-efe9f486-31eb-48b6-b94c-9ad66e973878');\n",
              "          const dataTable =\n",
              "            await google.colab.kernel.invokeFunction('convertToInteractive',\n",
              "                                                     [key], {});\n",
              "          if (!dataTable) return;\n",
              "\n",
              "          const docLinkHtml = 'Like what you see? Visit the ' +\n",
              "            '<a target=\"_blank\" href=https://colab.research.google.com/notebooks/data_table.ipynb>data table notebook</a>'\n",
              "            + ' to learn more about interactive tables.';\n",
              "          element.innerHTML = '';\n",
              "          dataTable['output_type'] = 'display_data';\n",
              "          await google.colab.output.renderOutput(dataTable, element);\n",
              "          const docLink = document.createElement('div');\n",
              "          docLink.innerHTML = docLinkHtml;\n",
              "          element.appendChild(docLink);\n",
              "        }\n",
              "      </script>\n",
              "    </div>\n",
              "  </div>\n",
              "  "
            ]
          },
          "metadata": {},
          "execution_count": 304
        }
      ],
      "source": [
        "present_null_values_info(SwiftData)"
      ]
    },
    {
      "cell_type": "markdown",
      "metadata": {
        "id": "BLzjMQBc9XAv"
      },
      "source": [
        "Checking For Duplicate Records"
      ]
    },
    {
      "cell_type": "code",
      "execution_count": null,
      "metadata": {
        "colab": {
          "base_uri": "https://localhost:8080/"
        },
        "id": "plvxiu6Gcj1V",
        "outputId": "078e8630-f989-4aa9-ef01-874bbddaad49"
      },
      "outputs": [
        {
          "output_type": "stream",
          "name": "stdout",
          "text": [
            "No of Duplicate records in Dataset :  0\n"
          ]
        }
      ],
      "source": [
        "duplicate_records = SwiftData[SwiftData.duplicated()]\n",
        "print(\"No of Duplicate records in Dataset : \",duplicate_records.shape[0])\n"
      ]
    },
    {
      "cell_type": "markdown",
      "source": [
        "We dont have any duplicate columns"
      ],
      "metadata": {
        "id": "6V1i_fAwY6ZL"
      }
    },
    {
      "cell_type": "code",
      "execution_count": null,
      "metadata": {
        "colab": {
          "base_uri": "https://localhost:8080/"
        },
        "id": "83ABMkARIRHe",
        "outputId": "3c2f5dac-67cf-4c24-f1dc-4e03cd3aa0cd"
      },
      "outputs": [
        {
          "output_type": "stream",
          "name": "stdout",
          "text": [
            "<class 'pandas.core.frame.DataFrame'>\n",
            "RangeIndex: 18739 entries, 0 to 18738\n",
            "Data columns (total 13 columns):\n",
            " #   Column                    Non-Null Count  Dtype         \n",
            "---  ------                    --------------  -----         \n",
            " 0   ORDER_NBR                 18739 non-null  int64         \n",
            " 1   EQUIPMENT_TYPE            17728 non-null  object        \n",
            " 2   CUSTOMER_MILES            18739 non-null  int64         \n",
            " 3   WEIGHT                    18739 non-null  int64         \n",
            " 4   ORDER_COST                18733 non-null  float64       \n",
            " 5   FIRST_PICK_ZIP            18739 non-null  object        \n",
            " 6   FIRST_PICK_EARLY_APPT     18479 non-null  datetime64[ns]\n",
            " 7   FIRST_PICK_LATE_APPT      18435 non-null  datetime64[ns]\n",
            " 8   LAST_DELIVERY_ZIP         18739 non-null  object        \n",
            " 9   LAST_DELIVERY_EARLY_APPT  18410 non-null  datetime64[ns]\n",
            " 10  LAST_DELIVERY_LATE_APPT   18353 non-null  datetime64[ns]\n",
            " 11  IS_HAZARDOUS              18739 non-null  object        \n",
            " 12  CREATED_DATE              18739 non-null  datetime64[ns]\n",
            "dtypes: datetime64[ns](5), float64(1), int64(3), object(4)\n",
            "memory usage: 1.9+ MB\n"
          ]
        }
      ],
      "source": [
        "SwiftData.info()"
      ]
    },
    {
      "cell_type": "markdown",
      "metadata": {
        "id": "o9suCFrV9uo1"
      },
      "source": [
        "Here we have Five Date Related columns"
      ]
    },
    {
      "cell_type": "code",
      "execution_count": null,
      "metadata": {
        "id": "G-gRdZBo9gKI"
      },
      "outputs": [],
      "source": [
        "Date_cols=list(SwiftData.select_dtypes(include = \"datetime\").columns)"
      ]
    },
    {
      "cell_type": "code",
      "execution_count": null,
      "metadata": {
        "id": "6WcuTZe2-tTQ"
      },
      "outputs": [],
      "source": [
        "# assigning int and removing Order_NBR code from int float cols to num_cols\n",
        "\n",
        "int_cols = list(SwiftData.select_dtypes(include = \"int\").columns)\n",
        "int_cols.remove(\"ORDER_NBR\")\n",
        "\n",
        "\n",
        "float_cols = list(SwiftData.select_dtypes(include = \"float\").columns)\n",
        "num_cols = int_cols+float_cols"
      ]
    },
    {
      "cell_type": "code",
      "execution_count": null,
      "metadata": {
        "colab": {
          "base_uri": "https://localhost:8080/"
        },
        "id": "tqnd5Jl8B8iA",
        "outputId": "56b0b41a-fddd-4534-af87-3384cc85c294"
      },
      "outputs": [
        {
          "output_type": "execute_result",
          "data": {
            "text/plain": [
              "['CUSTOMER_MILES', 'WEIGHT', 'ORDER_COST']"
            ]
          },
          "metadata": {},
          "execution_count": 309
        }
      ],
      "source": [
        "num_cols"
      ]
    },
    {
      "cell_type": "code",
      "execution_count": null,
      "metadata": {
        "id": "yzeEc6Rn-vnV"
      },
      "outputs": [],
      "source": [
        "cat_cols =  list(SwiftData.select_dtypes(include = \"object\").columns)\n",
        "cat_cols.append(\"ORDER_NBR\")\n",
        "\n",
        "cat_cols = list(cat_cols)"
      ]
    },
    {
      "cell_type": "code",
      "execution_count": null,
      "metadata": {
        "id": "vHEdQ3MaGU9T"
      },
      "outputs": [],
      "source": [
        "Cat_cols_vis=[\"EQUIPMENT_TYPE\",\"IS_HAZARDOUS\"]"
      ]
    },
    {
      "cell_type": "code",
      "execution_count": null,
      "metadata": {
        "colab": {
          "base_uri": "https://localhost:8080/"
        },
        "id": "RY7h57JQALtS",
        "outputId": "7313f833-9400-468c-cb97-33dfd36f8abe"
      },
      "outputs": [
        {
          "output_type": "execute_result",
          "data": {
            "text/plain": [
              "['EQUIPMENT_TYPE',\n",
              " 'FIRST_PICK_ZIP',\n",
              " 'LAST_DELIVERY_ZIP',\n",
              " 'IS_HAZARDOUS',\n",
              " 'ORDER_NBR']"
            ]
          },
          "metadata": {},
          "execution_count": 312
        }
      ],
      "source": [
        "cat_cols"
      ]
    },
    {
      "cell_type": "markdown",
      "metadata": {
        "id": "gC1byWnlN8aZ"
      },
      "source": [
        "***Type Conversion***"
      ]
    },
    {
      "cell_type": "code",
      "execution_count": null,
      "metadata": {
        "id": "3xVc9TDzANiU"
      },
      "outputs": [],
      "source": [
        "for i in cat_cols:\n",
        "    SwiftData[i] = SwiftData[i].astype(\"category\") \n",
        "    \n",
        "    \n",
        "for i in num_cols:\n",
        "    SwiftData[i] = SwiftData[i].astype(\"float\")\n"
      ]
    },
    {
      "cell_type": "markdown",
      "metadata": {
        "id": "W1cC1pbVtjV7"
      },
      "source": [
        "**Feature Extraction **\n",
        "\n",
        "As we have date related columns we can extract  some columns , by differencing some relevent columns"
      ]
    },
    {
      "cell_type": "code",
      "execution_count": null,
      "metadata": {
        "id": "B8_kEbw1yhdy"
      },
      "outputs": [],
      "source": [
        "SwiftData['Time_BETWEEN_EARLY'] = (SwiftData['LAST_DELIVERY_EARLY_APPT'] - SwiftData['FIRST_PICK_EARLY_APPT']).dt.total_seconds()/3600\n",
        "SwiftData['Time_BETWEEN_LATE'] = (SwiftData['LAST_DELIVERY_LATE_APPT'] - SwiftData['FIRST_PICK_LATE_APPT']).dt.total_seconds()/3600\n",
        "\n",
        "SwiftData['FIRST_PICK_DURATION'] = (SwiftData['FIRST_PICK_LATE_APPT'] - SwiftData['FIRST_PICK_EARLY_APPT']).dt.total_seconds() / 3600\n",
        "SwiftData['LAST_DELIVERY_DURATION'] = (SwiftData['LAST_DELIVERY_LATE_APPT'] - SwiftData['LAST_DELIVERY_EARLY_APPT']).dt.total_seconds() / 3600\n",
        "\n",
        "SwiftData['ORDER_PROCESSING_TIME'] = (SwiftData['FIRST_PICK_EARLY_APPT'] - SwiftData['CREATED_DATE']).dt.total_seconds() / 3600\n",
        "SwiftData['ORDER_DURATION'] = (SwiftData['LAST_DELIVERY_LATE_APPT'] - SwiftData['CREATED_DATE']).dt.total_seconds() / 3600\n",
        "\n",
        "\n"
      ]
    },
    {
      "cell_type": "code",
      "execution_count": null,
      "metadata": {
        "colab": {
          "base_uri": "https://localhost:8080/",
          "height": 357
        },
        "id": "uTFiTslG7oGb",
        "outputId": "e374a08e-3f3e-435e-e823-ef2dbabddf19"
      },
      "outputs": [
        {
          "output_type": "execute_result",
          "data": {
            "text/plain": [
              "    ORDER_NBR EQUIPMENT_TYPE  CUSTOMER_MILES   WEIGHT  ORDER_COST  \\\n",
              "0   535361133     53 FLATBED           802.0  42000.0        0.00   \n",
              "1  1499443993              V             0.0  40500.0      875.00   \n",
              "2  1058279607            NaN           774.0      0.0       88.14   \n",
              "3  2093496262              V             0.0  40500.0      875.00   \n",
              "4  2373724838              V             0.0  40500.0      875.00   \n",
              "\n",
              "  FIRST_PICK_ZIP FIRST_PICK_EARLY_APPT FIRST_PICK_LATE_APPT LAST_DELIVERY_ZIP  \\\n",
              "0          21224   2015-07-13 07:30:00  2015-07-13 15:00:00             62707   \n",
              "1        L1W 3H9   2015-07-06 14:00:00  2015-07-06 14:00:00             13619   \n",
              "2          46037   2015-07-01 08:00:00  2015-07-02 17:00:00             73107   \n",
              "3        L1W 3H9   2015-07-07 14:00:00  2015-07-07 14:00:00             13619   \n",
              "4        L1W 3H9   2015-07-08 14:00:00  2015-07-08 14:00:00             13619   \n",
              "\n",
              "  LAST_DELIVERY_EARLY_APPT LAST_DELIVERY_LATE_APPT IS_HAZARDOUS  \\\n",
              "0      2015-07-14 08:00:00     2015-07-14 16:00:00            N   \n",
              "1      2015-07-07 07:00:00     2015-07-07 16:00:00            N   \n",
              "2      2015-07-07 08:00:00     2015-07-07 17:00:00            N   \n",
              "3      2015-07-08 07:00:00     2015-07-08 16:00:00            N   \n",
              "4      2015-07-09 07:00:00     2015-07-09 16:00:00            N   \n",
              "\n",
              "         CREATED_DATE  Time_BETWEEN_EARLY  Time_BETWEEN_LATE  \\\n",
              "0 2015-07-01 10:22:00                24.5               25.0   \n",
              "1 2015-07-02 10:37:00                17.0               26.0   \n",
              "2 2015-07-01 15:05:00               144.0              120.0   \n",
              "3 2015-07-02 10:38:00                17.0               26.0   \n",
              "4 2015-07-02 11:16:00                17.0               26.0   \n",
              "\n",
              "   FIRST_PICK_DURATION  LAST_DELIVERY_DURATION  ORDER_PROCESSING_TIME  \\\n",
              "0                  7.5                     8.0             285.133333   \n",
              "1                  0.0                     9.0              99.383333   \n",
              "2                 33.0                     9.0              -7.083333   \n",
              "3                  0.0                     9.0             123.366667   \n",
              "4                  0.0                     9.0             146.733333   \n",
              "\n",
              "   ORDER_DURATION  \n",
              "0      317.633333  \n",
              "1      125.383333  \n",
              "2      145.916667  \n",
              "3      149.366667  \n",
              "4      172.733333  "
            ],
            "text/html": [
              "\n",
              "  <div id=\"df-493ac3b2-f1d5-490c-b6d1-edb6f451a513\">\n",
              "    <div class=\"colab-df-container\">\n",
              "      <div>\n",
              "<style scoped>\n",
              "    .dataframe tbody tr th:only-of-type {\n",
              "        vertical-align: middle;\n",
              "    }\n",
              "\n",
              "    .dataframe tbody tr th {\n",
              "        vertical-align: top;\n",
              "    }\n",
              "\n",
              "    .dataframe thead th {\n",
              "        text-align: right;\n",
              "    }\n",
              "</style>\n",
              "<table border=\"1\" class=\"dataframe\">\n",
              "  <thead>\n",
              "    <tr style=\"text-align: right;\">\n",
              "      <th></th>\n",
              "      <th>ORDER_NBR</th>\n",
              "      <th>EQUIPMENT_TYPE</th>\n",
              "      <th>CUSTOMER_MILES</th>\n",
              "      <th>WEIGHT</th>\n",
              "      <th>ORDER_COST</th>\n",
              "      <th>FIRST_PICK_ZIP</th>\n",
              "      <th>FIRST_PICK_EARLY_APPT</th>\n",
              "      <th>FIRST_PICK_LATE_APPT</th>\n",
              "      <th>LAST_DELIVERY_ZIP</th>\n",
              "      <th>LAST_DELIVERY_EARLY_APPT</th>\n",
              "      <th>LAST_DELIVERY_LATE_APPT</th>\n",
              "      <th>IS_HAZARDOUS</th>\n",
              "      <th>CREATED_DATE</th>\n",
              "      <th>Time_BETWEEN_EARLY</th>\n",
              "      <th>Time_BETWEEN_LATE</th>\n",
              "      <th>FIRST_PICK_DURATION</th>\n",
              "      <th>LAST_DELIVERY_DURATION</th>\n",
              "      <th>ORDER_PROCESSING_TIME</th>\n",
              "      <th>ORDER_DURATION</th>\n",
              "    </tr>\n",
              "  </thead>\n",
              "  <tbody>\n",
              "    <tr>\n",
              "      <th>0</th>\n",
              "      <td>535361133</td>\n",
              "      <td>53 FLATBED</td>\n",
              "      <td>802.0</td>\n",
              "      <td>42000.0</td>\n",
              "      <td>0.00</td>\n",
              "      <td>21224</td>\n",
              "      <td>2015-07-13 07:30:00</td>\n",
              "      <td>2015-07-13 15:00:00</td>\n",
              "      <td>62707</td>\n",
              "      <td>2015-07-14 08:00:00</td>\n",
              "      <td>2015-07-14 16:00:00</td>\n",
              "      <td>N</td>\n",
              "      <td>2015-07-01 10:22:00</td>\n",
              "      <td>24.5</td>\n",
              "      <td>25.0</td>\n",
              "      <td>7.5</td>\n",
              "      <td>8.0</td>\n",
              "      <td>285.133333</td>\n",
              "      <td>317.633333</td>\n",
              "    </tr>\n",
              "    <tr>\n",
              "      <th>1</th>\n",
              "      <td>1499443993</td>\n",
              "      <td>V</td>\n",
              "      <td>0.0</td>\n",
              "      <td>40500.0</td>\n",
              "      <td>875.00</td>\n",
              "      <td>L1W 3H9</td>\n",
              "      <td>2015-07-06 14:00:00</td>\n",
              "      <td>2015-07-06 14:00:00</td>\n",
              "      <td>13619</td>\n",
              "      <td>2015-07-07 07:00:00</td>\n",
              "      <td>2015-07-07 16:00:00</td>\n",
              "      <td>N</td>\n",
              "      <td>2015-07-02 10:37:00</td>\n",
              "      <td>17.0</td>\n",
              "      <td>26.0</td>\n",
              "      <td>0.0</td>\n",
              "      <td>9.0</td>\n",
              "      <td>99.383333</td>\n",
              "      <td>125.383333</td>\n",
              "    </tr>\n",
              "    <tr>\n",
              "      <th>2</th>\n",
              "      <td>1058279607</td>\n",
              "      <td>NaN</td>\n",
              "      <td>774.0</td>\n",
              "      <td>0.0</td>\n",
              "      <td>88.14</td>\n",
              "      <td>46037</td>\n",
              "      <td>2015-07-01 08:00:00</td>\n",
              "      <td>2015-07-02 17:00:00</td>\n",
              "      <td>73107</td>\n",
              "      <td>2015-07-07 08:00:00</td>\n",
              "      <td>2015-07-07 17:00:00</td>\n",
              "      <td>N</td>\n",
              "      <td>2015-07-01 15:05:00</td>\n",
              "      <td>144.0</td>\n",
              "      <td>120.0</td>\n",
              "      <td>33.0</td>\n",
              "      <td>9.0</td>\n",
              "      <td>-7.083333</td>\n",
              "      <td>145.916667</td>\n",
              "    </tr>\n",
              "    <tr>\n",
              "      <th>3</th>\n",
              "      <td>2093496262</td>\n",
              "      <td>V</td>\n",
              "      <td>0.0</td>\n",
              "      <td>40500.0</td>\n",
              "      <td>875.00</td>\n",
              "      <td>L1W 3H9</td>\n",
              "      <td>2015-07-07 14:00:00</td>\n",
              "      <td>2015-07-07 14:00:00</td>\n",
              "      <td>13619</td>\n",
              "      <td>2015-07-08 07:00:00</td>\n",
              "      <td>2015-07-08 16:00:00</td>\n",
              "      <td>N</td>\n",
              "      <td>2015-07-02 10:38:00</td>\n",
              "      <td>17.0</td>\n",
              "      <td>26.0</td>\n",
              "      <td>0.0</td>\n",
              "      <td>9.0</td>\n",
              "      <td>123.366667</td>\n",
              "      <td>149.366667</td>\n",
              "    </tr>\n",
              "    <tr>\n",
              "      <th>4</th>\n",
              "      <td>2373724838</td>\n",
              "      <td>V</td>\n",
              "      <td>0.0</td>\n",
              "      <td>40500.0</td>\n",
              "      <td>875.00</td>\n",
              "      <td>L1W 3H9</td>\n",
              "      <td>2015-07-08 14:00:00</td>\n",
              "      <td>2015-07-08 14:00:00</td>\n",
              "      <td>13619</td>\n",
              "      <td>2015-07-09 07:00:00</td>\n",
              "      <td>2015-07-09 16:00:00</td>\n",
              "      <td>N</td>\n",
              "      <td>2015-07-02 11:16:00</td>\n",
              "      <td>17.0</td>\n",
              "      <td>26.0</td>\n",
              "      <td>0.0</td>\n",
              "      <td>9.0</td>\n",
              "      <td>146.733333</td>\n",
              "      <td>172.733333</td>\n",
              "    </tr>\n",
              "  </tbody>\n",
              "</table>\n",
              "</div>\n",
              "      <button class=\"colab-df-convert\" onclick=\"convertToInteractive('df-493ac3b2-f1d5-490c-b6d1-edb6f451a513')\"\n",
              "              title=\"Convert this dataframe to an interactive table.\"\n",
              "              style=\"display:none;\">\n",
              "        \n",
              "  <svg xmlns=\"http://www.w3.org/2000/svg\" height=\"24px\"viewBox=\"0 0 24 24\"\n",
              "       width=\"24px\">\n",
              "    <path d=\"M0 0h24v24H0V0z\" fill=\"none\"/>\n",
              "    <path d=\"M18.56 5.44l.94 2.06.94-2.06 2.06-.94-2.06-.94-.94-2.06-.94 2.06-2.06.94zm-11 1L8.5 8.5l.94-2.06 2.06-.94-2.06-.94L8.5 2.5l-.94 2.06-2.06.94zm10 10l.94 2.06.94-2.06 2.06-.94-2.06-.94-.94-2.06-.94 2.06-2.06.94z\"/><path d=\"M17.41 7.96l-1.37-1.37c-.4-.4-.92-.59-1.43-.59-.52 0-1.04.2-1.43.59L10.3 9.45l-7.72 7.72c-.78.78-.78 2.05 0 2.83L4 21.41c.39.39.9.59 1.41.59.51 0 1.02-.2 1.41-.59l7.78-7.78 2.81-2.81c.8-.78.8-2.07 0-2.86zM5.41 20L4 18.59l7.72-7.72 1.47 1.35L5.41 20z\"/>\n",
              "  </svg>\n",
              "      </button>\n",
              "      \n",
              "  <style>\n",
              "    .colab-df-container {\n",
              "      display:flex;\n",
              "      flex-wrap:wrap;\n",
              "      gap: 12px;\n",
              "    }\n",
              "\n",
              "    .colab-df-convert {\n",
              "      background-color: #E8F0FE;\n",
              "      border: none;\n",
              "      border-radius: 50%;\n",
              "      cursor: pointer;\n",
              "      display: none;\n",
              "      fill: #1967D2;\n",
              "      height: 32px;\n",
              "      padding: 0 0 0 0;\n",
              "      width: 32px;\n",
              "    }\n",
              "\n",
              "    .colab-df-convert:hover {\n",
              "      background-color: #E2EBFA;\n",
              "      box-shadow: 0px 1px 2px rgba(60, 64, 67, 0.3), 0px 1px 3px 1px rgba(60, 64, 67, 0.15);\n",
              "      fill: #174EA6;\n",
              "    }\n",
              "\n",
              "    [theme=dark] .colab-df-convert {\n",
              "      background-color: #3B4455;\n",
              "      fill: #D2E3FC;\n",
              "    }\n",
              "\n",
              "    [theme=dark] .colab-df-convert:hover {\n",
              "      background-color: #434B5C;\n",
              "      box-shadow: 0px 1px 3px 1px rgba(0, 0, 0, 0.15);\n",
              "      filter: drop-shadow(0px 1px 2px rgba(0, 0, 0, 0.3));\n",
              "      fill: #FFFFFF;\n",
              "    }\n",
              "  </style>\n",
              "\n",
              "      <script>\n",
              "        const buttonEl =\n",
              "          document.querySelector('#df-493ac3b2-f1d5-490c-b6d1-edb6f451a513 button.colab-df-convert');\n",
              "        buttonEl.style.display =\n",
              "          google.colab.kernel.accessAllowed ? 'block' : 'none';\n",
              "\n",
              "        async function convertToInteractive(key) {\n",
              "          const element = document.querySelector('#df-493ac3b2-f1d5-490c-b6d1-edb6f451a513');\n",
              "          const dataTable =\n",
              "            await google.colab.kernel.invokeFunction('convertToInteractive',\n",
              "                                                     [key], {});\n",
              "          if (!dataTable) return;\n",
              "\n",
              "          const docLinkHtml = 'Like what you see? Visit the ' +\n",
              "            '<a target=\"_blank\" href=https://colab.research.google.com/notebooks/data_table.ipynb>data table notebook</a>'\n",
              "            + ' to learn more about interactive tables.';\n",
              "          element.innerHTML = '';\n",
              "          dataTable['output_type'] = 'display_data';\n",
              "          await google.colab.output.renderOutput(dataTable, element);\n",
              "          const docLink = document.createElement('div');\n",
              "          docLink.innerHTML = docLinkHtml;\n",
              "          element.appendChild(docLink);\n",
              "        }\n",
              "      </script>\n",
              "    </div>\n",
              "  </div>\n",
              "  "
            ]
          },
          "metadata": {},
          "execution_count": 315
        }
      ],
      "source": [
        "SwiftData.head()"
      ]
    },
    {
      "cell_type": "code",
      "execution_count": null,
      "metadata": {
        "colab": {
          "base_uri": "https://localhost:8080/"
        },
        "id": "bO8di9NkFDI9",
        "outputId": "53da7a64-13b3-4f22-b430-190af20c6d4d"
      },
      "outputs": [
        {
          "output_type": "execute_result",
          "data": {
            "text/plain": [
              "ORDER_NBR                         category\n",
              "EQUIPMENT_TYPE                    category\n",
              "CUSTOMER_MILES                     float64\n",
              "WEIGHT                             float64\n",
              "ORDER_COST                         float64\n",
              "FIRST_PICK_ZIP                    category\n",
              "FIRST_PICK_EARLY_APPT       datetime64[ns]\n",
              "FIRST_PICK_LATE_APPT        datetime64[ns]\n",
              "LAST_DELIVERY_ZIP                 category\n",
              "LAST_DELIVERY_EARLY_APPT    datetime64[ns]\n",
              "LAST_DELIVERY_LATE_APPT     datetime64[ns]\n",
              "IS_HAZARDOUS                      category\n",
              "CREATED_DATE                datetime64[ns]\n",
              "Time_BETWEEN_EARLY                 float64\n",
              "Time_BETWEEN_LATE                  float64\n",
              "FIRST_PICK_DURATION                float64\n",
              "LAST_DELIVERY_DURATION             float64\n",
              "ORDER_PROCESSING_TIME              float64\n",
              "ORDER_DURATION                     float64\n",
              "dtype: object"
            ]
          },
          "metadata": {},
          "execution_count": 316
        }
      ],
      "source": [
        "SwiftData.dtypes"
      ]
    },
    {
      "cell_type": "code",
      "execution_count": null,
      "metadata": {
        "colab": {
          "base_uri": "https://localhost:8080/",
          "height": 364
        },
        "id": "Dhrmvy9b7V20",
        "outputId": "c0ebbc32-2161-4f13-a17f-74ab268eeb1c"
      },
      "outputs": [
        {
          "output_type": "execute_result",
          "data": {
            "text/plain": [
              "       CUSTOMER_MILES         WEIGHT    ORDER_COST  Time_BETWEEN_EARLY  \\\n",
              "count    18739.000000   18739.000000  18733.000000        18397.000000   \n",
              "mean       588.220556   25219.585837    954.230941           19.794138   \n",
              "std        511.968568   16309.867000    938.818390         3125.046500   \n",
              "min          0.000000       0.000000      0.000000      -131457.000000   \n",
              "25%        254.000000    8000.000000    400.000000           13.000000   \n",
              "50%        436.000000   28192.000000    700.000000           23.500000   \n",
              "75%        716.000000   42000.000000   1300.000000           43.000000   \n",
              "max       3733.000000  300000.000000   8000.000000       315586.983333   \n",
              "\n",
              "       Time_BETWEEN_LATE  FIRST_PICK_DURATION  LAST_DELIVERY_DURATION  \\\n",
              "count       18337.000000         18435.000000            18353.000000   \n",
              "mean           63.019438             8.698098               52.037143   \n",
              "std          3415.717565           323.866426             3014.498423   \n",
              "min        -87576.000000             0.000000                0.000000   \n",
              "25%            10.000000             0.000000                0.000000   \n",
              "50%            20.000000             0.000000                0.000000   \n",
              "75%            41.000000             8.000000                7.000000   \n",
              "max        315599.000000         43853.000000           315585.000000   \n",
              "\n",
              "       ORDER_PROCESSING_TIME  ORDER_DURATION  \n",
              "count           18479.000000    18353.000000  \n",
              "mean              139.022110      210.725312  \n",
              "std               176.981413     3403.287150  \n",
              "min             -6887.466667   -87528.400000  \n",
              "25%                37.850000       81.033333  \n",
              "50%               107.650000      140.400000  \n",
              "75%               168.650000      199.983333  \n",
              "max              1731.416667   315722.416667  "
            ],
            "text/html": [
              "\n",
              "  <div id=\"df-08cc28d3-6548-4841-9153-bc0759cf0259\">\n",
              "    <div class=\"colab-df-container\">\n",
              "      <div>\n",
              "<style scoped>\n",
              "    .dataframe tbody tr th:only-of-type {\n",
              "        vertical-align: middle;\n",
              "    }\n",
              "\n",
              "    .dataframe tbody tr th {\n",
              "        vertical-align: top;\n",
              "    }\n",
              "\n",
              "    .dataframe thead th {\n",
              "        text-align: right;\n",
              "    }\n",
              "</style>\n",
              "<table border=\"1\" class=\"dataframe\">\n",
              "  <thead>\n",
              "    <tr style=\"text-align: right;\">\n",
              "      <th></th>\n",
              "      <th>CUSTOMER_MILES</th>\n",
              "      <th>WEIGHT</th>\n",
              "      <th>ORDER_COST</th>\n",
              "      <th>Time_BETWEEN_EARLY</th>\n",
              "      <th>Time_BETWEEN_LATE</th>\n",
              "      <th>FIRST_PICK_DURATION</th>\n",
              "      <th>LAST_DELIVERY_DURATION</th>\n",
              "      <th>ORDER_PROCESSING_TIME</th>\n",
              "      <th>ORDER_DURATION</th>\n",
              "    </tr>\n",
              "  </thead>\n",
              "  <tbody>\n",
              "    <tr>\n",
              "      <th>count</th>\n",
              "      <td>18739.000000</td>\n",
              "      <td>18739.000000</td>\n",
              "      <td>18733.000000</td>\n",
              "      <td>18397.000000</td>\n",
              "      <td>18337.000000</td>\n",
              "      <td>18435.000000</td>\n",
              "      <td>18353.000000</td>\n",
              "      <td>18479.000000</td>\n",
              "      <td>18353.000000</td>\n",
              "    </tr>\n",
              "    <tr>\n",
              "      <th>mean</th>\n",
              "      <td>588.220556</td>\n",
              "      <td>25219.585837</td>\n",
              "      <td>954.230941</td>\n",
              "      <td>19.794138</td>\n",
              "      <td>63.019438</td>\n",
              "      <td>8.698098</td>\n",
              "      <td>52.037143</td>\n",
              "      <td>139.022110</td>\n",
              "      <td>210.725312</td>\n",
              "    </tr>\n",
              "    <tr>\n",
              "      <th>std</th>\n",
              "      <td>511.968568</td>\n",
              "      <td>16309.867000</td>\n",
              "      <td>938.818390</td>\n",
              "      <td>3125.046500</td>\n",
              "      <td>3415.717565</td>\n",
              "      <td>323.866426</td>\n",
              "      <td>3014.498423</td>\n",
              "      <td>176.981413</td>\n",
              "      <td>3403.287150</td>\n",
              "    </tr>\n",
              "    <tr>\n",
              "      <th>min</th>\n",
              "      <td>0.000000</td>\n",
              "      <td>0.000000</td>\n",
              "      <td>0.000000</td>\n",
              "      <td>-131457.000000</td>\n",
              "      <td>-87576.000000</td>\n",
              "      <td>0.000000</td>\n",
              "      <td>0.000000</td>\n",
              "      <td>-6887.466667</td>\n",
              "      <td>-87528.400000</td>\n",
              "    </tr>\n",
              "    <tr>\n",
              "      <th>25%</th>\n",
              "      <td>254.000000</td>\n",
              "      <td>8000.000000</td>\n",
              "      <td>400.000000</td>\n",
              "      <td>13.000000</td>\n",
              "      <td>10.000000</td>\n",
              "      <td>0.000000</td>\n",
              "      <td>0.000000</td>\n",
              "      <td>37.850000</td>\n",
              "      <td>81.033333</td>\n",
              "    </tr>\n",
              "    <tr>\n",
              "      <th>50%</th>\n",
              "      <td>436.000000</td>\n",
              "      <td>28192.000000</td>\n",
              "      <td>700.000000</td>\n",
              "      <td>23.500000</td>\n",
              "      <td>20.000000</td>\n",
              "      <td>0.000000</td>\n",
              "      <td>0.000000</td>\n",
              "      <td>107.650000</td>\n",
              "      <td>140.400000</td>\n",
              "    </tr>\n",
              "    <tr>\n",
              "      <th>75%</th>\n",
              "      <td>716.000000</td>\n",
              "      <td>42000.000000</td>\n",
              "      <td>1300.000000</td>\n",
              "      <td>43.000000</td>\n",
              "      <td>41.000000</td>\n",
              "      <td>8.000000</td>\n",
              "      <td>7.000000</td>\n",
              "      <td>168.650000</td>\n",
              "      <td>199.983333</td>\n",
              "    </tr>\n",
              "    <tr>\n",
              "      <th>max</th>\n",
              "      <td>3733.000000</td>\n",
              "      <td>300000.000000</td>\n",
              "      <td>8000.000000</td>\n",
              "      <td>315586.983333</td>\n",
              "      <td>315599.000000</td>\n",
              "      <td>43853.000000</td>\n",
              "      <td>315585.000000</td>\n",
              "      <td>1731.416667</td>\n",
              "      <td>315722.416667</td>\n",
              "    </tr>\n",
              "  </tbody>\n",
              "</table>\n",
              "</div>\n",
              "      <button class=\"colab-df-convert\" onclick=\"convertToInteractive('df-08cc28d3-6548-4841-9153-bc0759cf0259')\"\n",
              "              title=\"Convert this dataframe to an interactive table.\"\n",
              "              style=\"display:none;\">\n",
              "        \n",
              "  <svg xmlns=\"http://www.w3.org/2000/svg\" height=\"24px\"viewBox=\"0 0 24 24\"\n",
              "       width=\"24px\">\n",
              "    <path d=\"M0 0h24v24H0V0z\" fill=\"none\"/>\n",
              "    <path d=\"M18.56 5.44l.94 2.06.94-2.06 2.06-.94-2.06-.94-.94-2.06-.94 2.06-2.06.94zm-11 1L8.5 8.5l.94-2.06 2.06-.94-2.06-.94L8.5 2.5l-.94 2.06-2.06.94zm10 10l.94 2.06.94-2.06 2.06-.94-2.06-.94-.94-2.06-.94 2.06-2.06.94z\"/><path d=\"M17.41 7.96l-1.37-1.37c-.4-.4-.92-.59-1.43-.59-.52 0-1.04.2-1.43.59L10.3 9.45l-7.72 7.72c-.78.78-.78 2.05 0 2.83L4 21.41c.39.39.9.59 1.41.59.51 0 1.02-.2 1.41-.59l7.78-7.78 2.81-2.81c.8-.78.8-2.07 0-2.86zM5.41 20L4 18.59l7.72-7.72 1.47 1.35L5.41 20z\"/>\n",
              "  </svg>\n",
              "      </button>\n",
              "      \n",
              "  <style>\n",
              "    .colab-df-container {\n",
              "      display:flex;\n",
              "      flex-wrap:wrap;\n",
              "      gap: 12px;\n",
              "    }\n",
              "\n",
              "    .colab-df-convert {\n",
              "      background-color: #E8F0FE;\n",
              "      border: none;\n",
              "      border-radius: 50%;\n",
              "      cursor: pointer;\n",
              "      display: none;\n",
              "      fill: #1967D2;\n",
              "      height: 32px;\n",
              "      padding: 0 0 0 0;\n",
              "      width: 32px;\n",
              "    }\n",
              "\n",
              "    .colab-df-convert:hover {\n",
              "      background-color: #E2EBFA;\n",
              "      box-shadow: 0px 1px 2px rgba(60, 64, 67, 0.3), 0px 1px 3px 1px rgba(60, 64, 67, 0.15);\n",
              "      fill: #174EA6;\n",
              "    }\n",
              "\n",
              "    [theme=dark] .colab-df-convert {\n",
              "      background-color: #3B4455;\n",
              "      fill: #D2E3FC;\n",
              "    }\n",
              "\n",
              "    [theme=dark] .colab-df-convert:hover {\n",
              "      background-color: #434B5C;\n",
              "      box-shadow: 0px 1px 3px 1px rgba(0, 0, 0, 0.15);\n",
              "      filter: drop-shadow(0px 1px 2px rgba(0, 0, 0, 0.3));\n",
              "      fill: #FFFFFF;\n",
              "    }\n",
              "  </style>\n",
              "\n",
              "      <script>\n",
              "        const buttonEl =\n",
              "          document.querySelector('#df-08cc28d3-6548-4841-9153-bc0759cf0259 button.colab-df-convert');\n",
              "        buttonEl.style.display =\n",
              "          google.colab.kernel.accessAllowed ? 'block' : 'none';\n",
              "\n",
              "        async function convertToInteractive(key) {\n",
              "          const element = document.querySelector('#df-08cc28d3-6548-4841-9153-bc0759cf0259');\n",
              "          const dataTable =\n",
              "            await google.colab.kernel.invokeFunction('convertToInteractive',\n",
              "                                                     [key], {});\n",
              "          if (!dataTable) return;\n",
              "\n",
              "          const docLinkHtml = 'Like what you see? Visit the ' +\n",
              "            '<a target=\"_blank\" href=https://colab.research.google.com/notebooks/data_table.ipynb>data table notebook</a>'\n",
              "            + ' to learn more about interactive tables.';\n",
              "          element.innerHTML = '';\n",
              "          dataTable['output_type'] = 'display_data';\n",
              "          await google.colab.output.renderOutput(dataTable, element);\n",
              "          const docLink = document.createElement('div');\n",
              "          docLink.innerHTML = docLinkHtml;\n",
              "          element.appendChild(docLink);\n",
              "        }\n",
              "      </script>\n",
              "    </div>\n",
              "  </div>\n",
              "  "
            ]
          },
          "metadata": {},
          "execution_count": 317
        }
      ],
      "source": [
        "SwiftData.describe()"
      ]
    },
    {
      "cell_type": "code",
      "execution_count": null,
      "metadata": {
        "colab": {
          "base_uri": "https://localhost:8080/"
        },
        "id": "pQGW628dUFjE",
        "outputId": "20b6b7b3-5dc7-4a91-9ed9-1a25296fe817"
      },
      "outputs": [
        {
          "output_type": "execute_result",
          "data": {
            "text/plain": [
              "CUSTOMER_MILES     -439.0\n",
              "WEIGHT           -43000.0\n",
              "ORDER_COST         -950.0\n",
              "dtype: float64"
            ]
          },
          "metadata": {},
          "execution_count": 318
        }
      ],
      "source": [
        "Q1=SwiftData[num_cols].quantile(0.25)\n",
        "Q3=SwiftData[num_cols].quantile(0.75)\n",
        "IQR=Q3-Q1\n",
        "\n",
        "lower_limit=Q1-1.5*IQR\n",
        "Upper_limit=Q3+1.5*IQR\n",
        "lower_limit"
      ]
    },
    {
      "cell_type": "markdown",
      "metadata": {
        "id": "EmTXsTuBFsQd"
      },
      "source": [
        "\n",
        "***Exploratory Data Analysis***"
      ]
    },
    {
      "cell_type": "code",
      "execution_count": null,
      "metadata": {
        "id": "I9MYgs77FHC3"
      },
      "outputs": [],
      "source": [
        "import matplotlib.pyplot as plt\n",
        "import seaborn as sns"
      ]
    },
    {
      "cell_type": "code",
      "execution_count": null,
      "metadata": {
        "colab": {
          "base_uri": "https://localhost:8080/",
          "height": 472
        },
        "id": "phXjU_psF48S",
        "outputId": "770a2d32-cd94-4e49-a55e-efb43034dbe7"
      },
      "outputs": [
        {
          "output_type": "display_data",
          "data": {
            "text/plain": [
              "<Figure size 640x480 with 1 Axes>"
            ],
            "image/png": "[encoded data removed]"
          },
          "metadata": {}
        }
      ],
      "source": [
        "#1. How is the shipment cost distributed?\n",
        "# 1. Histogram to show the distribution of shipment cost\n",
        "plt.hist(SwiftData['ORDER_COST'])\n",
        "plt.title('Distribution of Shipment Cost')\n",
        "plt.xlabel('Shipment Cost')\n",
        "plt.ylabel('Count')\n",
        "plt.show()\n"
      ]
    },
    {
      "cell_type": "markdown",
      "metadata": {
        "id": "fbAmNibwioT8"
      },
      "source": [
        "\n",
        "*Insights*:\n",
        "\n",
        "*If we see the distribution of ORDER_COST  we can say that distribution is right skewed that does not followed normal distribution\n",
        "\n",
        "Most of order_cost is less than 2000\n",
        "\n"
      ]
    },
    {
      "cell_type": "code",
      "execution_count": null,
      "metadata": {
        "colab": {
          "base_uri": "https://localhost:8080/",
          "height": 472
        },
        "id": "P8gdG5Dh-GCg",
        "outputId": "6e15f28b-6d8c-4f23-9d13-27fa7be0fd76"
      },
      "outputs": [
        {
          "output_type": "display_data",
          "data": {
            "text/plain": [
              "<Figure size 640x480 with 1 Axes>"
            ],
            "image/png": "[encoded data removed]"
          },
          "metadata": {}
        }
      ],
      "source": [
        "#Does the shipment cost depend on the distance?\n",
        "# Scatter plot to show the relationship between distance and shipment cost\n",
        "sns.scatterplot(x='CUSTOMER_MILES', y='ORDER_COST', data=SwiftData)\n",
        "plt.title('Shipment Cost vs. Distance')\n",
        "plt.show()\n"
      ]
    },
    {
      "cell_type": "markdown",
      "metadata": {
        "id": "ZMe-NrjolrnB"
      },
      "source": [
        "**Insights**: \n",
        "Strength of relationship\n",
        "\n",
        "Direction of relationship\n",
        "\n",
        " \n",
        " \n",
        "\n",
        "---\n",
        "\n"
      ]
    },
    {
      "cell_type": "code",
      "execution_count": null,
      "metadata": {
        "colab": {
          "base_uri": "https://localhost:8080/",
          "height": 472
        },
        "id": "883cGgpu-vwC",
        "outputId": "d670daf0-6277-4184-95a0-e04a8e1fccee"
      },
      "outputs": [
        {
          "output_type": "display_data",
          "data": {
            "text/plain": [
              "<Figure size 640x480 with 1 Axes>"
            ],
            "image/png": "[encoded data removed]"
          },
          "metadata": {}
        }
      ],
      "source": [
        "# 3. Scatter plot with regression line to show the relationship between weight and shipment cost\n",
        "sns.regplot(x='WEIGHT', y='ORDER_COST', data=SwiftData)\n",
        "plt.title('Shipment Cost vs. Weight')\n",
        "plt.show()\n",
        "\n"
      ]
    },
    {
      "cell_type": "code",
      "execution_count": null,
      "metadata": {
        "colab": {
          "base_uri": "https://localhost:8080/"
        },
        "id": "KN1tbQVWyUW4",
        "outputId": "50b43e9a-1d17-4143-a6c7-a0f8af569060"
      },
      "outputs": [
        {
          "output_type": "stream",
          "name": "stdout",
          "text": [
            "ANOVA Test Results:\n",
            "Statistic: nan\n",
            "P-value: nan\n",
            "There is no significant difference in shipment costs between sources and destinations.\n"
          ]
        }
      ],
      "source": [
        "import scipy.stats as stats\n",
        "\n",
        "# Extract the shipment cost column and the source/destination columns from the DataFrame\n",
        "shipment_cost = SwiftData['ORDER_COST']\n",
        "source = SwiftData['FIRST_PICK_ZIP']\n",
        "destination = SwiftData['LAST_DELIVERY_ZIP']\n",
        "\n",
        "# Perform the ANOVA test\n",
        "statistic, p_value = stats.f_oneway(shipment_cost[source == 'Source A'], \n",
        "                                    shipment_cost[source == 'Source B'], \n",
        "                                    shipment_cost[source == 'Source C'])\n",
        "\n",
        "# Output the results\n",
        "print(\"ANOVA Test Results:\")\n",
        "print(\"Statistic:\", statistic)\n",
        "print(\"P-value:\", p_value)\n",
        "\n",
        "# Check if there is a significant difference\n",
        "alpha = 0.05  # Set the significance level\n",
        "if p_value < alpha:\n",
        "    print(\"There is a significant difference in shipment costs between sources and destinations.\")\n",
        "else:\n",
        "    print(\"There is no significant difference in shipment costs between sources and destinations.\")\n"
      ]
    },
    {
      "cell_type": "code",
      "execution_count": null,
      "metadata": {
        "colab": {
          "base_uri": "https://localhost:8080/",
          "height": 472
        },
        "id": "Fvm3WgWT_YtQ",
        "outputId": "9103f398-9db7-4be1-c9ea-0311a3982a54"
      },
      "outputs": [
        {
          "output_type": "display_data",
          "data": {
            "text/plain": [
              "<Figure size 640x480 with 1 Axes>"
            ],
            "image/png": "[encoded data removed]"
          },
          "metadata": {}
        }
      ],
      "source": [
        "# 5. Box plot to compare shipment cost for hazardous and non-hazardous items\n",
        "sns.boxplot(x='IS_HAZARDOUS', y='ORDER_COST', data=SwiftData)\n",
        "plt.title('Shipment Cost by Hazardous Status')\n",
        "plt.show()\n"
      ]
    },
    {
      "cell_type": "code",
      "execution_count": null,
      "metadata": {
        "colab": {
          "base_uri": "https://localhost:8080/",
          "height": 428
        },
        "id": "ieS5EBt2AABT",
        "outputId": "f4173e13-0037-4803-a18f-a5721e990f56"
      },
      "outputs": [
        {
          "output_type": "display_data",
          "data": {
            "text/plain": [
              "<Figure size 640x480 with 1 Axes>"
            ],
            "image/png": "[encoded data removed]"
          },
          "metadata": {}
        }
      ],
      "source": [
        "labels = list(SwiftData[\"IS_HAZARDOUS\"].value_counts(ascending = True).index)\n",
        "values = list(SwiftData[\"IS_HAZARDOUS\"].value_counts(ascending = True).values)\n",
        "        \n",
        "plt.pie(values, labels=labels, autopct='%1.1f%%', startangle=90)\n",
        "# set the title for the pie chart\n",
        "plt.title(\"Percentage of Hazardous vs Non-Hazardous Shipments\")\n",
        "plt.show()"
      ]
    },
    {
      "cell_type": "code",
      "source": [
        "plt.figure(figsize=(40,10))\n",
        "order = SwiftData[\"EQUIPMENT_TYPE\"].value_counts(normalize=True).sort_values(ascending=False).index\n",
        "sns.countplot(data=SwiftData, x=\"EQUIPMENT_TYPE\", order=order)\n",
        "\n",
        "plt.xticks(fontsize=17)\n",
        "plt.yticks(fontsize=20)\n",
        "\n",
        "plt.xlabel(\"EQUIPMENT_TYPE\",fontdict = {'size':25})\n",
        "plt.ylabel(\"count\",fontdict = {'size':25})\n",
        "plt.show()"
      ],
      "metadata": {
        "colab": {
          "base_uri": "https://localhost:8080/",
          "height": 345
        },
        "id": "uLgqvMqGI41d",
        "outputId": "ef94b213-abf9-4211-8919-178b9804ad14"
      },
      "execution_count": null,
      "outputs": [
        {
          "output_type": "display_data",
          "data": {
            "text/plain": [
              "<Figure size 4000x1000 with 1 Axes>"
            ],
            "image/png": "[encoded data removed]"
          },
          "metadata": {}
        }
      ]
    },
    {
      "cell_type": "markdown",
      "source": [
        "# We have more equipment type is V "
      ],
      "metadata": {
        "id": "4Sj4JzYtQfs5"
      }
    },
    {
      "cell_type": "code",
      "source": [
        "is_hazardous_yes = SwiftData[SwiftData[\"IS_HAZARDOUS\"]==\"Y\"]"
      ],
      "metadata": {
        "id": "iB-cd4IoJX08"
      },
      "execution_count": null,
      "outputs": []
    },
    {
      "cell_type": "code",
      "source": [
        "is_hazardous_yes.nunique().sort_values(ascending=False)"
      ],
      "metadata": {
        "colab": {
          "base_uri": "https://localhost:8080/"
        },
        "id": "F7q0XRBYKQzf",
        "outputId": "2db083dd-e2bf-46f8-a92f-4b9fb328ea0b"
      },
      "execution_count": null,
      "outputs": [
        {
          "output_type": "execute_result",
          "data": {
            "text/plain": [
              "ORDER_NBR                   218\n",
              "ORDER_DURATION              211\n",
              "ORDER_PROCESSING_TIME       207\n",
              "CREATED_DATE                196\n",
              "LAST_DELIVERY_LATE_APPT     194\n",
              "LAST_DELIVERY_EARLY_APPT    175\n",
              "FIRST_PICK_LATE_APPT        164\n",
              "FIRST_PICK_EARLY_APPT       159\n",
              "Time_BETWEEN_LATE            75\n",
              "Time_BETWEEN_EARLY           58\n",
              "LAST_DELIVERY_ZIP            51\n",
              "CUSTOMER_MILES               48\n",
              "WEIGHT                       45\n",
              "ORDER_COST                   38\n",
              "LAST_DELIVERY_DURATION       28\n",
              "FIRST_PICK_ZIP               18\n",
              "FIRST_PICK_DURATION          17\n",
              "EQUIPMENT_TYPE                3\n",
              "IS_HAZARDOUS                  1\n",
              "dtype: int64"
            ]
          },
          "metadata": {},
          "execution_count": 328
        }
      ]
    },
    {
      "cell_type": "code",
      "source": [
        "labels = list(is_hazardous_yes[\"EQUIPMENT_TYPE\"].value_counts(ascending = True).index)\n",
        "values = list(is_hazardous_yes[\"EQUIPMENT_TYPE\"].value_counts(ascending = True).values)\n",
        "# Create the pie chart\n",
        "fig1, ax1 = plt.subplots()\n",
        "ax1.pie(values, startangle=90)\n",
        "\n",
        "# Get the percentage values\n",
        "percentages = ['%.1f%%' % (100 * float(v) / sum(values)) for v in values]\n",
        "\n",
        "# Add the percentages to the labels\n",
        "labels_with_percentages = [label + ' (' + percentage + ')' for label, percentage in zip(labels, percentages)]\n",
        "\n",
        "# Create the legend\n",
        "ax1.legend(labels_with_percentages, loc='best')\n",
        "plt.title(\"Pie chart showing the percentage distribution of hazardous equipment types\")\n",
        "\n",
        "plt.show()"
      ],
      "metadata": {
        "colab": {
          "base_uri": "https://localhost:8080/",
          "height": 656
        },
        "id": "Fqr6q1WRJ-oY",
        "outputId": "f5dd62a1-d886-4b35-8233-9406d1a21497"
      },
      "execution_count": null,
      "outputs": [
        {
          "output_type": "display_data",
          "data": {
            "text/plain": [
              "<Figure size 640x480 with 1 Axes>"
            ],
            "image/png": "[encoded data removed]"
          },
          "metadata": {}
        }
      ]
    },
    {
      "cell_type": "markdown",
      "source": [
        "# Insight  :\n",
        "\n",
        "### Carrier used for the HAZARDOUS shipment is VZ "
      ],
      "metadata": {
        "id": "gxOKqFmHM_gn"
      }
    },
    {
      "cell_type": "markdown",
      "metadata": {
        "id": "RbrecBr9WGzt"
      },
      "source": [
        "We don,t require Datetime  and ZipCodes to predict the cost as we already extracted some required columns for further process  . So we can drop it from SwiftData"
      ]
    },
    {
      "cell_type": "code",
      "execution_count": null,
      "metadata": {
        "id": "Wla0F0LZBv_M"
      },
      "outputs": [],
      "source": [
        "Data=SwiftData.drop([\"ORDER_NBR\",\"FIRST_PICK_EARLY_APPT\",\"FIRST_PICK_LATE_APPT\",\"LAST_DELIVERY_EARLY_APPT\",\"LAST_DELIVERY_LATE_APPT\",\"CREATED_DATE\",\"FIRST_PICK_ZIP\",\"LAST_DELIVERY_ZIP\"],axis=1)"
      ]
    },
    {
      "cell_type": "code",
      "execution_count": null,
      "metadata": {
        "colab": {
          "base_uri": "https://localhost:8080/",
          "height": 270
        },
        "id": "ynyOHZwYVrg3",
        "outputId": "eda1c44a-045e-404c-ddfd-168e3ab728e3"
      },
      "outputs": [
        {
          "output_type": "execute_result",
          "data": {
            "text/plain": [
              "  EQUIPMENT_TYPE  CUSTOMER_MILES   WEIGHT  ORDER_COST IS_HAZARDOUS  \\\n",
              "0     53 FLATBED           802.0  42000.0        0.00            N   \n",
              "1              V             0.0  40500.0      875.00            N   \n",
              "2            NaN           774.0      0.0       88.14            N   \n",
              "3              V             0.0  40500.0      875.00            N   \n",
              "4              V             0.0  40500.0      875.00            N   \n",
              "\n",
              "   Time_BETWEEN_EARLY  Time_BETWEEN_LATE  FIRST_PICK_DURATION  \\\n",
              "0                24.5               25.0                  7.5   \n",
              "1                17.0               26.0                  0.0   \n",
              "2               144.0              120.0                 33.0   \n",
              "3                17.0               26.0                  0.0   \n",
              "4                17.0               26.0                  0.0   \n",
              "\n",
              "   LAST_DELIVERY_DURATION  ORDER_PROCESSING_TIME  ORDER_DURATION  \n",
              "0                     8.0             285.133333      317.633333  \n",
              "1                     9.0              99.383333      125.383333  \n",
              "2                     9.0              -7.083333      145.916667  \n",
              "3                     9.0             123.366667      149.366667  \n",
              "4                     9.0             146.733333      172.733333  "
            ],
            "text/html": [
              "\n",
              "  <div id=\"df-acfee570-d5ce-42a8-812f-12f084409d59\">\n",
              "    <div class=\"colab-df-container\">\n",
              "      <div>\n",
              "<style scoped>\n",
              "    .dataframe tbody tr th:only-of-type {\n",
              "        vertical-align: middle;\n",
              "    }\n",
              "\n",
              "    .dataframe tbody tr th {\n",
              "        vertical-align: top;\n",
              "    }\n",
              "\n",
              "    .dataframe thead th {\n",
              "        text-align: right;\n",
              "    }\n",
              "</style>\n",
              "<table border=\"1\" class=\"dataframe\">\n",
              "  <thead>\n",
              "    <tr style=\"text-align: right;\">\n",
              "      <th></th>\n",
              "      <th>EQUIPMENT_TYPE</th>\n",
              "      <th>CUSTOMER_MILES</th>\n",
              "      <th>WEIGHT</th>\n",
              "      <th>ORDER_COST</th>\n",
              "      <th>IS_HAZARDOUS</th>\n",
              "      <th>Time_BETWEEN_EARLY</th>\n",
              "      <th>Time_BETWEEN_LATE</th>\n",
              "      <th>FIRST_PICK_DURATION</th>\n",
              "      <th>LAST_DELIVERY_DURATION</th>\n",
              "      <th>ORDER_PROCESSING_TIME</th>\n",
              "      <th>ORDER_DURATION</th>\n",
              "    </tr>\n",
              "  </thead>\n",
              "  <tbody>\n",
              "    <tr>\n",
              "      <th>0</th>\n",
              "      <td>53 FLATBED</td>\n",
              "      <td>802.0</td>\n",
              "      <td>42000.0</td>\n",
              "      <td>0.00</td>\n",
              "      <td>N</td>\n",
              "      <td>24.5</td>\n",
              "      <td>25.0</td>\n",
              "      <td>7.5</td>\n",
              "      <td>8.0</td>\n",
              "      <td>285.133333</td>\n",
              "      <td>317.633333</td>\n",
              "    </tr>\n",
              "    <tr>\n",
              "      <th>1</th>\n",
              "      <td>V</td>\n",
              "      <td>0.0</td>\n",
              "      <td>40500.0</td>\n",
              "      <td>875.00</td>\n",
              "      <td>N</td>\n",
              "      <td>17.0</td>\n",
              "      <td>26.0</td>\n",
              "      <td>0.0</td>\n",
              "      <td>9.0</td>\n",
              "      <td>99.383333</td>\n",
              "      <td>125.383333</td>\n",
              "    </tr>\n",
              "    <tr>\n",
              "      <th>2</th>\n",
              "      <td>NaN</td>\n",
              "      <td>774.0</td>\n",
              "      <td>0.0</td>\n",
              "      <td>88.14</td>\n",
              "      <td>N</td>\n",
              "      <td>144.0</td>\n",
              "      <td>120.0</td>\n",
              "      <td>33.0</td>\n",
              "      <td>9.0</td>\n",
              "      <td>-7.083333</td>\n",
              "      <td>145.916667</td>\n",
              "    </tr>\n",
              "    <tr>\n",
              "      <th>3</th>\n",
              "      <td>V</td>\n",
              "      <td>0.0</td>\n",
              "      <td>40500.0</td>\n",
              "      <td>875.00</td>\n",
              "      <td>N</td>\n",
              "      <td>17.0</td>\n",
              "      <td>26.0</td>\n",
              "      <td>0.0</td>\n",
              "      <td>9.0</td>\n",
              "      <td>123.366667</td>\n",
              "      <td>149.366667</td>\n",
              "    </tr>\n",
              "    <tr>\n",
              "      <th>4</th>\n",
              "      <td>V</td>\n",
              "      <td>0.0</td>\n",
              "      <td>40500.0</td>\n",
              "      <td>875.00</td>\n",
              "      <td>N</td>\n",
              "      <td>17.0</td>\n",
              "      <td>26.0</td>\n",
              "      <td>0.0</td>\n",
              "      <td>9.0</td>\n",
              "      <td>146.733333</td>\n",
              "      <td>172.733333</td>\n",
              "    </tr>\n",
              "  </tbody>\n",
              "</table>\n",
              "</div>\n",
              "      <button class=\"colab-df-convert\" onclick=\"convertToInteractive('df-acfee570-d5ce-42a8-812f-12f084409d59')\"\n",
              "              title=\"Convert this dataframe to an interactive table.\"\n",
              "              style=\"display:none;\">\n",
              "        \n",
              "  <svg xmlns=\"http://www.w3.org/2000/svg\" height=\"24px\"viewBox=\"0 0 24 24\"\n",
              "       width=\"24px\">\n",
              "    <path d=\"M0 0h24v24H0V0z\" fill=\"none\"/>\n",
              "    <path d=\"M18.56 5.44l.94 2.06.94-2.06 2.06-.94-2.06-.94-.94-2.06-.94 2.06-2.06.94zm-11 1L8.5 8.5l.94-2.06 2.06-.94-2.06-.94L8.5 2.5l-.94 2.06-2.06.94zm10 10l.94 2.06.94-2.06 2.06-.94-2.06-.94-.94-2.06-.94 2.06-2.06.94z\"/><path d=\"M17.41 7.96l-1.37-1.37c-.4-.4-.92-.59-1.43-.59-.52 0-1.04.2-1.43.59L10.3 9.45l-7.72 7.72c-.78.78-.78 2.05 0 2.83L4 21.41c.39.39.9.59 1.41.59.51 0 1.02-.2 1.41-.59l7.78-7.78 2.81-2.81c.8-.78.8-2.07 0-2.86zM5.41 20L4 18.59l7.72-7.72 1.47 1.35L5.41 20z\"/>\n",
              "  </svg>\n",
              "      </button>\n",
              "      \n",
              "  <style>\n",
              "    .colab-df-container {\n",
              "      display:flex;\n",
              "      flex-wrap:wrap;\n",
              "      gap: 12px;\n",
              "    }\n",
              "\n",
              "    .colab-df-convert {\n",
              "      background-color: #E8F0FE;\n",
              "      border: none;\n",
              "      border-radius: 50%;\n",
              "      cursor: pointer;\n",
              "      display: none;\n",
              "      fill: #1967D2;\n",
              "      height: 32px;\n",
              "      padding: 0 0 0 0;\n",
              "      width: 32px;\n",
              "    }\n",
              "\n",
              "    .colab-df-convert:hover {\n",
              "      background-color: #E2EBFA;\n",
              "      box-shadow: 0px 1px 2px rgba(60, 64, 67, 0.3), 0px 1px 3px 1px rgba(60, 64, 67, 0.15);\n",
              "      fill: #174EA6;\n",
              "    }\n",
              "\n",
              "    [theme=dark] .colab-df-convert {\n",
              "      background-color: #3B4455;\n",
              "      fill: #D2E3FC;\n",
              "    }\n",
              "\n",
              "    [theme=dark] .colab-df-convert:hover {\n",
              "      background-color: #434B5C;\n",
              "      box-shadow: 0px 1px 3px 1px rgba(0, 0, 0, 0.15);\n",
              "      filter: drop-shadow(0px 1px 2px rgba(0, 0, 0, 0.3));\n",
              "      fill: #FFFFFF;\n",
              "    }\n",
              "  </style>\n",
              "\n",
              "      <script>\n",
              "        const buttonEl =\n",
              "          document.querySelector('#df-acfee570-d5ce-42a8-812f-12f084409d59 button.colab-df-convert');\n",
              "        buttonEl.style.display =\n",
              "          google.colab.kernel.accessAllowed ? 'block' : 'none';\n",
              "\n",
              "        async function convertToInteractive(key) {\n",
              "          const element = document.querySelector('#df-acfee570-d5ce-42a8-812f-12f084409d59');\n",
              "          const dataTable =\n",
              "            await google.colab.kernel.invokeFunction('convertToInteractive',\n",
              "                                                     [key], {});\n",
              "          if (!dataTable) return;\n",
              "\n",
              "          const docLinkHtml = 'Like what you see? Visit the ' +\n",
              "            '<a target=\"_blank\" href=https://colab.research.google.com/notebooks/data_table.ipynb>data table notebook</a>'\n",
              "            + ' to learn more about interactive tables.';\n",
              "          element.innerHTML = '';\n",
              "          dataTable['output_type'] = 'display_data';\n",
              "          await google.colab.output.renderOutput(dataTable, element);\n",
              "          const docLink = document.createElement('div');\n",
              "          docLink.innerHTML = docLinkHtml;\n",
              "          element.appendChild(docLink);\n",
              "        }\n",
              "      </script>\n",
              "    </div>\n",
              "  </div>\n",
              "  "
            ]
          },
          "metadata": {},
          "execution_count": 331
        }
      ],
      "source": [
        "Data.head()"
      ]
    },
    {
      "cell_type": "code",
      "source": [
        "Data1=Data[Data[\"ORDER_COST\"].notnull()]"
      ],
      "metadata": {
        "id": "d0itlPCQmGug"
      },
      "execution_count": null,
      "outputs": []
    },
    {
      "cell_type": "code",
      "execution_count": null,
      "metadata": {
        "id": "KQv7QkuQZq7M"
      },
      "outputs": [],
      "source": [
        "X=Data1.drop(['ORDER_COST'],axis=1)\n",
        "Y=Data1['ORDER_COST']"
      ]
    },
    {
      "cell_type": "code",
      "execution_count": null,
      "metadata": {
        "id": "Wh6--_oOfDcU"
      },
      "outputs": [],
      "source": [
        "from sklearn.model_selection import train_test_split\n",
        "X_train,X_test,Y_train,Y_test = train_test_split(X,Y,test_size=0.20,random_state=234)"
      ]
    },
    {
      "cell_type": "code",
      "execution_count": null,
      "metadata": {
        "id": "aObMmK8VgeHh"
      },
      "outputs": [],
      "source": [
        "X_train,X_val,Y_train,Y_val = train_test_split(X_train,Y_train,test_size=0.20,random_state=429)\n"
      ]
    },
    {
      "cell_type": "code",
      "execution_count": null,
      "metadata": {
        "colab": {
          "base_uri": "https://localhost:8080/"
        },
        "id": "VvQVejDRgsHp",
        "outputId": "ebdabe29-4b3e-4343-9ffd-c60dd4366800"
      },
      "outputs": [
        {
          "output_type": "stream",
          "name": "stdout",
          "text": [
            "(11988, 10)\n",
            "(2998, 10)\n",
            "(3747, 10)\n",
            "(11988,)\n",
            "(2998,)\n",
            "(3747,)\n"
          ]
        }
      ],
      "source": [
        "print(X_train.shape)\n",
        "print(X_val.shape)\n",
        "print(X_test.shape)\n",
        "print(Y_train.shape)\n",
        "print(Y_val.shape)\n",
        "print(Y_test.shape)"
      ]
    },
    {
      "cell_type": "code",
      "execution_count": null,
      "metadata": {
        "colab": {
          "base_uri": "https://localhost:8080/",
          "height": 269
        },
        "id": "RB4zUyr3hZCx",
        "outputId": "39c8b57f-a6fa-4715-b1f6-b459b4d2858d"
      },
      "outputs": [
        {
          "output_type": "execute_result",
          "data": {
            "text/plain": [
              "                  columns  null_value_count  Total_no_of_values  \\\n",
              "0          EQUIPMENT_TYPE               640               11988   \n",
              "1       Time_BETWEEN_LATE               259               11988   \n",
              "2  LAST_DELIVERY_DURATION               248               11988   \n",
              "3          ORDER_DURATION               248               11988   \n",
              "4      Time_BETWEEN_EARLY               221               11988   \n",
              "5     FIRST_PICK_DURATION               199               11988   \n",
              "6   ORDER_PROCESSING_TIME               171               11988   \n",
              "\n",
              "   %_of_null_values  \n",
              "0          5.338672  \n",
              "1          2.160494  \n",
              "2          2.068735  \n",
              "3          2.068735  \n",
              "4          1.843510  \n",
              "5          1.659993  \n",
              "6          1.426426  "
            ],
            "text/html": [
              "\n",
              "  <div id=\"df-ee2baa2a-124f-40ad-a190-b6f4bf4eeefb\">\n",
              "    <div class=\"colab-df-container\">\n",
              "      <div>\n",
              "<style scoped>\n",
              "    .dataframe tbody tr th:only-of-type {\n",
              "        vertical-align: middle;\n",
              "    }\n",
              "\n",
              "    .dataframe tbody tr th {\n",
              "        vertical-align: top;\n",
              "    }\n",
              "\n",
              "    .dataframe thead th {\n",
              "        text-align: right;\n",
              "    }\n",
              "</style>\n",
              "<table border=\"1\" class=\"dataframe\">\n",
              "  <thead>\n",
              "    <tr style=\"text-align: right;\">\n",
              "      <th></th>\n",
              "      <th>columns</th>\n",
              "      <th>null_value_count</th>\n",
              "      <th>Total_no_of_values</th>\n",
              "      <th>%_of_null_values</th>\n",
              "    </tr>\n",
              "  </thead>\n",
              "  <tbody>\n",
              "    <tr>\n",
              "      <th>0</th>\n",
              "      <td>EQUIPMENT_TYPE</td>\n",
              "      <td>640</td>\n",
              "      <td>11988</td>\n",
              "      <td>5.338672</td>\n",
              "    </tr>\n",
              "    <tr>\n",
              "      <th>1</th>\n",
              "      <td>Time_BETWEEN_LATE</td>\n",
              "      <td>259</td>\n",
              "      <td>11988</td>\n",
              "      <td>2.160494</td>\n",
              "    </tr>\n",
              "    <tr>\n",
              "      <th>2</th>\n",
              "      <td>LAST_DELIVERY_DURATION</td>\n",
              "      <td>248</td>\n",
              "      <td>11988</td>\n",
              "      <td>2.068735</td>\n",
              "    </tr>\n",
              "    <tr>\n",
              "      <th>3</th>\n",
              "      <td>ORDER_DURATION</td>\n",
              "      <td>248</td>\n",
              "      <td>11988</td>\n",
              "      <td>2.068735</td>\n",
              "    </tr>\n",
              "    <tr>\n",
              "      <th>4</th>\n",
              "      <td>Time_BETWEEN_EARLY</td>\n",
              "      <td>221</td>\n",
              "      <td>11988</td>\n",
              "      <td>1.843510</td>\n",
              "    </tr>\n",
              "    <tr>\n",
              "      <th>5</th>\n",
              "      <td>FIRST_PICK_DURATION</td>\n",
              "      <td>199</td>\n",
              "      <td>11988</td>\n",
              "      <td>1.659993</td>\n",
              "    </tr>\n",
              "    <tr>\n",
              "      <th>6</th>\n",
              "      <td>ORDER_PROCESSING_TIME</td>\n",
              "      <td>171</td>\n",
              "      <td>11988</td>\n",
              "      <td>1.426426</td>\n",
              "    </tr>\n",
              "  </tbody>\n",
              "</table>\n",
              "</div>\n",
              "      <button class=\"colab-df-convert\" onclick=\"convertToInteractive('df-ee2baa2a-124f-40ad-a190-b6f4bf4eeefb')\"\n",
              "              title=\"Convert this dataframe to an interactive table.\"\n",
              "              style=\"display:none;\">\n",
              "        \n",
              "  <svg xmlns=\"http://www.w3.org/2000/svg\" height=\"24px\"viewBox=\"0 0 24 24\"\n",
              "       width=\"24px\">\n",
              "    <path d=\"M0 0h24v24H0V0z\" fill=\"none\"/>\n",
              "    <path d=\"M18.56 5.44l.94 2.06.94-2.06 2.06-.94-2.06-.94-.94-2.06-.94 2.06-2.06.94zm-11 1L8.5 8.5l.94-2.06 2.06-.94-2.06-.94L8.5 2.5l-.94 2.06-2.06.94zm10 10l.94 2.06.94-2.06 2.06-.94-2.06-.94-.94-2.06-.94 2.06-2.06.94z\"/><path d=\"M17.41 7.96l-1.37-1.37c-.4-.4-.92-.59-1.43-.59-.52 0-1.04.2-1.43.59L10.3 9.45l-7.72 7.72c-.78.78-.78 2.05 0 2.83L4 21.41c.39.39.9.59 1.41.59.51 0 1.02-.2 1.41-.59l7.78-7.78 2.81-2.81c.8-.78.8-2.07 0-2.86zM5.41 20L4 18.59l7.72-7.72 1.47 1.35L5.41 20z\"/>\n",
              "  </svg>\n",
              "      </button>\n",
              "      \n",
              "  <style>\n",
              "    .colab-df-container {\n",
              "      display:flex;\n",
              "      flex-wrap:wrap;\n",
              "      gap: 12px;\n",
              "    }\n",
              "\n",
              "    .colab-df-convert {\n",
              "      background-color: #E8F0FE;\n",
              "      border: none;\n",
              "      border-radius: 50%;\n",
              "      cursor: pointer;\n",
              "      display: none;\n",
              "      fill: #1967D2;\n",
              "      height: 32px;\n",
              "      padding: 0 0 0 0;\n",
              "      width: 32px;\n",
              "    }\n",
              "\n",
              "    .colab-df-convert:hover {\n",
              "      background-color: #E2EBFA;\n",
              "      box-shadow: 0px 1px 2px rgba(60, 64, 67, 0.3), 0px 1px 3px 1px rgba(60, 64, 67, 0.15);\n",
              "      fill: #174EA6;\n",
              "    }\n",
              "\n",
              "    [theme=dark] .colab-df-convert {\n",
              "      background-color: #3B4455;\n",
              "      fill: #D2E3FC;\n",
              "    }\n",
              "\n",
              "    [theme=dark] .colab-df-convert:hover {\n",
              "      background-color: #434B5C;\n",
              "      box-shadow: 0px 1px 3px 1px rgba(0, 0, 0, 0.15);\n",
              "      filter: drop-shadow(0px 1px 2px rgba(0, 0, 0, 0.3));\n",
              "      fill: #FFFFFF;\n",
              "    }\n",
              "  </style>\n",
              "\n",
              "      <script>\n",
              "        const buttonEl =\n",
              "          document.querySelector('#df-ee2baa2a-124f-40ad-a190-b6f4bf4eeefb button.colab-df-convert');\n",
              "        buttonEl.style.display =\n",
              "          google.colab.kernel.accessAllowed ? 'block' : 'none';\n",
              "\n",
              "        async function convertToInteractive(key) {\n",
              "          const element = document.querySelector('#df-ee2baa2a-124f-40ad-a190-b6f4bf4eeefb');\n",
              "          const dataTable =\n",
              "            await google.colab.kernel.invokeFunction('convertToInteractive',\n",
              "                                                     [key], {});\n",
              "          if (!dataTable) return;\n",
              "\n",
              "          const docLinkHtml = 'Like what you see? Visit the ' +\n",
              "            '<a target=\"_blank\" href=https://colab.research.google.com/notebooks/data_table.ipynb>data table notebook</a>'\n",
              "            + ' to learn more about interactive tables.';\n",
              "          element.innerHTML = '';\n",
              "          dataTable['output_type'] = 'display_data';\n",
              "          await google.colab.output.renderOutput(dataTable, element);\n",
              "          const docLink = document.createElement('div');\n",
              "          docLink.innerHTML = docLinkHtml;\n",
              "          element.appendChild(docLink);\n",
              "        }\n",
              "      </script>\n",
              "    </div>\n",
              "  </div>\n",
              "  "
            ]
          },
          "metadata": {},
          "execution_count": 337
        }
      ],
      "source": [
        "present_null_values_info(X_train)"
      ]
    },
    {
      "cell_type": "code",
      "execution_count": null,
      "metadata": {
        "colab": {
          "base_uri": "https://localhost:8080/",
          "height": 269
        },
        "id": "cyniXol7ii-Q",
        "outputId": "790d21a8-9848-47f9-daec-925a6fb8ddaf"
      },
      "outputs": [
        {
          "output_type": "execute_result",
          "data": {
            "text/plain": [
              "                  columns  null_value_count  Total_no_of_values  \\\n",
              "0          EQUIPMENT_TYPE               157                2998   \n",
              "1       Time_BETWEEN_LATE                60                2998   \n",
              "2  LAST_DELIVERY_DURATION                58                2998   \n",
              "3          ORDER_DURATION                58                2998   \n",
              "4      Time_BETWEEN_EARLY                51                2998   \n",
              "5     FIRST_PICK_DURATION                38                2998   \n",
              "6   ORDER_PROCESSING_TIME                32                2998   \n",
              "\n",
              "   %_of_null_values  \n",
              "0          5.236825  \n",
              "1          2.001334  \n",
              "2          1.934623  \n",
              "3          1.934623  \n",
              "4          1.701134  \n",
              "5          1.267512  \n",
              "6          1.067378  "
            ],
            "text/html": [
              "\n",
              "  <div id=\"df-27ccfe99-9332-4857-afd0-bb0625bc8a57\">\n",
              "    <div class=\"colab-df-container\">\n",
              "      <div>\n",
              "<style scoped>\n",
              "    .dataframe tbody tr th:only-of-type {\n",
              "        vertical-align: middle;\n",
              "    }\n",
              "\n",
              "    .dataframe tbody tr th {\n",
              "        vertical-align: top;\n",
              "    }\n",
              "\n",
              "    .dataframe thead th {\n",
              "        text-align: right;\n",
              "    }\n",
              "</style>\n",
              "<table border=\"1\" class=\"dataframe\">\n",
              "  <thead>\n",
              "    <tr style=\"text-align: right;\">\n",
              "      <th></th>\n",
              "      <th>columns</th>\n",
              "      <th>null_value_count</th>\n",
              "      <th>Total_no_of_values</th>\n",
              "      <th>%_of_null_values</th>\n",
              "    </tr>\n",
              "  </thead>\n",
              "  <tbody>\n",
              "    <tr>\n",
              "      <th>0</th>\n",
              "      <td>EQUIPMENT_TYPE</td>\n",
              "      <td>157</td>\n",
              "      <td>2998</td>\n",
              "      <td>5.236825</td>\n",
              "    </tr>\n",
              "    <tr>\n",
              "      <th>1</th>\n",
              "      <td>Time_BETWEEN_LATE</td>\n",
              "      <td>60</td>\n",
              "      <td>2998</td>\n",
              "      <td>2.001334</td>\n",
              "    </tr>\n",
              "    <tr>\n",
              "      <th>2</th>\n",
              "      <td>LAST_DELIVERY_DURATION</td>\n",
              "      <td>58</td>\n",
              "      <td>2998</td>\n",
              "      <td>1.934623</td>\n",
              "    </tr>\n",
              "    <tr>\n",
              "      <th>3</th>\n",
              "      <td>ORDER_DURATION</td>\n",
              "      <td>58</td>\n",
              "      <td>2998</td>\n",
              "      <td>1.934623</td>\n",
              "    </tr>\n",
              "    <tr>\n",
              "      <th>4</th>\n",
              "      <td>Time_BETWEEN_EARLY</td>\n",
              "      <td>51</td>\n",
              "      <td>2998</td>\n",
              "      <td>1.701134</td>\n",
              "    </tr>\n",
              "    <tr>\n",
              "      <th>5</th>\n",
              "      <td>FIRST_PICK_DURATION</td>\n",
              "      <td>38</td>\n",
              "      <td>2998</td>\n",
              "      <td>1.267512</td>\n",
              "    </tr>\n",
              "    <tr>\n",
              "      <th>6</th>\n",
              "      <td>ORDER_PROCESSING_TIME</td>\n",
              "      <td>32</td>\n",
              "      <td>2998</td>\n",
              "      <td>1.067378</td>\n",
              "    </tr>\n",
              "  </tbody>\n",
              "</table>\n",
              "</div>\n",
              "      <button class=\"colab-df-convert\" onclick=\"convertToInteractive('df-27ccfe99-9332-4857-afd0-bb0625bc8a57')\"\n",
              "              title=\"Convert this dataframe to an interactive table.\"\n",
              "              style=\"display:none;\">\n",
              "        \n",
              "  <svg xmlns=\"http://www.w3.org/2000/svg\" height=\"24px\"viewBox=\"0 0 24 24\"\n",
              "       width=\"24px\">\n",
              "    <path d=\"M0 0h24v24H0V0z\" fill=\"none\"/>\n",
              "    <path d=\"M18.56 5.44l.94 2.06.94-2.06 2.06-.94-2.06-.94-.94-2.06-.94 2.06-2.06.94zm-11 1L8.5 8.5l.94-2.06 2.06-.94-2.06-.94L8.5 2.5l-.94 2.06-2.06.94zm10 10l.94 2.06.94-2.06 2.06-.94-2.06-.94-.94-2.06-.94 2.06-2.06.94z\"/><path d=\"M17.41 7.96l-1.37-1.37c-.4-.4-.92-.59-1.43-.59-.52 0-1.04.2-1.43.59L10.3 9.45l-7.72 7.72c-.78.78-.78 2.05 0 2.83L4 21.41c.39.39.9.59 1.41.59.51 0 1.02-.2 1.41-.59l7.78-7.78 2.81-2.81c.8-.78.8-2.07 0-2.86zM5.41 20L4 18.59l7.72-7.72 1.47 1.35L5.41 20z\"/>\n",
              "  </svg>\n",
              "      </button>\n",
              "      \n",
              "  <style>\n",
              "    .colab-df-container {\n",
              "      display:flex;\n",
              "      flex-wrap:wrap;\n",
              "      gap: 12px;\n",
              "    }\n",
              "\n",
              "    .colab-df-convert {\n",
              "      background-color: #E8F0FE;\n",
              "      border: none;\n",
              "      border-radius: 50%;\n",
              "      cursor: pointer;\n",
              "      display: none;\n",
              "      fill: #1967D2;\n",
              "      height: 32px;\n",
              "      padding: 0 0 0 0;\n",
              "      width: 32px;\n",
              "    }\n",
              "\n",
              "    .colab-df-convert:hover {\n",
              "      background-color: #E2EBFA;\n",
              "      box-shadow: 0px 1px 2px rgba(60, 64, 67, 0.3), 0px 1px 3px 1px rgba(60, 64, 67, 0.15);\n",
              "      fill: #174EA6;\n",
              "    }\n",
              "\n",
              "    [theme=dark] .colab-df-convert {\n",
              "      background-color: #3B4455;\n",
              "      fill: #D2E3FC;\n",
              "    }\n",
              "\n",
              "    [theme=dark] .colab-df-convert:hover {\n",
              "      background-color: #434B5C;\n",
              "      box-shadow: 0px 1px 3px 1px rgba(0, 0, 0, 0.15);\n",
              "      filter: drop-shadow(0px 1px 2px rgba(0, 0, 0, 0.3));\n",
              "      fill: #FFFFFF;\n",
              "    }\n",
              "  </style>\n",
              "\n",
              "      <script>\n",
              "        const buttonEl =\n",
              "          document.querySelector('#df-27ccfe99-9332-4857-afd0-bb0625bc8a57 button.colab-df-convert');\n",
              "        buttonEl.style.display =\n",
              "          google.colab.kernel.accessAllowed ? 'block' : 'none';\n",
              "\n",
              "        async function convertToInteractive(key) {\n",
              "          const element = document.querySelector('#df-27ccfe99-9332-4857-afd0-bb0625bc8a57');\n",
              "          const dataTable =\n",
              "            await google.colab.kernel.invokeFunction('convertToInteractive',\n",
              "                                                     [key], {});\n",
              "          if (!dataTable) return;\n",
              "\n",
              "          const docLinkHtml = 'Like what you see? Visit the ' +\n",
              "            '<a target=\"_blank\" href=https://colab.research.google.com/notebooks/data_table.ipynb>data table notebook</a>'\n",
              "            + ' to learn more about interactive tables.';\n",
              "          element.innerHTML = '';\n",
              "          dataTable['output_type'] = 'display_data';\n",
              "          await google.colab.output.renderOutput(dataTable, element);\n",
              "          const docLink = document.createElement('div');\n",
              "          docLink.innerHTML = docLinkHtml;\n",
              "          element.appendChild(docLink);\n",
              "        }\n",
              "      </script>\n",
              "    </div>\n",
              "  </div>\n",
              "  "
            ]
          },
          "metadata": {},
          "execution_count": 338
        }
      ],
      "source": [
        "present_null_values_info(X_val)"
      ]
    },
    {
      "cell_type": "code",
      "execution_count": null,
      "metadata": {
        "colab": {
          "base_uri": "https://localhost:8080/",
          "height": 269
        },
        "id": "YMCwzhGmirGa",
        "outputId": "0354e735-1421-4c37-f4b9-ad9b3e6c7057"
      },
      "outputs": [
        {
          "output_type": "execute_result",
          "data": {
            "text/plain": [
              "                  columns  null_value_count  Total_no_of_values  \\\n",
              "0          EQUIPMENT_TYPE               209                3747   \n",
              "1       Time_BETWEEN_LATE                78                3747   \n",
              "2  LAST_DELIVERY_DURATION                75                3747   \n",
              "3          ORDER_DURATION                75                3747   \n",
              "4      Time_BETWEEN_EARLY                65                3747   \n",
              "5     FIRST_PICK_DURATION                62                3747   \n",
              "6   ORDER_PROCESSING_TIME                52                3747   \n",
              "\n",
              "   %_of_null_values  \n",
              "0          5.577796  \n",
              "1          2.081665  \n",
              "2          2.001601  \n",
              "3          2.001601  \n",
              "4          1.734721  \n",
              "5          1.654657  \n",
              "6          1.387777  "
            ],
            "text/html": [
              "\n",
              "  <div id=\"df-af7196c3-7684-4f92-bc4e-27f9e3fa9983\">\n",
              "    <div class=\"colab-df-container\">\n",
              "      <div>\n",
              "<style scoped>\n",
              "    .dataframe tbody tr th:only-of-type {\n",
              "        vertical-align: middle;\n",
              "    }\n",
              "\n",
              "    .dataframe tbody tr th {\n",
              "        vertical-align: top;\n",
              "    }\n",
              "\n",
              "    .dataframe thead th {\n",
              "        text-align: right;\n",
              "    }\n",
              "</style>\n",
              "<table border=\"1\" class=\"dataframe\">\n",
              "  <thead>\n",
              "    <tr style=\"text-align: right;\">\n",
              "      <th></th>\n",
              "      <th>columns</th>\n",
              "      <th>null_value_count</th>\n",
              "      <th>Total_no_of_values</th>\n",
              "      <th>%_of_null_values</th>\n",
              "    </tr>\n",
              "  </thead>\n",
              "  <tbody>\n",
              "    <tr>\n",
              "      <th>0</th>\n",
              "      <td>EQUIPMENT_TYPE</td>\n",
              "      <td>209</td>\n",
              "      <td>3747</td>\n",
              "      <td>5.577796</td>\n",
              "    </tr>\n",
              "    <tr>\n",
              "      <th>1</th>\n",
              "      <td>Time_BETWEEN_LATE</td>\n",
              "      <td>78</td>\n",
              "      <td>3747</td>\n",
              "      <td>2.081665</td>\n",
              "    </tr>\n",
              "    <tr>\n",
              "      <th>2</th>\n",
              "      <td>LAST_DELIVERY_DURATION</td>\n",
              "      <td>75</td>\n",
              "      <td>3747</td>\n",
              "      <td>2.001601</td>\n",
              "    </tr>\n",
              "    <tr>\n",
              "      <th>3</th>\n",
              "      <td>ORDER_DURATION</td>\n",
              "      <td>75</td>\n",
              "      <td>3747</td>\n",
              "      <td>2.001601</td>\n",
              "    </tr>\n",
              "    <tr>\n",
              "      <th>4</th>\n",
              "      <td>Time_BETWEEN_EARLY</td>\n",
              "      <td>65</td>\n",
              "      <td>3747</td>\n",
              "      <td>1.734721</td>\n",
              "    </tr>\n",
              "    <tr>\n",
              "      <th>5</th>\n",
              "      <td>FIRST_PICK_DURATION</td>\n",
              "      <td>62</td>\n",
              "      <td>3747</td>\n",
              "      <td>1.654657</td>\n",
              "    </tr>\n",
              "    <tr>\n",
              "      <th>6</th>\n",
              "      <td>ORDER_PROCESSING_TIME</td>\n",
              "      <td>52</td>\n",
              "      <td>3747</td>\n",
              "      <td>1.387777</td>\n",
              "    </tr>\n",
              "  </tbody>\n",
              "</table>\n",
              "</div>\n",
              "      <button class=\"colab-df-convert\" onclick=\"convertToInteractive('df-af7196c3-7684-4f92-bc4e-27f9e3fa9983')\"\n",
              "              title=\"Convert this dataframe to an interactive table.\"\n",
              "              style=\"display:none;\">\n",
              "        \n",
              "  <svg xmlns=\"http://www.w3.org/2000/svg\" height=\"24px\"viewBox=\"0 0 24 24\"\n",
              "       width=\"24px\">\n",
              "    <path d=\"M0 0h24v24H0V0z\" fill=\"none\"/>\n",
              "    <path d=\"M18.56 5.44l.94 2.06.94-2.06 2.06-.94-2.06-.94-.94-2.06-.94 2.06-2.06.94zm-11 1L8.5 8.5l.94-2.06 2.06-.94-2.06-.94L8.5 2.5l-.94 2.06-2.06.94zm10 10l.94 2.06.94-2.06 2.06-.94-2.06-.94-.94-2.06-.94 2.06-2.06.94z\"/><path d=\"M17.41 7.96l-1.37-1.37c-.4-.4-.92-.59-1.43-.59-.52 0-1.04.2-1.43.59L10.3 9.45l-7.72 7.72c-.78.78-.78 2.05 0 2.83L4 21.41c.39.39.9.59 1.41.59.51 0 1.02-.2 1.41-.59l7.78-7.78 2.81-2.81c.8-.78.8-2.07 0-2.86zM5.41 20L4 18.59l7.72-7.72 1.47 1.35L5.41 20z\"/>\n",
              "  </svg>\n",
              "      </button>\n",
              "      \n",
              "  <style>\n",
              "    .colab-df-container {\n",
              "      display:flex;\n",
              "      flex-wrap:wrap;\n",
              "      gap: 12px;\n",
              "    }\n",
              "\n",
              "    .colab-df-convert {\n",
              "      background-color: #E8F0FE;\n",
              "      border: none;\n",
              "      border-radius: 50%;\n",
              "      cursor: pointer;\n",
              "      display: none;\n",
              "      fill: #1967D2;\n",
              "      height: 32px;\n",
              "      padding: 0 0 0 0;\n",
              "      width: 32px;\n",
              "    }\n",
              "\n",
              "    .colab-df-convert:hover {\n",
              "      background-color: #E2EBFA;\n",
              "      box-shadow: 0px 1px 2px rgba(60, 64, 67, 0.3), 0px 1px 3px 1px rgba(60, 64, 67, 0.15);\n",
              "      fill: #174EA6;\n",
              "    }\n",
              "\n",
              "    [theme=dark] .colab-df-convert {\n",
              "      background-color: #3B4455;\n",
              "      fill: #D2E3FC;\n",
              "    }\n",
              "\n",
              "    [theme=dark] .colab-df-convert:hover {\n",
              "      background-color: #434B5C;\n",
              "      box-shadow: 0px 1px 3px 1px rgba(0, 0, 0, 0.15);\n",
              "      filter: drop-shadow(0px 1px 2px rgba(0, 0, 0, 0.3));\n",
              "      fill: #FFFFFF;\n",
              "    }\n",
              "  </style>\n",
              "\n",
              "      <script>\n",
              "        const buttonEl =\n",
              "          document.querySelector('#df-af7196c3-7684-4f92-bc4e-27f9e3fa9983 button.colab-df-convert');\n",
              "        buttonEl.style.display =\n",
              "          google.colab.kernel.accessAllowed ? 'block' : 'none';\n",
              "\n",
              "        async function convertToInteractive(key) {\n",
              "          const element = document.querySelector('#df-af7196c3-7684-4f92-bc4e-27f9e3fa9983');\n",
              "          const dataTable =\n",
              "            await google.colab.kernel.invokeFunction('convertToInteractive',\n",
              "                                                     [key], {});\n",
              "          if (!dataTable) return;\n",
              "\n",
              "          const docLinkHtml = 'Like what you see? Visit the ' +\n",
              "            '<a target=\"_blank\" href=https://colab.research.google.com/notebooks/data_table.ipynb>data table notebook</a>'\n",
              "            + ' to learn more about interactive tables.';\n",
              "          element.innerHTML = '';\n",
              "          dataTable['output_type'] = 'display_data';\n",
              "          await google.colab.output.renderOutput(dataTable, element);\n",
              "          const docLink = document.createElement('div');\n",
              "          docLink.innerHTML = docLinkHtml;\n",
              "          element.appendChild(docLink);\n",
              "        }\n",
              "      </script>\n",
              "    </div>\n",
              "  </div>\n",
              "  "
            ]
          },
          "metadata": {},
          "execution_count": 339
        }
      ],
      "source": [
        "present_null_values_info(X_test)"
      ]
    },
    {
      "cell_type": "markdown",
      "metadata": {
        "id": "NcJKOafdjcyQ"
      },
      "source": [
        "We have null values so have to impute null values"
      ]
    },
    {
      "cell_type": "code",
      "execution_count": null,
      "metadata": {
        "id": "uHSn4dMHl5Ya"
      },
      "outputs": [],
      "source": [
        "Cat_cols=['EQUIPMENT_TYPE','IS_HAZARDOUS']"
      ]
    },
    {
      "cell_type": "code",
      "execution_count": null,
      "metadata": {
        "id": "XkPMqw7PiyX9"
      },
      "outputs": [],
      "source": [
        "from sklearn.impute import SimpleImputer"
      ]
    },
    {
      "cell_type": "code",
      "execution_count": null,
      "metadata": {
        "colab": {
          "base_uri": "https://localhost:8080/",
          "height": 75
        },
        "id": "a6U42vHgkIv1",
        "outputId": "a5c0d5a2-d4c2-4116-efc6-4447fa7249a6"
      },
      "outputs": [
        {
          "output_type": "execute_result",
          "data": {
            "text/plain": [
              "SimpleImputer(strategy='most_frequent')"
            ],
            "text/html": [
              "<style>#sk-container-id-25 {color: black;background-color: white;}#sk-container-id-25 pre{padding: 0;}#sk-container-id-25 div.sk-toggleable {background-color: white;}#sk-container-id-25 label.sk-toggleable__label {cursor: pointer;display: block;width: 100%;margin-bottom: 0;padding: 0.3em;box-sizing: border-box;text-align: center;}#sk-container-id-25 label.sk-toggleable__label-arrow:before {content: \"▸\";float: left;margin-right: 0.25em;color: #696969;}#sk-container-id-25 label.sk-toggleable__label-arrow:hover:before {color: black;}#sk-container-id-25 div.sk-estimator:hover label.sk-toggleable__label-arrow:before {color: black;}#sk-container-id-25 div.sk-toggleable__content {max-height: 0;max-width: 0;overflow: hidden;text-align: left;background-color: #f0f8ff;}#sk-container-id-25 div.sk-toggleable__content pre {margin: 0.2em;color: black;border-radius: 0.25em;background-color: #f0f8ff;}#sk-container-id-25 input.sk-toggleable__control:checked~div.sk-toggleable__content {max-height: 200px;max-width: 100%;overflow: auto;}#sk-container-id-25 input.sk-toggleable__control:checked~label.sk-toggleable__label-arrow:before {content: \"▾\";}#sk-container-id-25 div.sk-estimator input.sk-toggleable__control:checked~label.sk-toggleable__label {background-color: #d4ebff;}#sk-container-id-25 div.sk-label input.sk-toggleable__control:checked~label.sk-toggleable__label {background-color: #d4ebff;}#sk-container-id-25 input.sk-hidden--visually {border: 0;clip: rect(1px 1px 1px 1px);clip: rect(1px, 1px, 1px, 1px);height: 1px;margin: -1px;overflow: hidden;padding: 0;position: absolute;width: 1px;}#sk-container-id-25 div.sk-estimator {font-family: monospace;background-color: #f0f8ff;border: 1px dotted black;border-radius: 0.25em;box-sizing: border-box;margin-bottom: 0.5em;}#sk-container-id-25 div.sk-estimator:hover {background-color: #d4ebff;}#sk-container-id-25 div.sk-parallel-item::after {content: \"\";width: 100%;border-bottom: 1px solid gray;flex-grow: 1;}#sk-container-id-25 div.sk-label:hover label.sk-toggleable__label {background-color: #d4ebff;}#sk-container-id-25 div.sk-serial::before {content: \"\";position: absolute;border-left: 1px solid gray;box-sizing: border-box;top: 0;bottom: 0;left: 50%;z-index: 0;}#sk-container-id-25 div.sk-serial {display: flex;flex-direction: column;align-items: center;background-color: white;padding-right: 0.2em;padding-left: 0.2em;position: relative;}#sk-container-id-25 div.sk-item {position: relative;z-index: 1;}#sk-container-id-25 div.sk-parallel {display: flex;align-items: stretch;justify-content: center;background-color: white;position: relative;}#sk-container-id-25 div.sk-item::before, #sk-container-id-25 div.sk-parallel-item::before {content: \"\";position: absolute;border-left: 1px solid gray;box-sizing: border-box;top: 0;bottom: 0;left: 50%;z-index: -1;}#sk-container-id-25 div.sk-parallel-item {display: flex;flex-direction: column;z-index: 1;position: relative;background-color: white;}#sk-container-id-25 div.sk-parallel-item:first-child::after {align-self: flex-end;width: 50%;}#sk-container-id-25 div.sk-parallel-item:last-child::after {align-self: flex-start;width: 50%;}#sk-container-id-25 div.sk-parallel-item:only-child::after {width: 0;}#sk-container-id-25 div.sk-dashed-wrapped {border: 1px dashed gray;margin: 0 0.4em 0.5em 0.4em;box-sizing: border-box;padding-bottom: 0.4em;background-color: white;}#sk-container-id-25 div.sk-label label {font-family: monospace;font-weight: bold;display: inline-block;line-height: 1.2em;}#sk-container-id-25 div.sk-label-container {text-align: center;}#sk-container-id-25 div.sk-container {/* jupyter's `normalize.less` sets `[hidden] { display: none; }` but bootstrap.min.css set `[hidden] { display: none !important; }` so we also need the `!important` here to be able to override the default hidden behavior on the sphinx rendered scikit-learn.org. See: https://github.com/scikit-learn/scikit-learn/issues/21755 */display: inline-block !important;position: relative;}#sk-container-id-25 div.sk-text-repr-fallback {display: none;}</style><div id=\"sk-container-id-25\" class=\"sk-top-container\"><div class=\"sk-text-repr-fallback\"><pre>SimpleImputer(strategy=&#x27;most_frequent&#x27;)</pre><b>In a Jupyter environment, please rerun this cell to show the HTML representation or trust the notebook. <br />On GitHub, the HTML representation is unable to render, please try loading this page with nbviewer.org.</b></div><div class=\"sk-container\" hidden><div class=\"sk-item\"><div class=\"sk-estimator sk-toggleable\"><input class=\"sk-toggleable__control sk-hidden--visually\" id=\"sk-estimator-id-49\" type=\"checkbox\" checked><label for=\"sk-estimator-id-49\" class=\"sk-toggleable__label sk-toggleable__label-arrow\">SimpleImputer</label><div class=\"sk-toggleable__content\"><pre>SimpleImputer(strategy=&#x27;most_frequent&#x27;)</pre></div></div></div></div></div>"
            ]
          },
          "metadata": {},
          "execution_count": 342
        }
      ],
      "source": [
        "imputer = SimpleImputer(strategy='most_frequent')\n",
        "df_cat_train = X_train[Cat_cols]\n",
        "df_cat_test = X_test[Cat_cols]\n",
        "df_cat_val =X_val[Cat_cols]\n",
        "imputer.fit(df_cat_train)"
      ]
    },
    {
      "cell_type": "code",
      "execution_count": null,
      "metadata": {
        "id": "rgiwaQ_fljGH"
      },
      "outputs": [],
      "source": [
        "df_cat_train=pd.DataFrame(imputer.transform(df_cat_train),columns=Cat_cols)\n",
        "df_cat_test=pd.DataFrame(imputer.transform(df_cat_test),columns=Cat_cols)\n",
        "df_cat_val=pd.DataFrame(imputer.transform(df_cat_val),columns=Cat_cols)\n"
      ]
    },
    {
      "cell_type": "code",
      "execution_count": null,
      "metadata": {
        "colab": {
          "base_uri": "https://localhost:8080/"
        },
        "id": "qykZxM7Wtb0V",
        "outputId": "cc52607c-47b2-4588-91f2-a3ec72b62cc1"
      },
      "outputs": [
        {
          "output_type": "execute_result",
          "data": {
            "text/plain": [
              "EQUIPMENT_TYPE            category\n",
              "CUSTOMER_MILES             float64\n",
              "WEIGHT                     float64\n",
              "IS_HAZARDOUS              category\n",
              "Time_BETWEEN_EARLY         float64\n",
              "Time_BETWEEN_LATE          float64\n",
              "FIRST_PICK_DURATION        float64\n",
              "LAST_DELIVERY_DURATION     float64\n",
              "ORDER_PROCESSING_TIME      float64\n",
              "ORDER_DURATION             float64\n",
              "dtype: object"
            ]
          },
          "metadata": {},
          "execution_count": 344
        }
      ],
      "source": [
        "X_train.dtypes"
      ]
    },
    {
      "cell_type": "markdown",
      "metadata": {
        "id": "5UJFvpfUudGM"
      },
      "source": [
        "#### Imputation missing Numerical columns with Median\n"
      ]
    },
    {
      "cell_type": "code",
      "execution_count": null,
      "metadata": {
        "colab": {
          "base_uri": "https://localhost:8080/"
        },
        "id": "xXyD2Rgpu8Ra",
        "outputId": "a07fc5f1-7a10-4531-f5dc-307142a62ad8"
      },
      "outputs": [
        {
          "output_type": "execute_result",
          "data": {
            "text/plain": [
              "['CUSTOMER_MILES',\n",
              " 'WEIGHT',\n",
              " 'Time_BETWEEN_EARLY',\n",
              " 'Time_BETWEEN_LATE',\n",
              " 'FIRST_PICK_DURATION',\n",
              " 'LAST_DELIVERY_DURATION',\n",
              " 'ORDER_PROCESSING_TIME',\n",
              " 'ORDER_DURATION']"
            ]
          },
          "metadata": {},
          "execution_count": 345
        }
      ],
      "source": [
        "Num_cols = list(SwiftData.select_dtypes(include = \"float\").columns)\n",
        "Num_cols.remove('ORDER_COST')\n",
        "Num_cols"
      ]
    },
    {
      "cell_type": "code",
      "execution_count": null,
      "metadata": {
        "id": "qXU_-W8nqBNf"
      },
      "outputs": [],
      "source": [
        "df_num_train = X_train[Num_cols]\n",
        "df_num_test = X_test[Num_cols]\n",
        "df_num_val = X_val[Num_cols]\n"
      ]
    },
    {
      "cell_type": "code",
      "execution_count": null,
      "metadata": {
        "id": "8Xw4vdSRxarf",
        "colab": {
          "base_uri": "https://localhost:8080/",
          "height": 75
        },
        "outputId": "0e0fac9c-19ac-4124-8e89-13ecaff013c6"
      },
      "outputs": [
        {
          "output_type": "execute_result",
          "data": {
            "text/plain": [
              "SimpleImputer(strategy='median')"
            ],
            "text/html": [
              "<style>#sk-container-id-26 {color: black;background-color: white;}#sk-container-id-26 pre{padding: 0;}#sk-container-id-26 div.sk-toggleable {background-color: white;}#sk-container-id-26 label.sk-toggleable__label {cursor: pointer;display: block;width: 100%;margin-bottom: 0;padding: 0.3em;box-sizing: border-box;text-align: center;}#sk-container-id-26 label.sk-toggleable__label-arrow:before {content: \"▸\";float: left;margin-right: 0.25em;color: #696969;}#sk-container-id-26 label.sk-toggleable__label-arrow:hover:before {color: black;}#sk-container-id-26 div.sk-estimator:hover label.sk-toggleable__label-arrow:before {color: black;}#sk-container-id-26 div.sk-toggleable__content {max-height: 0;max-width: 0;overflow: hidden;text-align: left;background-color: #f0f8ff;}#sk-container-id-26 div.sk-toggleable__content pre {margin: 0.2em;color: black;border-radius: 0.25em;background-color: #f0f8ff;}#sk-container-id-26 input.sk-toggleable__control:checked~div.sk-toggleable__content {max-height: 200px;max-width: 100%;overflow: auto;}#sk-container-id-26 input.sk-toggleable__control:checked~label.sk-toggleable__label-arrow:before {content: \"▾\";}#sk-container-id-26 div.sk-estimator input.sk-toggleable__control:checked~label.sk-toggleable__label {background-color: #d4ebff;}#sk-container-id-26 div.sk-label input.sk-toggleable__control:checked~label.sk-toggleable__label {background-color: #d4ebff;}#sk-container-id-26 input.sk-hidden--visually {border: 0;clip: rect(1px 1px 1px 1px);clip: rect(1px, 1px, 1px, 1px);height: 1px;margin: -1px;overflow: hidden;padding: 0;position: absolute;width: 1px;}#sk-container-id-26 div.sk-estimator {font-family: monospace;background-color: #f0f8ff;border: 1px dotted black;border-radius: 0.25em;box-sizing: border-box;margin-bottom: 0.5em;}#sk-container-id-26 div.sk-estimator:hover {background-color: #d4ebff;}#sk-container-id-26 div.sk-parallel-item::after {content: \"\";width: 100%;border-bottom: 1px solid gray;flex-grow: 1;}#sk-container-id-26 div.sk-label:hover label.sk-toggleable__label {background-color: #d4ebff;}#sk-container-id-26 div.sk-serial::before {content: \"\";position: absolute;border-left: 1px solid gray;box-sizing: border-box;top: 0;bottom: 0;left: 50%;z-index: 0;}#sk-container-id-26 div.sk-serial {display: flex;flex-direction: column;align-items: center;background-color: white;padding-right: 0.2em;padding-left: 0.2em;position: relative;}#sk-container-id-26 div.sk-item {position: relative;z-index: 1;}#sk-container-id-26 div.sk-parallel {display: flex;align-items: stretch;justify-content: center;background-color: white;position: relative;}#sk-container-id-26 div.sk-item::before, #sk-container-id-26 div.sk-parallel-item::before {content: \"\";position: absolute;border-left: 1px solid gray;box-sizing: border-box;top: 0;bottom: 0;left: 50%;z-index: -1;}#sk-container-id-26 div.sk-parallel-item {display: flex;flex-direction: column;z-index: 1;position: relative;background-color: white;}#sk-container-id-26 div.sk-parallel-item:first-child::after {align-self: flex-end;width: 50%;}#sk-container-id-26 div.sk-parallel-item:last-child::after {align-self: flex-start;width: 50%;}#sk-container-id-26 div.sk-parallel-item:only-child::after {width: 0;}#sk-container-id-26 div.sk-dashed-wrapped {border: 1px dashed gray;margin: 0 0.4em 0.5em 0.4em;box-sizing: border-box;padding-bottom: 0.4em;background-color: white;}#sk-container-id-26 div.sk-label label {font-family: monospace;font-weight: bold;display: inline-block;line-height: 1.2em;}#sk-container-id-26 div.sk-label-container {text-align: center;}#sk-container-id-26 div.sk-container {/* jupyter's `normalize.less` sets `[hidden] { display: none; }` but bootstrap.min.css set `[hidden] { display: none !important; }` so we also need the `!important` here to be able to override the default hidden behavior on the sphinx rendered scikit-learn.org. See: https://github.com/scikit-learn/scikit-learn/issues/21755 */display: inline-block !important;position: relative;}#sk-container-id-26 div.sk-text-repr-fallback {display: none;}</style><div id=\"sk-container-id-26\" class=\"sk-top-container\"><div class=\"sk-text-repr-fallback\"><pre>SimpleImputer(strategy=&#x27;median&#x27;)</pre><b>In a Jupyter environment, please rerun this cell to show the HTML representation or trust the notebook. <br />On GitHub, the HTML representation is unable to render, please try loading this page with nbviewer.org.</b></div><div class=\"sk-container\" hidden><div class=\"sk-item\"><div class=\"sk-estimator sk-toggleable\"><input class=\"sk-toggleable__control sk-hidden--visually\" id=\"sk-estimator-id-50\" type=\"checkbox\" checked><label for=\"sk-estimator-id-50\" class=\"sk-toggleable__label sk-toggleable__label-arrow\">SimpleImputer</label><div class=\"sk-toggleable__content\"><pre>SimpleImputer(strategy=&#x27;median&#x27;)</pre></div></div></div></div></div>"
            ]
          },
          "metadata": {},
          "execution_count": 347
        }
      ],
      "source": [
        "num_imputer=SimpleImputer(strategy='median')\n",
        "num_imputer.fit(df_num_train)"
      ]
    },
    {
      "cell_type": "code",
      "execution_count": null,
      "metadata": {
        "id": "KKgsighixtar"
      },
      "outputs": [],
      "source": [
        "df_num_train=pd.DataFrame(num_imputer.transform(df_num_train),columns=Num_cols)\n",
        "df_num_test=pd.DataFrame(num_imputer.transform(df_num_test),columns=Num_cols)\n",
        "df_num_val=pd.DataFrame(num_imputer.transform(df_num_val),columns=Num_cols)\n"
      ]
    },
    {
      "cell_type": "code",
      "execution_count": null,
      "metadata": {
        "colab": {
          "base_uri": "https://localhost:8080/"
        },
        "id": "Grwvjjcqx_fH",
        "outputId": "0cffbd0c-6e84-40b9-e107-0687568f04a5"
      },
      "outputs": [
        {
          "output_type": "execute_result",
          "data": {
            "text/plain": [
              "EQUIPMENT_TYPE    0\n",
              "IS_HAZARDOUS      0\n",
              "dtype: int64"
            ]
          },
          "metadata": {},
          "execution_count": 349
        }
      ],
      "source": [
        "df_cat_train.isnull().sum()"
      ]
    },
    {
      "cell_type": "code",
      "execution_count": null,
      "metadata": {
        "id": "zAujHFmEu5Fc"
      },
      "outputs": [],
      "source": [
        "#### Combine imputed categorical and numeric columns\n",
        "# Combine numeric and categorical in train\n",
        "X_train1=pd.concat([df_cat_train,df_num_train],axis=1)\n",
        "\n",
        "# Combine numeric and categorical in test\n",
        "X_test1=pd.concat([df_cat_test,df_num_test],axis=1)\n",
        "\n",
        "# Combine numeric and categorical in val\n",
        "X_val1=pd.concat([df_cat_val,df_num_val],axis=1)"
      ]
    },
    {
      "cell_type": "code",
      "execution_count": null,
      "metadata": {
        "colab": {
          "base_uri": "https://localhost:8080/"
        },
        "id": "8xt_wvVtvcME",
        "outputId": "c36e42b4-1168-43bf-f722-b550369163e7"
      },
      "outputs": [
        {
          "output_type": "stream",
          "name": "stdout",
          "text": [
            "(11988, 10)\n",
            "(3747, 10)\n",
            "(2998, 10)\n"
          ]
        }
      ],
      "source": [
        "print(X_train1.shape)\n",
        "print(X_test1.shape)\n",
        "print(X_val1.shape)"
      ]
    },
    {
      "cell_type": "markdown",
      "metadata": {
        "id": "Tsk-fYNov9L9"
      },
      "source": [
        "### Standardize the numerical attributes\n"
      ]
    },
    {
      "cell_type": "code",
      "execution_count": null,
      "metadata": {
        "id": "Z4y5Czk-fsSR"
      },
      "outputs": [],
      "source": [
        "from sklearn.preprocessing import StandardScaler\n",
        "\n",
        "# Create the Min-Max scaler object\n",
        "scaler = StandardScaler()\n",
        "\n",
        "# Fit and transform the num columns list using the scaler\n",
        "train_std= pd.DataFrame(scaler.fit_transform(X_train1[Num_cols]),columns = Num_cols )\n",
        "test_std = pd.DataFrame(scaler.transform(X_test1[Num_cols]),columns = Num_cols )\n",
        "Val_std = pd.DataFrame(scaler.transform(X_val1[Num_cols]),columns = Num_cols )"
      ]
    },
    {
      "cell_type": "markdown",
      "metadata": {
        "id": "Uy_Ie90R3Pl8"
      },
      "source": [
        "### OneHotEncoder : Converting Categorical attributes to Numeric attributes\n"
      ]
    },
    {
      "cell_type": "code",
      "execution_count": null,
      "metadata": {
        "id": "-cBldYDX5PJb"
      },
      "outputs": [],
      "source": [
        "from sklearn.preprocessing import OneHotEncoder\n",
        "\n",
        "ohe=OneHotEncoder(drop=\"first\",sparse=False, handle_unknown=\"ignore\")\n",
        "# basically drop first column to reduce multicollinearity\n",
        "# dont create sparse matrix (so that it can be in data frame )\n",
        "\n",
        "train_ohe=pd.DataFrame(ohe.fit_transform(X_train1[Cat_cols]))\n",
        "test_ohe=pd.DataFrame(ohe.transform(X_test1[Cat_cols]))\n",
        "Val_ohe=pd.DataFrame(ohe.transform(X_val1[Cat_cols]))\n",
        "\n",
        "#If we dont give any names dont show names froo columns ,so with the following code we are giving their respective  column names after doing one hot encoding \n",
        "\n",
        "train_ohe.columns= ohe.get_feature_names_out(X_train1[Cat_cols].columns)\n",
        "test_ohe.columns=  ohe.get_feature_names_out(X_test1[Cat_cols].columns)\n",
        "\n",
        "Val_ohe.columns = ohe.get_feature_names_out(X_val1[Cat_cols].columns)"
      ]
    },
    {
      "cell_type": "code",
      "execution_count": null,
      "metadata": {
        "id": "Km4Hqzxt5PG0"
      },
      "outputs": [],
      "source": [
        "X_train_con = pd.concat([train_ohe,train_std],axis =1)\n",
        "\n",
        "X_test_con = pd.concat([test_ohe,test_std],axis =1)\n",
        "\n",
        "X_val_con= pd.concat([Val_ohe,Val_std],axis =1)"
      ]
    },
    {
      "cell_type": "code",
      "execution_count": null,
      "metadata": {
        "colab": {
          "base_uri": "https://localhost:8080/",
          "height": 317
        },
        "id": "JJ1PZqEH5PC2",
        "outputId": "e25b12b2-2f68-44fd-9989-6f67ed1cc3c1"
      },
      "outputs": [
        {
          "output_type": "execute_result",
          "data": {
            "text/plain": [
              "   EQUIPMENT_TYPE_D-LTL  EQUIPMENT_TYPE_DRAY  EQUIPMENT_TYPE_DROP  \\\n",
              "0                   0.0                  0.0                  0.0   \n",
              "1                   0.0                  0.0                  0.0   \n",
              "2                   0.0                  0.0                  0.0   \n",
              "3                   0.0                  0.0                  0.0   \n",
              "4                   0.0                  0.0                  0.0   \n",
              "\n",
              "   EQUIPMENT_TYPE_F  EQUIPMENT_TYPE_FH  EQUIPMENT_TYPE_IMDL  \\\n",
              "0               0.0                0.0                  0.0   \n",
              "1               0.0                0.0                  0.0   \n",
              "2               0.0                0.0                  0.0   \n",
              "3               0.0                0.0                  0.0   \n",
              "4               0.0                0.0                  0.0   \n",
              "\n",
              "   EQUIPMENT_TYPE_LTL  EQUIPMENT_TYPE_PO  EQUIPMENT_TYPE_POWER  \\\n",
              "0                 0.0                1.0                   0.0   \n",
              "1                 0.0                0.0                   0.0   \n",
              "2                 0.0                0.0                   0.0   \n",
              "3                 0.0                0.0                   0.0   \n",
              "4                 0.0                0.0                   0.0   \n",
              "\n",
              "   EQUIPMENT_TYPE_R  ...  EQUIPMENT_TYPE_VZ  IS_HAZARDOUS_Y  CUSTOMER_MILES  \\\n",
              "0               0.0  ...                0.0             0.0       -0.748281   \n",
              "1               1.0  ...                0.0             0.0        1.349959   \n",
              "2               0.0  ...                0.0             0.0       -0.771813   \n",
              "3               1.0  ...                0.0             0.0        0.381239   \n",
              "4               0.0  ...                0.0             0.0       -0.563950   \n",
              "\n",
              "     WEIGHT  Time_BETWEEN_EARLY  Time_BETWEEN_LATE  FIRST_PICK_DURATION  \\\n",
              "0 -1.564860           -0.010662          -0.018584            -0.012650   \n",
              "1  0.811784            0.000431          -0.010404            -0.025103   \n",
              "2 -1.070125           -0.008933          -0.018110            -0.025103   \n",
              "3 -1.564860           -0.004323          -0.014316            -0.025103   \n",
              "4  1.094340           -0.003747          -0.014316            -0.010160   \n",
              "\n",
              "   LAST_DELIVERY_DURATION  ORDER_PROCESSING_TIME  ORDER_DURATION  \n",
              "0               -0.014044              -0.801740       -0.053353  \n",
              "1               -0.016754              -0.500979       -0.033777  \n",
              "2               -0.016754               0.314832       -0.007457  \n",
              "3               -0.016754              -0.617387       -0.042563  \n",
              "4               -0.015549              -0.813049       -0.049303  \n",
              "\n",
              "[5 rows x 34 columns]"
            ],
            "text/html": [
              "\n",
              "  <div id=\"df-9a1faf55-863b-44fe-89a3-ba7aa3b4a3b5\">\n",
              "    <div class=\"colab-df-container\">\n",
              "      <div>\n",
              "<style scoped>\n",
              "    .dataframe tbody tr th:only-of-type {\n",
              "        vertical-align: middle;\n",
              "    }\n",
              "\n",
              "    .dataframe tbody tr th {\n",
              "        vertical-align: top;\n",
              "    }\n",
              "\n",
              "    .dataframe thead th {\n",
              "        text-align: right;\n",
              "    }\n",
              "</style>\n",
              "<table border=\"1\" class=\"dataframe\">\n",
              "  <thead>\n",
              "    <tr style=\"text-align: right;\">\n",
              "      <th></th>\n",
              "      <th>EQUIPMENT_TYPE_D-LTL</th>\n",
              "      <th>EQUIPMENT_TYPE_DRAY</th>\n",
              "      <th>EQUIPMENT_TYPE_DROP</th>\n",
              "      <th>EQUIPMENT_TYPE_F</th>\n",
              "      <th>EQUIPMENT_TYPE_FH</th>\n",
              "      <th>EQUIPMENT_TYPE_IMDL</th>\n",
              "      <th>EQUIPMENT_TYPE_LTL</th>\n",
              "      <th>EQUIPMENT_TYPE_PO</th>\n",
              "      <th>EQUIPMENT_TYPE_POWER</th>\n",
              "      <th>EQUIPMENT_TYPE_R</th>\n",
              "      <th>...</th>\n",
              "      <th>EQUIPMENT_TYPE_VZ</th>\n",
              "      <th>IS_HAZARDOUS_Y</th>\n",
              "      <th>CUSTOMER_MILES</th>\n",
              "      <th>WEIGHT</th>\n",
              "      <th>Time_BETWEEN_EARLY</th>\n",
              "      <th>Time_BETWEEN_LATE</th>\n",
              "      <th>FIRST_PICK_DURATION</th>\n",
              "      <th>LAST_DELIVERY_DURATION</th>\n",
              "      <th>ORDER_PROCESSING_TIME</th>\n",
              "      <th>ORDER_DURATION</th>\n",
              "    </tr>\n",
              "  </thead>\n",
              "  <tbody>\n",
              "    <tr>\n",
              "      <th>0</th>\n",
              "      <td>0.0</td>\n",
              "      <td>0.0</td>\n",
              "      <td>0.0</td>\n",
              "      <td>0.0</td>\n",
              "      <td>0.0</td>\n",
              "      <td>0.0</td>\n",
              "      <td>0.0</td>\n",
              "      <td>1.0</td>\n",
              "      <td>0.0</td>\n",
              "      <td>0.0</td>\n",
              "      <td>...</td>\n",
              "      <td>0.0</td>\n",
              "      <td>0.0</td>\n",
              "      <td>-0.748281</td>\n",
              "      <td>-1.564860</td>\n",
              "      <td>-0.010662</td>\n",
              "      <td>-0.018584</td>\n",
              "      <td>-0.012650</td>\n",
              "      <td>-0.014044</td>\n",
              "      <td>-0.801740</td>\n",
              "      <td>-0.053353</td>\n",
              "    </tr>\n",
              "    <tr>\n",
              "      <th>1</th>\n",
              "      <td>0.0</td>\n",
              "      <td>0.0</td>\n",
              "      <td>0.0</td>\n",
              "      <td>0.0</td>\n",
              "      <td>0.0</td>\n",
              "      <td>0.0</td>\n",
              "      <td>0.0</td>\n",
              "      <td>0.0</td>\n",
              "      <td>0.0</td>\n",
              "      <td>1.0</td>\n",
              "      <td>...</td>\n",
              "      <td>0.0</td>\n",
              "      <td>0.0</td>\n",
              "      <td>1.349959</td>\n",
              "      <td>0.811784</td>\n",
              "      <td>0.000431</td>\n",
              "      <td>-0.010404</td>\n",
              "      <td>-0.025103</td>\n",
              "      <td>-0.016754</td>\n",
              "      <td>-0.500979</td>\n",
              "      <td>-0.033777</td>\n",
              "    </tr>\n",
              "    <tr>\n",
              "      <th>2</th>\n",
              "      <td>0.0</td>\n",
              "      <td>0.0</td>\n",
              "      <td>0.0</td>\n",
              "      <td>0.0</td>\n",
              "      <td>0.0</td>\n",
              "      <td>0.0</td>\n",
              "      <td>0.0</td>\n",
              "      <td>0.0</td>\n",
              "      <td>0.0</td>\n",
              "      <td>0.0</td>\n",
              "      <td>...</td>\n",
              "      <td>0.0</td>\n",
              "      <td>0.0</td>\n",
              "      <td>-0.771813</td>\n",
              "      <td>-1.070125</td>\n",
              "      <td>-0.008933</td>\n",
              "      <td>-0.018110</td>\n",
              "      <td>-0.025103</td>\n",
              "      <td>-0.016754</td>\n",
              "      <td>0.314832</td>\n",
              "      <td>-0.007457</td>\n",
              "    </tr>\n",
              "    <tr>\n",
              "      <th>3</th>\n",
              "      <td>0.0</td>\n",
              "      <td>0.0</td>\n",
              "      <td>0.0</td>\n",
              "      <td>0.0</td>\n",
              "      <td>0.0</td>\n",
              "      <td>0.0</td>\n",
              "      <td>0.0</td>\n",
              "      <td>0.0</td>\n",
              "      <td>0.0</td>\n",
              "      <td>1.0</td>\n",
              "      <td>...</td>\n",
              "      <td>0.0</td>\n",
              "      <td>0.0</td>\n",
              "      <td>0.381239</td>\n",
              "      <td>-1.564860</td>\n",
              "      <td>-0.004323</td>\n",
              "      <td>-0.014316</td>\n",
              "      <td>-0.025103</td>\n",
              "      <td>-0.016754</td>\n",
              "      <td>-0.617387</td>\n",
              "      <td>-0.042563</td>\n",
              "    </tr>\n",
              "    <tr>\n",
              "      <th>4</th>\n",
              "      <td>0.0</td>\n",
              "      <td>0.0</td>\n",
              "      <td>0.0</td>\n",
              "      <td>0.0</td>\n",
              "      <td>0.0</td>\n",
              "      <td>0.0</td>\n",
              "      <td>0.0</td>\n",
              "      <td>0.0</td>\n",
              "      <td>0.0</td>\n",
              "      <td>0.0</td>\n",
              "      <td>...</td>\n",
              "      <td>0.0</td>\n",
              "      <td>0.0</td>\n",
              "      <td>-0.563950</td>\n",
              "      <td>1.094340</td>\n",
              "      <td>-0.003747</td>\n",
              "      <td>-0.014316</td>\n",
              "      <td>-0.010160</td>\n",
              "      <td>-0.015549</td>\n",
              "      <td>-0.813049</td>\n",
              "      <td>-0.049303</td>\n",
              "    </tr>\n",
              "  </tbody>\n",
              "</table>\n",
              "<p>5 rows × 34 columns</p>\n",
              "</div>\n",
              "      <button class=\"colab-df-convert\" onclick=\"convertToInteractive('df-9a1faf55-863b-44fe-89a3-ba7aa3b4a3b5')\"\n",
              "              title=\"Convert this dataframe to an interactive table.\"\n",
              "              style=\"display:none;\">\n",
              "        \n",
              "  <svg xmlns=\"http://www.w3.org/2000/svg\" height=\"24px\"viewBox=\"0 0 24 24\"\n",
              "       width=\"24px\">\n",
              "    <path d=\"M0 0h24v24H0V0z\" fill=\"none\"/>\n",
              "    <path d=\"M18.56 5.44l.94 2.06.94-2.06 2.06-.94-2.06-.94-.94-2.06-.94 2.06-2.06.94zm-11 1L8.5 8.5l.94-2.06 2.06-.94-2.06-.94L8.5 2.5l-.94 2.06-2.06.94zm10 10l.94 2.06.94-2.06 2.06-.94-2.06-.94-.94-2.06-.94 2.06-2.06.94z\"/><path d=\"M17.41 7.96l-1.37-1.37c-.4-.4-.92-.59-1.43-.59-.52 0-1.04.2-1.43.59L10.3 9.45l-7.72 7.72c-.78.78-.78 2.05 0 2.83L4 21.41c.39.39.9.59 1.41.59.51 0 1.02-.2 1.41-.59l7.78-7.78 2.81-2.81c.8-.78.8-2.07 0-2.86zM5.41 20L4 18.59l7.72-7.72 1.47 1.35L5.41 20z\"/>\n",
              "  </svg>\n",
              "      </button>\n",
              "      \n",
              "  <style>\n",
              "    .colab-df-container {\n",
              "      display:flex;\n",
              "      flex-wrap:wrap;\n",
              "      gap: 12px;\n",
              "    }\n",
              "\n",
              "    .colab-df-convert {\n",
              "      background-color: #E8F0FE;\n",
              "      border: none;\n",
              "      border-radius: 50%;\n",
              "      cursor: pointer;\n",
              "      display: none;\n",
              "      fill: #1967D2;\n",
              "      height: 32px;\n",
              "      padding: 0 0 0 0;\n",
              "      width: 32px;\n",
              "    }\n",
              "\n",
              "    .colab-df-convert:hover {\n",
              "      background-color: #E2EBFA;\n",
              "      box-shadow: 0px 1px 2px rgba(60, 64, 67, 0.3), 0px 1px 3px 1px rgba(60, 64, 67, 0.15);\n",
              "      fill: #174EA6;\n",
              "    }\n",
              "\n",
              "    [theme=dark] .colab-df-convert {\n",
              "      background-color: #3B4455;\n",
              "      fill: #D2E3FC;\n",
              "    }\n",
              "\n",
              "    [theme=dark] .colab-df-convert:hover {\n",
              "      background-color: #434B5C;\n",
              "      box-shadow: 0px 1px 3px 1px rgba(0, 0, 0, 0.15);\n",
              "      filter: drop-shadow(0px 1px 2px rgba(0, 0, 0, 0.3));\n",
              "      fill: #FFFFFF;\n",
              "    }\n",
              "  </style>\n",
              "\n",
              "      <script>\n",
              "        const buttonEl =\n",
              "          document.querySelector('#df-9a1faf55-863b-44fe-89a3-ba7aa3b4a3b5 button.colab-df-convert');\n",
              "        buttonEl.style.display =\n",
              "          google.colab.kernel.accessAllowed ? 'block' : 'none';\n",
              "\n",
              "        async function convertToInteractive(key) {\n",
              "          const element = document.querySelector('#df-9a1faf55-863b-44fe-89a3-ba7aa3b4a3b5');\n",
              "          const dataTable =\n",
              "            await google.colab.kernel.invokeFunction('convertToInteractive',\n",
              "                                                     [key], {});\n",
              "          if (!dataTable) return;\n",
              "\n",
              "          const docLinkHtml = 'Like what you see? Visit the ' +\n",
              "            '<a target=\"_blank\" href=https://colab.research.google.com/notebooks/data_table.ipynb>data table notebook</a>'\n",
              "            + ' to learn more about interactive tables.';\n",
              "          element.innerHTML = '';\n",
              "          dataTable['output_type'] = 'display_data';\n",
              "          await google.colab.output.renderOutput(dataTable, element);\n",
              "          const docLink = document.createElement('div');\n",
              "          docLink.innerHTML = docLinkHtml;\n",
              "          element.appendChild(docLink);\n",
              "        }\n",
              "      </script>\n",
              "    </div>\n",
              "  </div>\n",
              "  "
            ]
          },
          "metadata": {},
          "execution_count": 355
        }
      ],
      "source": [
        "X_train_con.head()"
      ]
    },
    {
      "cell_type": "code",
      "execution_count": null,
      "metadata": {
        "id": "VOnySs3h3Dkz"
      },
      "outputs": [],
      "source": [
        "from sklearn import metrics\n",
        "scores = pd.DataFrame(columns=['Model','MAE_Train','RMSE_Train','MAE_Test','RMSE_Test','R'])\n",
        "\n",
        "\n",
        "#definition of error metrics function\n",
        "def get_metrics(train_act,train_pred,test_act,test_pred,model_description,dataframe):\n",
        "    MAE_Train = metrics.mean_absolute_error(train_act,train_pred)\n",
        "    RMSE_Train =np.sqrt(metrics.mean_squared_error(train_act,train_pred))\n",
        "    MAE_Test = metrics.mean_absolute_error(test_act,test_pred)\n",
        "    RMSE_Test =np.sqrt(metrics.mean_squared_error(test_act,test_pred))\n",
        "    R2=metrics.r2_score(train_act,train_pred)\n",
        "    s1=pd.Series([model_description,MAE_Train,RMSE_Train,MAE_Test,RMSE_Test,R2],\n",
        "                                           index=scores.columns)\n",
        "    dataframe = dataframe.append(s1, ignore_index=True)\n",
        "    return(dataframe)\n"
      ]
    },
    {
      "cell_type": "code",
      "execution_count": null,
      "metadata": {
        "id": "whFzePrx1K0I"
      },
      "outputs": [],
      "source": [
        "from sklearn.linear_model import Lasso"
      ]
    },
    {
      "cell_type": "code",
      "execution_count": null,
      "metadata": {
        "colab": {
          "base_uri": "https://localhost:8080/",
          "height": 75
        },
        "id": "mNe64ODy2coR",
        "outputId": "8f6e75c4-42f1-47b3-d1e7-a9f905b63bd6"
      },
      "outputs": [
        {
          "output_type": "execute_result",
          "data": {
            "text/plain": [
              "Lasso(alpha=0.3)"
            ],
            "text/html": [
              "<style>#sk-container-id-27 {color: black;background-color: white;}#sk-container-id-27 pre{padding: 0;}#sk-container-id-27 div.sk-toggleable {background-color: white;}#sk-container-id-27 label.sk-toggleable__label {cursor: pointer;display: block;width: 100%;margin-bottom: 0;padding: 0.3em;box-sizing: border-box;text-align: center;}#sk-container-id-27 label.sk-toggleable__label-arrow:before {content: \"▸\";float: left;margin-right: 0.25em;color: #696969;}#sk-container-id-27 label.sk-toggleable__label-arrow:hover:before {color: black;}#sk-container-id-27 div.sk-estimator:hover label.sk-toggleable__label-arrow:before {color: black;}#sk-container-id-27 div.sk-toggleable__content {max-height: 0;max-width: 0;overflow: hidden;text-align: left;background-color: #f0f8ff;}#sk-container-id-27 div.sk-toggleable__content pre {margin: 0.2em;color: black;border-radius: 0.25em;background-color: #f0f8ff;}#sk-container-id-27 input.sk-toggleable__control:checked~div.sk-toggleable__content {max-height: 200px;max-width: 100%;overflow: auto;}#sk-container-id-27 input.sk-toggleable__control:checked~label.sk-toggleable__label-arrow:before {content: \"▾\";}#sk-container-id-27 div.sk-estimator input.sk-toggleable__control:checked~label.sk-toggleable__label {background-color: #d4ebff;}#sk-container-id-27 div.sk-label input.sk-toggleable__control:checked~label.sk-toggleable__label {background-color: #d4ebff;}#sk-container-id-27 input.sk-hidden--visually {border: 0;clip: rect(1px 1px 1px 1px);clip: rect(1px, 1px, 1px, 1px);height: 1px;margin: -1px;overflow: hidden;padding: 0;position: absolute;width: 1px;}#sk-container-id-27 div.sk-estimator {font-family: monospace;background-color: #f0f8ff;border: 1px dotted black;border-radius: 0.25em;box-sizing: border-box;margin-bottom: 0.5em;}#sk-container-id-27 div.sk-estimator:hover {background-color: #d4ebff;}#sk-container-id-27 div.sk-parallel-item::after {content: \"\";width: 100%;border-bottom: 1px solid gray;flex-grow: 1;}#sk-container-id-27 div.sk-label:hover label.sk-toggleable__label {background-color: #d4ebff;}#sk-container-id-27 div.sk-serial::before {content: \"\";position: absolute;border-left: 1px solid gray;box-sizing: border-box;top: 0;bottom: 0;left: 50%;z-index: 0;}#sk-container-id-27 div.sk-serial {display: flex;flex-direction: column;align-items: center;background-color: white;padding-right: 0.2em;padding-left: 0.2em;position: relative;}#sk-container-id-27 div.sk-item {position: relative;z-index: 1;}#sk-container-id-27 div.sk-parallel {display: flex;align-items: stretch;justify-content: center;background-color: white;position: relative;}#sk-container-id-27 div.sk-item::before, #sk-container-id-27 div.sk-parallel-item::before {content: \"\";position: absolute;border-left: 1px solid gray;box-sizing: border-box;top: 0;bottom: 0;left: 50%;z-index: -1;}#sk-container-id-27 div.sk-parallel-item {display: flex;flex-direction: column;z-index: 1;position: relative;background-color: white;}#sk-container-id-27 div.sk-parallel-item:first-child::after {align-self: flex-end;width: 50%;}#sk-container-id-27 div.sk-parallel-item:last-child::after {align-self: flex-start;width: 50%;}#sk-container-id-27 div.sk-parallel-item:only-child::after {width: 0;}#sk-container-id-27 div.sk-dashed-wrapped {border: 1px dashed gray;margin: 0 0.4em 0.5em 0.4em;box-sizing: border-box;padding-bottom: 0.4em;background-color: white;}#sk-container-id-27 div.sk-label label {font-family: monospace;font-weight: bold;display: inline-block;line-height: 1.2em;}#sk-container-id-27 div.sk-label-container {text-align: center;}#sk-container-id-27 div.sk-container {/* jupyter's `normalize.less` sets `[hidden] { display: none; }` but bootstrap.min.css set `[hidden] { display: none !important; }` so we also need the `!important` here to be able to override the default hidden behavior on the sphinx rendered scikit-learn.org. See: https://github.com/scikit-learn/scikit-learn/issues/21755 */display: inline-block !important;position: relative;}#sk-container-id-27 div.sk-text-repr-fallback {display: none;}</style><div id=\"sk-container-id-27\" class=\"sk-top-container\"><div class=\"sk-text-repr-fallback\"><pre>Lasso(alpha=0.3)</pre><b>In a Jupyter environment, please rerun this cell to show the HTML representation or trust the notebook. <br />On GitHub, the HTML representation is unable to render, please try loading this page with nbviewer.org.</b></div><div class=\"sk-container\" hidden><div class=\"sk-item\"><div class=\"sk-estimator sk-toggleable\"><input class=\"sk-toggleable__control sk-hidden--visually\" id=\"sk-estimator-id-51\" type=\"checkbox\" checked><label for=\"sk-estimator-id-51\" class=\"sk-toggleable__label sk-toggleable__label-arrow\">Lasso</label><div class=\"sk-toggleable__content\"><pre>Lasso(alpha=0.3)</pre></div></div></div></div></div>"
            ]
          },
          "metadata": {},
          "execution_count": 358
        }
      ],
      "source": [
        "lassoReg = Lasso(alpha=.3)\n",
        "\n",
        "lassoReg.fit(X_train_con,Y_train)"
      ]
    },
    {
      "cell_type": "code",
      "source": [
        "feature_contributions = pd.Series(abs(lassoReg.coef_), index=X_train_con.columns)\n",
        "feature_contributions_percentage = (feature_contributions / feature_contributions.sum()) * 100\n",
        "feature_contributions_percentage = feature_contributions_percentage.sort_values(ascending=False)\n"
      ],
      "metadata": {
        "id": "q8hG_ZJ1SL6U"
      },
      "execution_count": null,
      "outputs": []
    },
    {
      "cell_type": "code",
      "source": [
        "feature_contributions_percentage"
      ],
      "metadata": {
        "colab": {
          "base_uri": "https://localhost:8080/"
        },
        "id": "2YbqBZ56SUJx",
        "outputId": "9080dea7-9a9f-4791-88e8-1bc7af1c267d"
      },
      "execution_count": null,
      "outputs": [
        {
          "output_type": "execute_result",
          "data": {
            "text/plain": [
              "EQUIPMENT_TYPE_RAIL          19.943580\n",
              "EQUIPMENT_TYPE_RM            16.863698\n",
              "CUSTOMER_MILES               12.746245\n",
              "EQUIPMENT_TYPE_IMDL          10.284028\n",
              "EQUIPMENT_TYPE_R              9.186236\n",
              "EQUIPMENT_TYPE_F              6.328952\n",
              "EQUIPMENT_TYPE_VZ             5.878334\n",
              "EQUIPMENT_TYPE_LTL            5.234909\n",
              "ORDER_PROCESSING_TIME         4.307739\n",
              "EQUIPMENT_TYPE_VR             4.292132\n",
              "WEIGHT                        3.118433\n",
              "EQUIPMENT_TYPE_POWER          1.561692\n",
              "EQUIPMENT_TYPE_V              0.107260\n",
              "LAST_DELIVERY_DURATION        0.064872\n",
              "FIRST_PICK_DURATION           0.054788\n",
              "Time_BETWEEN_EARLY            0.027103\n",
              "EQUIPMENT_TYPE_VP             0.000000\n",
              "Time_BETWEEN_LATE             0.000000\n",
              "IS_HAZARDOUS_Y                0.000000\n",
              "EQUIPMENT_TYPE_VS             0.000000\n",
              "EQUIPMENT_TYPE_D-LTL          0.000000\n",
              "EQUIPMENT_TYPE_VA             0.000000\n",
              "EQUIPMENT_TYPE_VOLUME LTL     0.000000\n",
              "EQUIPMENT_TYPE_VM             0.000000\n",
              "EQUIPMENT_TYPE_VCAR           0.000000\n",
              "EQUIPMENT_TYPE_DRAY           0.000000\n",
              "EQUIPMENT_TYPE_V/R            0.000000\n",
              "EQUIPMENT_TYPE_V-DROP         0.000000\n",
              "EQUIPMENT_TYPE_SD             0.000000\n",
              "EQUIPMENT_TYPE_SB             0.000000\n",
              "EQUIPMENT_TYPE_PO             0.000000\n",
              "EQUIPMENT_TYPE_FH             0.000000\n",
              "EQUIPMENT_TYPE_DROP           0.000000\n",
              "ORDER_DURATION                0.000000\n",
              "dtype: float64"
            ]
          },
          "metadata": {},
          "execution_count": 395
        }
      ]
    },
    {
      "cell_type": "code",
      "source": [
        "from sklearn.feature_selection import SelectFromModel\n",
        "important_features = SelectFromModel(lassoReg, prefit=True)\n",
        "selected_features = X_train_con.columns[important_features.get_support()]\n"
      ],
      "metadata": {
        "id": "EfN0f-hWQA4O"
      },
      "execution_count": null,
      "outputs": []
    },
    {
      "cell_type": "code",
      "source": [
        "selected_features"
      ],
      "metadata": {
        "colab": {
          "base_uri": "https://localhost:8080/"
        },
        "id": "laU2xwdxRRYI",
        "outputId": "82caa1d2-e2b1-4f87-9be1-a1297315b794"
      },
      "execution_count": null,
      "outputs": [
        {
          "output_type": "execute_result",
          "data": {
            "text/plain": [
              "Index(['EQUIPMENT_TYPE_F', 'EQUIPMENT_TYPE_IMDL', 'EQUIPMENT_TYPE_LTL',\n",
              "       'EQUIPMENT_TYPE_POWER', 'EQUIPMENT_TYPE_R', 'EQUIPMENT_TYPE_RAIL',\n",
              "       'EQUIPMENT_TYPE_RM', 'EQUIPMENT_TYPE_V', 'EQUIPMENT_TYPE_VR',\n",
              "       'EQUIPMENT_TYPE_VZ', 'CUSTOMER_MILES', 'WEIGHT', 'Time_BETWEEN_EARLY',\n",
              "       'FIRST_PICK_DURATION', 'LAST_DELIVERY_DURATION',\n",
              "       'ORDER_PROCESSING_TIME'],\n",
              "      dtype='object')"
            ]
          },
          "metadata": {},
          "execution_count": 393
        }
      ]
    },
    {
      "cell_type": "code",
      "source": [
        "scores = get_metrics(Y_train,\n",
        "                     lassoReg.predict(X_train_con),\n",
        "                     Y_val,lassoReg.predict(X_val_con),\n",
        "                     \"Lasso_reg\",scores)\n",
        "scores"
      ],
      "metadata": {
        "colab": {
          "base_uri": "https://localhost:8080/",
          "height": 81
        },
        "id": "GVvUIRjF_PGi",
        "outputId": "8db2bf34-6389-4eba-d7eb-71d153533f50"
      },
      "execution_count": null,
      "outputs": [
        {
          "output_type": "execute_result",
          "data": {
            "text/plain": [
              "       Model   MAE_Train  RMSE_Train    MAE_Test   RMSE_Test         R\n",
              "0  Lasso_reg  453.608152  661.834968  468.784151  687.396945  0.503878"
            ],
            "text/html": [
              "\n",
              "  <div id=\"df-08dabb9c-e834-499d-8e41-c26b4e04b0a3\">\n",
              "    <div class=\"colab-df-container\">\n",
              "      <div>\n",
              "<style scoped>\n",
              "    .dataframe tbody tr th:only-of-type {\n",
              "        vertical-align: middle;\n",
              "    }\n",
              "\n",
              "    .dataframe tbody tr th {\n",
              "        vertical-align: top;\n",
              "    }\n",
              "\n",
              "    .dataframe thead th {\n",
              "        text-align: right;\n",
              "    }\n",
              "</style>\n",
              "<table border=\"1\" class=\"dataframe\">\n",
              "  <thead>\n",
              "    <tr style=\"text-align: right;\">\n",
              "      <th></th>\n",
              "      <th>Model</th>\n",
              "      <th>MAE_Train</th>\n",
              "      <th>RMSE_Train</th>\n",
              "      <th>MAE_Test</th>\n",
              "      <th>RMSE_Test</th>\n",
              "      <th>R</th>\n",
              "    </tr>\n",
              "  </thead>\n",
              "  <tbody>\n",
              "    <tr>\n",
              "      <th>0</th>\n",
              "      <td>Lasso_reg</td>\n",
              "      <td>453.608152</td>\n",
              "      <td>661.834968</td>\n",
              "      <td>468.784151</td>\n",
              "      <td>687.396945</td>\n",
              "      <td>0.503878</td>\n",
              "    </tr>\n",
              "  </tbody>\n",
              "</table>\n",
              "</div>\n",
              "      <button class=\"colab-df-convert\" onclick=\"convertToInteractive('df-08dabb9c-e834-499d-8e41-c26b4e04b0a3')\"\n",
              "              title=\"Convert this dataframe to an interactive table.\"\n",
              "              style=\"display:none;\">\n",
              "        \n",
              "  <svg xmlns=\"http://www.w3.org/2000/svg\" height=\"24px\"viewBox=\"0 0 24 24\"\n",
              "       width=\"24px\">\n",
              "    <path d=\"M0 0h24v24H0V0z\" fill=\"none\"/>\n",
              "    <path d=\"M18.56 5.44l.94 2.06.94-2.06 2.06-.94-2.06-.94-.94-2.06-.94 2.06-2.06.94zm-11 1L8.5 8.5l.94-2.06 2.06-.94-2.06-.94L8.5 2.5l-.94 2.06-2.06.94zm10 10l.94 2.06.94-2.06 2.06-.94-2.06-.94-.94-2.06-.94 2.06-2.06.94z\"/><path d=\"M17.41 7.96l-1.37-1.37c-.4-.4-.92-.59-1.43-.59-.52 0-1.04.2-1.43.59L10.3 9.45l-7.72 7.72c-.78.78-.78 2.05 0 2.83L4 21.41c.39.39.9.59 1.41.59.51 0 1.02-.2 1.41-.59l7.78-7.78 2.81-2.81c.8-.78.8-2.07 0-2.86zM5.41 20L4 18.59l7.72-7.72 1.47 1.35L5.41 20z\"/>\n",
              "  </svg>\n",
              "      </button>\n",
              "      \n",
              "  <style>\n",
              "    .colab-df-container {\n",
              "      display:flex;\n",
              "      flex-wrap:wrap;\n",
              "      gap: 12px;\n",
              "    }\n",
              "\n",
              "    .colab-df-convert {\n",
              "      background-color: #E8F0FE;\n",
              "      border: none;\n",
              "      border-radius: 50%;\n",
              "      cursor: pointer;\n",
              "      display: none;\n",
              "      fill: #1967D2;\n",
              "      height: 32px;\n",
              "      padding: 0 0 0 0;\n",
              "      width: 32px;\n",
              "    }\n",
              "\n",
              "    .colab-df-convert:hover {\n",
              "      background-color: #E2EBFA;\n",
              "      box-shadow: 0px 1px 2px rgba(60, 64, 67, 0.3), 0px 1px 3px 1px rgba(60, 64, 67, 0.15);\n",
              "      fill: #174EA6;\n",
              "    }\n",
              "\n",
              "    [theme=dark] .colab-df-convert {\n",
              "      background-color: #3B4455;\n",
              "      fill: #D2E3FC;\n",
              "    }\n",
              "\n",
              "    [theme=dark] .colab-df-convert:hover {\n",
              "      background-color: #434B5C;\n",
              "      box-shadow: 0px 1px 3px 1px rgba(0, 0, 0, 0.15);\n",
              "      filter: drop-shadow(0px 1px 2px rgba(0, 0, 0, 0.3));\n",
              "      fill: #FFFFFF;\n",
              "    }\n",
              "  </style>\n",
              "\n",
              "      <script>\n",
              "        const buttonEl =\n",
              "          document.querySelector('#df-08dabb9c-e834-499d-8e41-c26b4e04b0a3 button.colab-df-convert');\n",
              "        buttonEl.style.display =\n",
              "          google.colab.kernel.accessAllowed ? 'block' : 'none';\n",
              "\n",
              "        async function convertToInteractive(key) {\n",
              "          const element = document.querySelector('#df-08dabb9c-e834-499d-8e41-c26b4e04b0a3');\n",
              "          const dataTable =\n",
              "            await google.colab.kernel.invokeFunction('convertToInteractive',\n",
              "                                                     [key], {});\n",
              "          if (!dataTable) return;\n",
              "\n",
              "          const docLinkHtml = 'Like what you see? Visit the ' +\n",
              "            '<a target=\"_blank\" href=https://colab.research.google.com/notebooks/data_table.ipynb>data table notebook</a>'\n",
              "            + ' to learn more about interactive tables.';\n",
              "          element.innerHTML = '';\n",
              "          dataTable['output_type'] = 'display_data';\n",
              "          await google.colab.output.renderOutput(dataTable, element);\n",
              "          const docLink = document.createElement('div');\n",
              "          docLink.innerHTML = docLinkHtml;\n",
              "          element.appendChild(docLink);\n",
              "        }\n",
              "      </script>\n",
              "    </div>\n",
              "  </div>\n",
              "  "
            ]
          },
          "metadata": {},
          "execution_count": 359
        }
      ]
    },
    {
      "cell_type": "markdown",
      "source": [
        " lets try with DecisionTree Regressor to get important features  "
      ],
      "metadata": {
        "id": "g0l12f-YAce9"
      }
    },
    {
      "cell_type": "code",
      "source": [
        "from sklearn.tree import DecisionTreeRegressor,export_graphviz\n",
        "import graphviz\n"
      ],
      "metadata": {
        "id": "_2N3oFFe_Qd9"
      },
      "execution_count": null,
      "outputs": []
    },
    {
      "cell_type": "code",
      "source": [
        "DTR =DecisionTreeRegressor(max_depth=5)"
      ],
      "metadata": {
        "id": "a2te6kWlAs7V"
      },
      "execution_count": null,
      "outputs": []
    },
    {
      "cell_type": "code",
      "source": [
        "De_reg = DTR.fit(X_train_con, Y_train)"
      ],
      "metadata": {
        "id": "6CCrUQp2AyOH"
      },
      "execution_count": null,
      "outputs": []
    },
    {
      "cell_type": "code",
      "source": [
        "features = X_train_con.columns\n",
        "importances = DTR.feature_importances_\n",
        "\n",
        "indices = np.argsort(importances)[::-1]\n",
        "pd.DataFrame([X_train_con.columns[indices],np.sort(importances)[::-1]])"
      ],
      "metadata": {
        "colab": {
          "base_uri": "https://localhost:8080/",
          "height": 223
        },
        "id": "FRZVMGYrO6lt",
        "outputId": "b280124c-a56b-47fa-f42b-6ad9eefebcaa"
      },
      "execution_count": null,
      "outputs": [
        {
          "output_type": "execute_result",
          "data": {
            "text/plain": [
              "               0               1         2                      3   \\\n",
              "0  CUSTOMER_MILES  ORDER_DURATION    WEIGHT  ORDER_PROCESSING_TIME   \n",
              "1         0.66341        0.192541  0.081814                0.04121   \n",
              "\n",
              "                   4                    5                 6   \\\n",
              "0  Time_BETWEEN_EARLY  FIRST_PICK_DURATION  EQUIPMENT_TYPE_R   \n",
              "1            0.006144             0.005079          0.004755   \n",
              "\n",
              "                    7                  8                  9   ...  \\\n",
              "0  EQUIPMENT_TYPE_RAIL  EQUIPMENT_TYPE_RM  Time_BETWEEN_LATE  ...   \n",
              "1             0.001723           0.001711           0.000935  ...   \n",
              "\n",
              "                  24                   25                 26  \\\n",
              "0  EQUIPMENT_TYPE_VA  EQUIPMENT_TYPE_VCAR  EQUIPMENT_TYPE_VM   \n",
              "1                0.0                  0.0                0.0   \n",
              "\n",
              "                          27                 28                 29  \\\n",
              "0  EQUIPMENT_TYPE_VOLUME LTL  EQUIPMENT_TYPE_VP  EQUIPMENT_TYPE_VR   \n",
              "1                        0.0                0.0                0.0   \n",
              "\n",
              "                  30                 31              32                    33  \n",
              "0  EQUIPMENT_TYPE_VS  EQUIPMENT_TYPE_VZ  IS_HAZARDOUS_Y  EQUIPMENT_TYPE_D-LTL  \n",
              "1                0.0                0.0             0.0                   0.0  \n",
              "\n",
              "[2 rows x 34 columns]"
            ],
            "text/html": [
              "\n",
              "  <div id=\"df-0a711d97-646b-4071-b52f-12111709c2f9\">\n",
              "    <div class=\"colab-df-container\">\n",
              "      <div>\n",
              "<style scoped>\n",
              "    .dataframe tbody tr th:only-of-type {\n",
              "        vertical-align: middle;\n",
              "    }\n",
              "\n",
              "    .dataframe tbody tr th {\n",
              "        vertical-align: top;\n",
              "    }\n",
              "\n",
              "    .dataframe thead th {\n",
              "        text-align: right;\n",
              "    }\n",
              "</style>\n",
              "<table border=\"1\" class=\"dataframe\">\n",
              "  <thead>\n",
              "    <tr style=\"text-align: right;\">\n",
              "      <th></th>\n",
              "      <th>0</th>\n",
              "      <th>1</th>\n",
              "      <th>2</th>\n",
              "      <th>3</th>\n",
              "      <th>4</th>\n",
              "      <th>5</th>\n",
              "      <th>6</th>\n",
              "      <th>7</th>\n",
              "      <th>8</th>\n",
              "      <th>9</th>\n",
              "      <th>...</th>\n",
              "      <th>24</th>\n",
              "      <th>25</th>\n",
              "      <th>26</th>\n",
              "      <th>27</th>\n",
              "      <th>28</th>\n",
              "      <th>29</th>\n",
              "      <th>30</th>\n",
              "      <th>31</th>\n",
              "      <th>32</th>\n",
              "      <th>33</th>\n",
              "    </tr>\n",
              "  </thead>\n",
              "  <tbody>\n",
              "    <tr>\n",
              "      <th>0</th>\n",
              "      <td>CUSTOMER_MILES</td>\n",
              "      <td>ORDER_DURATION</td>\n",
              "      <td>WEIGHT</td>\n",
              "      <td>ORDER_PROCESSING_TIME</td>\n",
              "      <td>Time_BETWEEN_EARLY</td>\n",
              "      <td>FIRST_PICK_DURATION</td>\n",
              "      <td>EQUIPMENT_TYPE_R</td>\n",
              "      <td>EQUIPMENT_TYPE_RAIL</td>\n",
              "      <td>EQUIPMENT_TYPE_RM</td>\n",
              "      <td>Time_BETWEEN_LATE</td>\n",
              "      <td>...</td>\n",
              "      <td>EQUIPMENT_TYPE_VA</td>\n",
              "      <td>EQUIPMENT_TYPE_VCAR</td>\n",
              "      <td>EQUIPMENT_TYPE_VM</td>\n",
              "      <td>EQUIPMENT_TYPE_VOLUME LTL</td>\n",
              "      <td>EQUIPMENT_TYPE_VP</td>\n",
              "      <td>EQUIPMENT_TYPE_VR</td>\n",
              "      <td>EQUIPMENT_TYPE_VS</td>\n",
              "      <td>EQUIPMENT_TYPE_VZ</td>\n",
              "      <td>IS_HAZARDOUS_Y</td>\n",
              "      <td>EQUIPMENT_TYPE_D-LTL</td>\n",
              "    </tr>\n",
              "    <tr>\n",
              "      <th>1</th>\n",
              "      <td>0.66341</td>\n",
              "      <td>0.192541</td>\n",
              "      <td>0.081814</td>\n",
              "      <td>0.04121</td>\n",
              "      <td>0.006144</td>\n",
              "      <td>0.005079</td>\n",
              "      <td>0.004755</td>\n",
              "      <td>0.001723</td>\n",
              "      <td>0.001711</td>\n",
              "      <td>0.000935</td>\n",
              "      <td>...</td>\n",
              "      <td>0.0</td>\n",
              "      <td>0.0</td>\n",
              "      <td>0.0</td>\n",
              "      <td>0.0</td>\n",
              "      <td>0.0</td>\n",
              "      <td>0.0</td>\n",
              "      <td>0.0</td>\n",
              "      <td>0.0</td>\n",
              "      <td>0.0</td>\n",
              "      <td>0.0</td>\n",
              "    </tr>\n",
              "  </tbody>\n",
              "</table>\n",
              "<p>2 rows × 34 columns</p>\n",
              "</div>\n",
              "      <button class=\"colab-df-convert\" onclick=\"convertToInteractive('df-0a711d97-646b-4071-b52f-12111709c2f9')\"\n",
              "              title=\"Convert this dataframe to an interactive table.\"\n",
              "              style=\"display:none;\">\n",
              "        \n",
              "  <svg xmlns=\"http://www.w3.org/2000/svg\" height=\"24px\"viewBox=\"0 0 24 24\"\n",
              "       width=\"24px\">\n",
              "    <path d=\"M0 0h24v24H0V0z\" fill=\"none\"/>\n",
              "    <path d=\"M18.56 5.44l.94 2.06.94-2.06 2.06-.94-2.06-.94-.94-2.06-.94 2.06-2.06.94zm-11 1L8.5 8.5l.94-2.06 2.06-.94-2.06-.94L8.5 2.5l-.94 2.06-2.06.94zm10 10l.94 2.06.94-2.06 2.06-.94-2.06-.94-.94-2.06-.94 2.06-2.06.94z\"/><path d=\"M17.41 7.96l-1.37-1.37c-.4-.4-.92-.59-1.43-.59-.52 0-1.04.2-1.43.59L10.3 9.45l-7.72 7.72c-.78.78-.78 2.05 0 2.83L4 21.41c.39.39.9.59 1.41.59.51 0 1.02-.2 1.41-.59l7.78-7.78 2.81-2.81c.8-.78.8-2.07 0-2.86zM5.41 20L4 18.59l7.72-7.72 1.47 1.35L5.41 20z\"/>\n",
              "  </svg>\n",
              "      </button>\n",
              "      \n",
              "  <style>\n",
              "    .colab-df-container {\n",
              "      display:flex;\n",
              "      flex-wrap:wrap;\n",
              "      gap: 12px;\n",
              "    }\n",
              "\n",
              "    .colab-df-convert {\n",
              "      background-color: #E8F0FE;\n",
              "      border: none;\n",
              "      border-radius: 50%;\n",
              "      cursor: pointer;\n",
              "      display: none;\n",
              "      fill: #1967D2;\n",
              "      height: 32px;\n",
              "      padding: 0 0 0 0;\n",
              "      width: 32px;\n",
              "    }\n",
              "\n",
              "    .colab-df-convert:hover {\n",
              "      background-color: #E2EBFA;\n",
              "      box-shadow: 0px 1px 2px rgba(60, 64, 67, 0.3), 0px 1px 3px 1px rgba(60, 64, 67, 0.15);\n",
              "      fill: #174EA6;\n",
              "    }\n",
              "\n",
              "    [theme=dark] .colab-df-convert {\n",
              "      background-color: #3B4455;\n",
              "      fill: #D2E3FC;\n",
              "    }\n",
              "\n",
              "    [theme=dark] .colab-df-convert:hover {\n",
              "      background-color: #434B5C;\n",
              "      box-shadow: 0px 1px 3px 1px rgba(0, 0, 0, 0.15);\n",
              "      filter: drop-shadow(0px 1px 2px rgba(0, 0, 0, 0.3));\n",
              "      fill: #FFFFFF;\n",
              "    }\n",
              "  </style>\n",
              "\n",
              "      <script>\n",
              "        const buttonEl =\n",
              "          document.querySelector('#df-0a711d97-646b-4071-b52f-12111709c2f9 button.colab-df-convert');\n",
              "        buttonEl.style.display =\n",
              "          google.colab.kernel.accessAllowed ? 'block' : 'none';\n",
              "\n",
              "        async function convertToInteractive(key) {\n",
              "          const element = document.querySelector('#df-0a711d97-646b-4071-b52f-12111709c2f9');\n",
              "          const dataTable =\n",
              "            await google.colab.kernel.invokeFunction('convertToInteractive',\n",
              "                                                     [key], {});\n",
              "          if (!dataTable) return;\n",
              "\n",
              "          const docLinkHtml = 'Like what you see? Visit the ' +\n",
              "            '<a target=\"_blank\" href=https://colab.research.google.com/notebooks/data_table.ipynb>data table notebook</a>'\n",
              "            + ' to learn more about interactive tables.';\n",
              "          element.innerHTML = '';\n",
              "          dataTable['output_type'] = 'display_data';\n",
              "          await google.colab.output.renderOutput(dataTable, element);\n",
              "          const docLink = document.createElement('div');\n",
              "          docLink.innerHTML = docLinkHtml;\n",
              "          element.appendChild(docLink);\n",
              "        }\n",
              "      </script>\n",
              "    </div>\n",
              "  </div>\n",
              "  "
            ]
          },
          "metadata": {},
          "execution_count": 388
        }
      ]
    },
    {
      "cell_type": "markdown",
      "source": [
        "Most important features according to decisionTree are CUSTOMER_MILES,ORDER_DURATION,WEIGHT"
      ],
      "metadata": {
        "id": "QVPiWnbtP2IP"
      }
    },
    {
      "cell_type": "code",
      "source": [
        "train_pred = De_reg.predict(X_train_con)\n",
        "val_pred = De_reg.predict(X_val_con)"
      ],
      "metadata": {
        "id": "rpfI3i-JA50Q"
      },
      "execution_count": null,
      "outputs": []
    },
    {
      "cell_type": "code",
      "source": [
        "scores = get_metrics(Y_train,\n",
        "                     De_reg.predict(X_train_con),\n",
        "                     Y_val,De_reg.predict(X_val_con),\n",
        "                     \"DTR\",scores)\n",
        "scores"
      ],
      "metadata": {
        "colab": {
          "base_uri": "https://localhost:8080/",
          "height": 112
        },
        "id": "7miwOY1MBBLv",
        "outputId": "cddf97df-29d4-4c4d-c063-2a2f65cde2f3"
      },
      "execution_count": null,
      "outputs": [
        {
          "output_type": "execute_result",
          "data": {
            "text/plain": [
              "       Model   MAE_Train  RMSE_Train    MAE_Test   RMSE_Test         R\n",
              "0  Lasso_reg  453.608152  661.834968  468.784151  687.396945  0.503878\n",
              "1        DTR  344.899261  532.030972  349.839237  566.841213  0.679400"
            ],
            "text/html": [
              "\n",
              "  <div id=\"df-3d0e1fea-acf7-42b6-8ac5-3012a26cbdb6\">\n",
              "    <div class=\"colab-df-container\">\n",
              "      <div>\n",
              "<style scoped>\n",
              "    .dataframe tbody tr th:only-of-type {\n",
              "        vertical-align: middle;\n",
              "    }\n",
              "\n",
              "    .dataframe tbody tr th {\n",
              "        vertical-align: top;\n",
              "    }\n",
              "\n",
              "    .dataframe thead th {\n",
              "        text-align: right;\n",
              "    }\n",
              "</style>\n",
              "<table border=\"1\" class=\"dataframe\">\n",
              "  <thead>\n",
              "    <tr style=\"text-align: right;\">\n",
              "      <th></th>\n",
              "      <th>Model</th>\n",
              "      <th>MAE_Train</th>\n",
              "      <th>RMSE_Train</th>\n",
              "      <th>MAE_Test</th>\n",
              "      <th>RMSE_Test</th>\n",
              "      <th>R</th>\n",
              "    </tr>\n",
              "  </thead>\n",
              "  <tbody>\n",
              "    <tr>\n",
              "      <th>0</th>\n",
              "      <td>Lasso_reg</td>\n",
              "      <td>453.608152</td>\n",
              "      <td>661.834968</td>\n",
              "      <td>468.784151</td>\n",
              "      <td>687.396945</td>\n",
              "      <td>0.503878</td>\n",
              "    </tr>\n",
              "    <tr>\n",
              "      <th>1</th>\n",
              "      <td>DTR</td>\n",
              "      <td>344.899261</td>\n",
              "      <td>532.030972</td>\n",
              "      <td>349.839237</td>\n",
              "      <td>566.841213</td>\n",
              "      <td>0.679400</td>\n",
              "    </tr>\n",
              "  </tbody>\n",
              "</table>\n",
              "</div>\n",
              "      <button class=\"colab-df-convert\" onclick=\"convertToInteractive('df-3d0e1fea-acf7-42b6-8ac5-3012a26cbdb6')\"\n",
              "              title=\"Convert this dataframe to an interactive table.\"\n",
              "              style=\"display:none;\">\n",
              "        \n",
              "  <svg xmlns=\"http://www.w3.org/2000/svg\" height=\"24px\"viewBox=\"0 0 24 24\"\n",
              "       width=\"24px\">\n",
              "    <path d=\"M0 0h24v24H0V0z\" fill=\"none\"/>\n",
              "    <path d=\"M18.56 5.44l.94 2.06.94-2.06 2.06-.94-2.06-.94-.94-2.06-.94 2.06-2.06.94zm-11 1L8.5 8.5l.94-2.06 2.06-.94-2.06-.94L8.5 2.5l-.94 2.06-2.06.94zm10 10l.94 2.06.94-2.06 2.06-.94-2.06-.94-.94-2.06-.94 2.06-2.06.94z\"/><path d=\"M17.41 7.96l-1.37-1.37c-.4-.4-.92-.59-1.43-.59-.52 0-1.04.2-1.43.59L10.3 9.45l-7.72 7.72c-.78.78-.78 2.05 0 2.83L4 21.41c.39.39.9.59 1.41.59.51 0 1.02-.2 1.41-.59l7.78-7.78 2.81-2.81c.8-.78.8-2.07 0-2.86zM5.41 20L4 18.59l7.72-7.72 1.47 1.35L5.41 20z\"/>\n",
              "  </svg>\n",
              "      </button>\n",
              "      \n",
              "  <style>\n",
              "    .colab-df-container {\n",
              "      display:flex;\n",
              "      flex-wrap:wrap;\n",
              "      gap: 12px;\n",
              "    }\n",
              "\n",
              "    .colab-df-convert {\n",
              "      background-color: #E8F0FE;\n",
              "      border: none;\n",
              "      border-radius: 50%;\n",
              "      cursor: pointer;\n",
              "      display: none;\n",
              "      fill: #1967D2;\n",
              "      height: 32px;\n",
              "      padding: 0 0 0 0;\n",
              "      width: 32px;\n",
              "    }\n",
              "\n",
              "    .colab-df-convert:hover {\n",
              "      background-color: #E2EBFA;\n",
              "      box-shadow: 0px 1px 2px rgba(60, 64, 67, 0.3), 0px 1px 3px 1px rgba(60, 64, 67, 0.15);\n",
              "      fill: #174EA6;\n",
              "    }\n",
              "\n",
              "    [theme=dark] .colab-df-convert {\n",
              "      background-color: #3B4455;\n",
              "      fill: #D2E3FC;\n",
              "    }\n",
              "\n",
              "    [theme=dark] .colab-df-convert:hover {\n",
              "      background-color: #434B5C;\n",
              "      box-shadow: 0px 1px 3px 1px rgba(0, 0, 0, 0.15);\n",
              "      filter: drop-shadow(0px 1px 2px rgba(0, 0, 0, 0.3));\n",
              "      fill: #FFFFFF;\n",
              "    }\n",
              "  </style>\n",
              "\n",
              "      <script>\n",
              "        const buttonEl =\n",
              "          document.querySelector('#df-3d0e1fea-acf7-42b6-8ac5-3012a26cbdb6 button.colab-df-convert');\n",
              "        buttonEl.style.display =\n",
              "          google.colab.kernel.accessAllowed ? 'block' : 'none';\n",
              "\n",
              "        async function convertToInteractive(key) {\n",
              "          const element = document.querySelector('#df-3d0e1fea-acf7-42b6-8ac5-3012a26cbdb6');\n",
              "          const dataTable =\n",
              "            await google.colab.kernel.invokeFunction('convertToInteractive',\n",
              "                                                     [key], {});\n",
              "          if (!dataTable) return;\n",
              "\n",
              "          const docLinkHtml = 'Like what you see? Visit the ' +\n",
              "            '<a target=\"_blank\" href=https://colab.research.google.com/notebooks/data_table.ipynb>data table notebook</a>'\n",
              "            + ' to learn more about interactive tables.';\n",
              "          element.innerHTML = '';\n",
              "          dataTable['output_type'] = 'display_data';\n",
              "          await google.colab.output.renderOutput(dataTable, element);\n",
              "          const docLink = document.createElement('div');\n",
              "          docLink.innerHTML = docLinkHtml;\n",
              "          element.appendChild(docLink);\n",
              "        }\n",
              "      </script>\n",
              "    </div>\n",
              "  </div>\n",
              "  "
            ]
          },
          "metadata": {},
          "execution_count": 364
        }
      ]
    },
    {
      "cell_type": "markdown",
      "source": [
        "# Parameter Tuning"
      ],
      "metadata": {
        "id": "CkPwnxBL9x0p"
      }
    },
    {
      "cell_type": "code",
      "source": [
        "Regressor=DecisionTreeRegressor()\n",
        "param_grid = {\n",
        "              \"min_samples_split\": [2, 8],\n",
        "              \"max_depth\": [None, 8],\n",
        "              \"min_samples_leaf\": [1, 5]\n",
        "             }"
      ],
      "metadata": {
        "id": "tR27D0QDBEXC"
      },
      "execution_count": null,
      "outputs": []
    },
    {
      "cell_type": "code",
      "source": [
        "from sklearn.model_selection import GridSearchCV\n",
        "dtr_grid = GridSearchCV(Regressor,param_grid,cv=3)"
      ],
      "metadata": {
        "id": "qvBWz0-p7MX4"
      },
      "execution_count": null,
      "outputs": []
    },
    {
      "cell_type": "code",
      "source": [
        "dtr_grid.fit(X_train_con,Y_train)"
      ],
      "metadata": {
        "colab": {
          "base_uri": "https://localhost:8080/",
          "height": 118
        },
        "id": "cl0iF3C_7QdC",
        "outputId": "fcd83e94-57b7-463e-eca0-29d6fce75dfe"
      },
      "execution_count": null,
      "outputs": [
        {
          "output_type": "execute_result",
          "data": {
            "text/plain": [
              "GridSearchCV(cv=3, estimator=DecisionTreeRegressor(),\n",
              "             param_grid={'max_depth': [None, 8], 'min_samples_leaf': [1, 5],\n",
              "                         'min_samples_split': [2, 8]})"
            ],
            "text/html": [
              "<style>#sk-container-id-28 {color: black;background-color: white;}#sk-container-id-28 pre{padding: 0;}#sk-container-id-28 div.sk-toggleable {background-color: white;}#sk-container-id-28 label.sk-toggleable__label {cursor: pointer;display: block;width: 100%;margin-bottom: 0;padding: 0.3em;box-sizing: border-box;text-align: center;}#sk-container-id-28 label.sk-toggleable__label-arrow:before {content: \"▸\";float: left;margin-right: 0.25em;color: #696969;}#sk-container-id-28 label.sk-toggleable__label-arrow:hover:before {color: black;}#sk-container-id-28 div.sk-estimator:hover label.sk-toggleable__label-arrow:before {color: black;}#sk-container-id-28 div.sk-toggleable__content {max-height: 0;max-width: 0;overflow: hidden;text-align: left;background-color: #f0f8ff;}#sk-container-id-28 div.sk-toggleable__content pre {margin: 0.2em;color: black;border-radius: 0.25em;background-color: #f0f8ff;}#sk-container-id-28 input.sk-toggleable__control:checked~div.sk-toggleable__content {max-height: 200px;max-width: 100%;overflow: auto;}#sk-container-id-28 input.sk-toggleable__control:checked~label.sk-toggleable__label-arrow:before {content: \"▾\";}#sk-container-id-28 div.sk-estimator input.sk-toggleable__control:checked~label.sk-toggleable__label {background-color: #d4ebff;}#sk-container-id-28 div.sk-label input.sk-toggleable__control:checked~label.sk-toggleable__label {background-color: #d4ebff;}#sk-container-id-28 input.sk-hidden--visually {border: 0;clip: rect(1px 1px 1px 1px);clip: rect(1px, 1px, 1px, 1px);height: 1px;margin: -1px;overflow: hidden;padding: 0;position: absolute;width: 1px;}#sk-container-id-28 div.sk-estimator {font-family: monospace;background-color: #f0f8ff;border: 1px dotted black;border-radius: 0.25em;box-sizing: border-box;margin-bottom: 0.5em;}#sk-container-id-28 div.sk-estimator:hover {background-color: #d4ebff;}#sk-container-id-28 div.sk-parallel-item::after {content: \"\";width: 100%;border-bottom: 1px solid gray;flex-grow: 1;}#sk-container-id-28 div.sk-label:hover label.sk-toggleable__label {background-color: #d4ebff;}#sk-container-id-28 div.sk-serial::before {content: \"\";position: absolute;border-left: 1px solid gray;box-sizing: border-box;top: 0;bottom: 0;left: 50%;z-index: 0;}#sk-container-id-28 div.sk-serial {display: flex;flex-direction: column;align-items: center;background-color: white;padding-right: 0.2em;padding-left: 0.2em;position: relative;}#sk-container-id-28 div.sk-item {position: relative;z-index: 1;}#sk-container-id-28 div.sk-parallel {display: flex;align-items: stretch;justify-content: center;background-color: white;position: relative;}#sk-container-id-28 div.sk-item::before, #sk-container-id-28 div.sk-parallel-item::before {content: \"\";position: absolute;border-left: 1px solid gray;box-sizing: border-box;top: 0;bottom: 0;left: 50%;z-index: -1;}#sk-container-id-28 div.sk-parallel-item {display: flex;flex-direction: column;z-index: 1;position: relative;background-color: white;}#sk-container-id-28 div.sk-parallel-item:first-child::after {align-self: flex-end;width: 50%;}#sk-container-id-28 div.sk-parallel-item:last-child::after {align-self: flex-start;width: 50%;}#sk-container-id-28 div.sk-parallel-item:only-child::after {width: 0;}#sk-container-id-28 div.sk-dashed-wrapped {border: 1px dashed gray;margin: 0 0.4em 0.5em 0.4em;box-sizing: border-box;padding-bottom: 0.4em;background-color: white;}#sk-container-id-28 div.sk-label label {font-family: monospace;font-weight: bold;display: inline-block;line-height: 1.2em;}#sk-container-id-28 div.sk-label-container {text-align: center;}#sk-container-id-28 div.sk-container {/* jupyter's `normalize.less` sets `[hidden] { display: none; }` but bootstrap.min.css set `[hidden] { display: none !important; }` so we also need the `!important` here to be able to override the default hidden behavior on the sphinx rendered scikit-learn.org. See: https://github.com/scikit-learn/scikit-learn/issues/21755 */display: inline-block !important;position: relative;}#sk-container-id-28 div.sk-text-repr-fallback {display: none;}</style><div id=\"sk-container-id-28\" class=\"sk-top-container\"><div class=\"sk-text-repr-fallback\"><pre>GridSearchCV(cv=3, estimator=DecisionTreeRegressor(),\n",
              "             param_grid={&#x27;max_depth&#x27;: [None, 8], &#x27;min_samples_leaf&#x27;: [1, 5],\n",
              "                         &#x27;min_samples_split&#x27;: [2, 8]})</pre><b>In a Jupyter environment, please rerun this cell to show the HTML representation or trust the notebook. <br />On GitHub, the HTML representation is unable to render, please try loading this page with nbviewer.org.</b></div><div class=\"sk-container\" hidden><div class=\"sk-item sk-dashed-wrapped\"><div class=\"sk-label-container\"><div class=\"sk-label sk-toggleable\"><input class=\"sk-toggleable__control sk-hidden--visually\" id=\"sk-estimator-id-52\" type=\"checkbox\" ><label for=\"sk-estimator-id-52\" class=\"sk-toggleable__label sk-toggleable__label-arrow\">GridSearchCV</label><div class=\"sk-toggleable__content\"><pre>GridSearchCV(cv=3, estimator=DecisionTreeRegressor(),\n",
              "             param_grid={&#x27;max_depth&#x27;: [None, 8], &#x27;min_samples_leaf&#x27;: [1, 5],\n",
              "                         &#x27;min_samples_split&#x27;: [2, 8]})</pre></div></div></div><div class=\"sk-parallel\"><div class=\"sk-parallel-item\"><div class=\"sk-item\"><div class=\"sk-label-container\"><div class=\"sk-label sk-toggleable\"><input class=\"sk-toggleable__control sk-hidden--visually\" id=\"sk-estimator-id-53\" type=\"checkbox\" ><label for=\"sk-estimator-id-53\" class=\"sk-toggleable__label sk-toggleable__label-arrow\">estimator: DecisionTreeRegressor</label><div class=\"sk-toggleable__content\"><pre>DecisionTreeRegressor()</pre></div></div></div><div class=\"sk-serial\"><div class=\"sk-item\"><div class=\"sk-estimator sk-toggleable\"><input class=\"sk-toggleable__control sk-hidden--visually\" id=\"sk-estimator-id-54\" type=\"checkbox\" ><label for=\"sk-estimator-id-54\" class=\"sk-toggleable__label sk-toggleable__label-arrow\">DecisionTreeRegressor</label><div class=\"sk-toggleable__content\"><pre>DecisionTreeRegressor()</pre></div></div></div></div></div></div></div></div></div></div>"
            ]
          },
          "metadata": {},
          "execution_count": 367
        }
      ]
    },
    {
      "cell_type": "code",
      "source": [
        "\n",
        "dtr_grid.fit(X_train_con,Y_train)"
      ],
      "metadata": {
        "colab": {
          "base_uri": "https://localhost:8080/",
          "height": 118
        },
        "id": "1o7XTTn87T_h",
        "outputId": "7a9677c7-5243-4a71-a1e4-f721e8d555ae"
      },
      "execution_count": null,
      "outputs": [
        {
          "output_type": "execute_result",
          "data": {
            "text/plain": [
              "GridSearchCV(cv=3, estimator=DecisionTreeRegressor(),\n",
              "             param_grid={'max_depth': [None, 8], 'min_samples_leaf': [1, 5],\n",
              "                         'min_samples_split': [2, 8]})"
            ],
            "text/html": [
              "<style>#sk-container-id-29 {color: black;background-color: white;}#sk-container-id-29 pre{padding: 0;}#sk-container-id-29 div.sk-toggleable {background-color: white;}#sk-container-id-29 label.sk-toggleable__label {cursor: pointer;display: block;width: 100%;margin-bottom: 0;padding: 0.3em;box-sizing: border-box;text-align: center;}#sk-container-id-29 label.sk-toggleable__label-arrow:before {content: \"▸\";float: left;margin-right: 0.25em;color: #696969;}#sk-container-id-29 label.sk-toggleable__label-arrow:hover:before {color: black;}#sk-container-id-29 div.sk-estimator:hover label.sk-toggleable__label-arrow:before {color: black;}#sk-container-id-29 div.sk-toggleable__content {max-height: 0;max-width: 0;overflow: hidden;text-align: left;background-color: #f0f8ff;}#sk-container-id-29 div.sk-toggleable__content pre {margin: 0.2em;color: black;border-radius: 0.25em;background-color: #f0f8ff;}#sk-container-id-29 input.sk-toggleable__control:checked~div.sk-toggleable__content {max-height: 200px;max-width: 100%;overflow: auto;}#sk-container-id-29 input.sk-toggleable__control:checked~label.sk-toggleable__label-arrow:before {content: \"▾\";}#sk-container-id-29 div.sk-estimator input.sk-toggleable__control:checked~label.sk-toggleable__label {background-color: #d4ebff;}#sk-container-id-29 div.sk-label input.sk-toggleable__control:checked~label.sk-toggleable__label {background-color: #d4ebff;}#sk-container-id-29 input.sk-hidden--visually {border: 0;clip: rect(1px 1px 1px 1px);clip: rect(1px, 1px, 1px, 1px);height: 1px;margin: -1px;overflow: hidden;padding: 0;position: absolute;width: 1px;}#sk-container-id-29 div.sk-estimator {font-family: monospace;background-color: #f0f8ff;border: 1px dotted black;border-radius: 0.25em;box-sizing: border-box;margin-bottom: 0.5em;}#sk-container-id-29 div.sk-estimator:hover {background-color: #d4ebff;}#sk-container-id-29 div.sk-parallel-item::after {content: \"\";width: 100%;border-bottom: 1px solid gray;flex-grow: 1;}#sk-container-id-29 div.sk-label:hover label.sk-toggleable__label {background-color: #d4ebff;}#sk-container-id-29 div.sk-serial::before {content: \"\";position: absolute;border-left: 1px solid gray;box-sizing: border-box;top: 0;bottom: 0;left: 50%;z-index: 0;}#sk-container-id-29 div.sk-serial {display: flex;flex-direction: column;align-items: center;background-color: white;padding-right: 0.2em;padding-left: 0.2em;position: relative;}#sk-container-id-29 div.sk-item {position: relative;z-index: 1;}#sk-container-id-29 div.sk-parallel {display: flex;align-items: stretch;justify-content: center;background-color: white;position: relative;}#sk-container-id-29 div.sk-item::before, #sk-container-id-29 div.sk-parallel-item::before {content: \"\";position: absolute;border-left: 1px solid gray;box-sizing: border-box;top: 0;bottom: 0;left: 50%;z-index: -1;}#sk-container-id-29 div.sk-parallel-item {display: flex;flex-direction: column;z-index: 1;position: relative;background-color: white;}#sk-container-id-29 div.sk-parallel-item:first-child::after {align-self: flex-end;width: 50%;}#sk-container-id-29 div.sk-parallel-item:last-child::after {align-self: flex-start;width: 50%;}#sk-container-id-29 div.sk-parallel-item:only-child::after {width: 0;}#sk-container-id-29 div.sk-dashed-wrapped {border: 1px dashed gray;margin: 0 0.4em 0.5em 0.4em;box-sizing: border-box;padding-bottom: 0.4em;background-color: white;}#sk-container-id-29 div.sk-label label {font-family: monospace;font-weight: bold;display: inline-block;line-height: 1.2em;}#sk-container-id-29 div.sk-label-container {text-align: center;}#sk-container-id-29 div.sk-container {/* jupyter's `normalize.less` sets `[hidden] { display: none; }` but bootstrap.min.css set `[hidden] { display: none !important; }` so we also need the `!important` here to be able to override the default hidden behavior on the sphinx rendered scikit-learn.org. See: https://github.com/scikit-learn/scikit-learn/issues/21755 */display: inline-block !important;position: relative;}#sk-container-id-29 div.sk-text-repr-fallback {display: none;}</style><div id=\"sk-container-id-29\" class=\"sk-top-container\"><div class=\"sk-text-repr-fallback\"><pre>GridSearchCV(cv=3, estimator=DecisionTreeRegressor(),\n",
              "             param_grid={&#x27;max_depth&#x27;: [None, 8], &#x27;min_samples_leaf&#x27;: [1, 5],\n",
              "                         &#x27;min_samples_split&#x27;: [2, 8]})</pre><b>In a Jupyter environment, please rerun this cell to show the HTML representation or trust the notebook. <br />On GitHub, the HTML representation is unable to render, please try loading this page with nbviewer.org.</b></div><div class=\"sk-container\" hidden><div class=\"sk-item sk-dashed-wrapped\"><div class=\"sk-label-container\"><div class=\"sk-label sk-toggleable\"><input class=\"sk-toggleable__control sk-hidden--visually\" id=\"sk-estimator-id-55\" type=\"checkbox\" ><label for=\"sk-estimator-id-55\" class=\"sk-toggleable__label sk-toggleable__label-arrow\">GridSearchCV</label><div class=\"sk-toggleable__content\"><pre>GridSearchCV(cv=3, estimator=DecisionTreeRegressor(),\n",
              "             param_grid={&#x27;max_depth&#x27;: [None, 8], &#x27;min_samples_leaf&#x27;: [1, 5],\n",
              "                         &#x27;min_samples_split&#x27;: [2, 8]})</pre></div></div></div><div class=\"sk-parallel\"><div class=\"sk-parallel-item\"><div class=\"sk-item\"><div class=\"sk-label-container\"><div class=\"sk-label sk-toggleable\"><input class=\"sk-toggleable__control sk-hidden--visually\" id=\"sk-estimator-id-56\" type=\"checkbox\" ><label for=\"sk-estimator-id-56\" class=\"sk-toggleable__label sk-toggleable__label-arrow\">estimator: DecisionTreeRegressor</label><div class=\"sk-toggleable__content\"><pre>DecisionTreeRegressor()</pre></div></div></div><div class=\"sk-serial\"><div class=\"sk-item\"><div class=\"sk-estimator sk-toggleable\"><input class=\"sk-toggleable__control sk-hidden--visually\" id=\"sk-estimator-id-57\" type=\"checkbox\" ><label for=\"sk-estimator-id-57\" class=\"sk-toggleable__label sk-toggleable__label-arrow\">DecisionTreeRegressor</label><div class=\"sk-toggleable__content\"><pre>DecisionTreeRegressor()</pre></div></div></div></div></div></div></div></div></div></div>"
            ]
          },
          "metadata": {},
          "execution_count": 368
        }
      ]
    },
    {
      "cell_type": "code",
      "source": [
        "scores = get_metrics(Y_train,\n",
        "                     dtr_grid.predict(X_train_con),\n",
        "                     Y_val,dtr_grid.predict(X_val_con),\n",
        "                     \"DTR_parameter\",scores)\n",
        "scores"
      ],
      "metadata": {
        "colab": {
          "base_uri": "https://localhost:8080/",
          "height": 143
        },
        "id": "S4rnY49i7ZrN",
        "outputId": "53c44223-5c57-4dae-9b5a-610407560126"
      },
      "execution_count": null,
      "outputs": [
        {
          "output_type": "execute_result",
          "data": {
            "text/plain": [
              "           Model   MAE_Train  RMSE_Train    MAE_Test   RMSE_Test         R\n",
              "0      Lasso_reg  453.608152  661.834968  468.784151  687.396945  0.503878\n",
              "1            DTR  344.899261  532.030972  349.839237  566.841213  0.679400\n",
              "2  DTR_parameter  273.814257  442.966963  293.660438  499.194921  0.777755"
            ],
            "text/html": [
              "\n",
              "  <div id=\"df-adcecac0-e2a3-4497-96a6-685b207efee5\">\n",
              "    <div class=\"colab-df-container\">\n",
              "      <div>\n",
              "<style scoped>\n",
              "    .dataframe tbody tr th:only-of-type {\n",
              "        vertical-align: middle;\n",
              "    }\n",
              "\n",
              "    .dataframe tbody tr th {\n",
              "        vertical-align: top;\n",
              "    }\n",
              "\n",
              "    .dataframe thead th {\n",
              "        text-align: right;\n",
              "    }\n",
              "</style>\n",
              "<table border=\"1\" class=\"dataframe\">\n",
              "  <thead>\n",
              "    <tr style=\"text-align: right;\">\n",
              "      <th></th>\n",
              "      <th>Model</th>\n",
              "      <th>MAE_Train</th>\n",
              "      <th>RMSE_Train</th>\n",
              "      <th>MAE_Test</th>\n",
              "      <th>RMSE_Test</th>\n",
              "      <th>R</th>\n",
              "    </tr>\n",
              "  </thead>\n",
              "  <tbody>\n",
              "    <tr>\n",
              "      <th>0</th>\n",
              "      <td>Lasso_reg</td>\n",
              "      <td>453.608152</td>\n",
              "      <td>661.834968</td>\n",
              "      <td>468.784151</td>\n",
              "      <td>687.396945</td>\n",
              "      <td>0.503878</td>\n",
              "    </tr>\n",
              "    <tr>\n",
              "      <th>1</th>\n",
              "      <td>DTR</td>\n",
              "      <td>344.899261</td>\n",
              "      <td>532.030972</td>\n",
              "      <td>349.839237</td>\n",
              "      <td>566.841213</td>\n",
              "      <td>0.679400</td>\n",
              "    </tr>\n",
              "    <tr>\n",
              "      <th>2</th>\n",
              "      <td>DTR_parameter</td>\n",
              "      <td>273.814257</td>\n",
              "      <td>442.966963</td>\n",
              "      <td>293.660438</td>\n",
              "      <td>499.194921</td>\n",
              "      <td>0.777755</td>\n",
              "    </tr>\n",
              "  </tbody>\n",
              "</table>\n",
              "</div>\n",
              "      <button class=\"colab-df-convert\" onclick=\"convertToInteractive('df-adcecac0-e2a3-4497-96a6-685b207efee5')\"\n",
              "              title=\"Convert this dataframe to an interactive table.\"\n",
              "              style=\"display:none;\">\n",
              "        \n",
              "  <svg xmlns=\"http://www.w3.org/2000/svg\" height=\"24px\"viewBox=\"0 0 24 24\"\n",
              "       width=\"24px\">\n",
              "    <path d=\"M0 0h24v24H0V0z\" fill=\"none\"/>\n",
              "    <path d=\"M18.56 5.44l.94 2.06.94-2.06 2.06-.94-2.06-.94-.94-2.06-.94 2.06-2.06.94zm-11 1L8.5 8.5l.94-2.06 2.06-.94-2.06-.94L8.5 2.5l-.94 2.06-2.06.94zm10 10l.94 2.06.94-2.06 2.06-.94-2.06-.94-.94-2.06-.94 2.06-2.06.94z\"/><path d=\"M17.41 7.96l-1.37-1.37c-.4-.4-.92-.59-1.43-.59-.52 0-1.04.2-1.43.59L10.3 9.45l-7.72 7.72c-.78.78-.78 2.05 0 2.83L4 21.41c.39.39.9.59 1.41.59.51 0 1.02-.2 1.41-.59l7.78-7.78 2.81-2.81c.8-.78.8-2.07 0-2.86zM5.41 20L4 18.59l7.72-7.72 1.47 1.35L5.41 20z\"/>\n",
              "  </svg>\n",
              "      </button>\n",
              "      \n",
              "  <style>\n",
              "    .colab-df-container {\n",
              "      display:flex;\n",
              "      flex-wrap:wrap;\n",
              "      gap: 12px;\n",
              "    }\n",
              "\n",
              "    .colab-df-convert {\n",
              "      background-color: #E8F0FE;\n",
              "      border: none;\n",
              "      border-radius: 50%;\n",
              "      cursor: pointer;\n",
              "      display: none;\n",
              "      fill: #1967D2;\n",
              "      height: 32px;\n",
              "      padding: 0 0 0 0;\n",
              "      width: 32px;\n",
              "    }\n",
              "\n",
              "    .colab-df-convert:hover {\n",
              "      background-color: #E2EBFA;\n",
              "      box-shadow: 0px 1px 2px rgba(60, 64, 67, 0.3), 0px 1px 3px 1px rgba(60, 64, 67, 0.15);\n",
              "      fill: #174EA6;\n",
              "    }\n",
              "\n",
              "    [theme=dark] .colab-df-convert {\n",
              "      background-color: #3B4455;\n",
              "      fill: #D2E3FC;\n",
              "    }\n",
              "\n",
              "    [theme=dark] .colab-df-convert:hover {\n",
              "      background-color: #434B5C;\n",
              "      box-shadow: 0px 1px 3px 1px rgba(0, 0, 0, 0.15);\n",
              "      filter: drop-shadow(0px 1px 2px rgba(0, 0, 0, 0.3));\n",
              "      fill: #FFFFFF;\n",
              "    }\n",
              "  </style>\n",
              "\n",
              "      <script>\n",
              "        const buttonEl =\n",
              "          document.querySelector('#df-adcecac0-e2a3-4497-96a6-685b207efee5 button.colab-df-convert');\n",
              "        buttonEl.style.display =\n",
              "          google.colab.kernel.accessAllowed ? 'block' : 'none';\n",
              "\n",
              "        async function convertToInteractive(key) {\n",
              "          const element = document.querySelector('#df-adcecac0-e2a3-4497-96a6-685b207efee5');\n",
              "          const dataTable =\n",
              "            await google.colab.kernel.invokeFunction('convertToInteractive',\n",
              "                                                     [key], {});\n",
              "          if (!dataTable) return;\n",
              "\n",
              "          const docLinkHtml = 'Like what you see? Visit the ' +\n",
              "            '<a target=\"_blank\" href=https://colab.research.google.com/notebooks/data_table.ipynb>data table notebook</a>'\n",
              "            + ' to learn more about interactive tables.';\n",
              "          element.innerHTML = '';\n",
              "          dataTable['output_type'] = 'display_data';\n",
              "          await google.colab.output.renderOutput(dataTable, element);\n",
              "          const docLink = document.createElement('div');\n",
              "          docLink.innerHTML = docLinkHtml;\n",
              "          element.appendChild(docLink);\n",
              "        }\n",
              "      </script>\n",
              "    </div>\n",
              "  </div>\n",
              "  "
            ]
          },
          "metadata": {},
          "execution_count": 369
        }
      ]
    },
    {
      "cell_type": "code",
      "source": [
        "from sklearn.ensemble import   RandomForestRegressor\n"
      ],
      "metadata": {
        "id": "hG8cDhkc7hIL"
      },
      "execution_count": null,
      "outputs": []
    },
    {
      "cell_type": "code",
      "source": [
        "RFR = RandomForestRegressor()"
      ],
      "metadata": {
        "id": "ofdwDB8LfwQF"
      },
      "execution_count": null,
      "outputs": []
    },
    {
      "cell_type": "code",
      "source": [
        "param_grid = {\"n_estimators\" : [50, 100,150],\n",
        "              \"max_depth\" : [1,10],\n",
        "              \"max_features\" : [3, 9,5,12],\n",
        "              \"min_samples_leaf\" : [1, 2, 4,8]}"
      ],
      "metadata": {
        "id": "NfRYPH4pfbca"
      },
      "execution_count": null,
      "outputs": []
    },
    {
      "cell_type": "code",
      "source": [
        "RFR_grid = GridSearchCV(RFR,param_grid,cv=2)"
      ],
      "metadata": {
        "id": "usGV8Es1fVd6"
      },
      "execution_count": null,
      "outputs": []
    },
    {
      "cell_type": "code",
      "source": [
        "RFR_grid.fit(X_train_con, Y_train)"
      ],
      "metadata": {
        "colab": {
          "base_uri": "https://localhost:8080/",
          "height": 118
        },
        "id": "SIqlyi3kfWv4",
        "outputId": "62270c32-57d5-4bf9-f0ec-734fa490cd50"
      },
      "execution_count": null,
      "outputs": [
        {
          "output_type": "execute_result",
          "data": {
            "text/plain": [
              "GridSearchCV(cv=2, estimator=RandomForestRegressor(),\n",
              "             param_grid={'max_depth': [1, 10], 'max_features': [3, 9, 5, 12],\n",
              "                         'min_samples_leaf': [1, 2, 4, 8],\n",
              "                         'n_estimators': [50, 100, 150]})"
            ],
            "text/html": [
              "<style>#sk-container-id-30 {color: black;background-color: white;}#sk-container-id-30 pre{padding: 0;}#sk-container-id-30 div.sk-toggleable {background-color: white;}#sk-container-id-30 label.sk-toggleable__label {cursor: pointer;display: block;width: 100%;margin-bottom: 0;padding: 0.3em;box-sizing: border-box;text-align: center;}#sk-container-id-30 label.sk-toggleable__label-arrow:before {content: \"▸\";float: left;margin-right: 0.25em;color: #696969;}#sk-container-id-30 label.sk-toggleable__label-arrow:hover:before {color: black;}#sk-container-id-30 div.sk-estimator:hover label.sk-toggleable__label-arrow:before {color: black;}#sk-container-id-30 div.sk-toggleable__content {max-height: 0;max-width: 0;overflow: hidden;text-align: left;background-color: #f0f8ff;}#sk-container-id-30 div.sk-toggleable__content pre {margin: 0.2em;color: black;border-radius: 0.25em;background-color: #f0f8ff;}#sk-container-id-30 input.sk-toggleable__control:checked~div.sk-toggleable__content {max-height: 200px;max-width: 100%;overflow: auto;}#sk-container-id-30 input.sk-toggleable__control:checked~label.sk-toggleable__label-arrow:before {content: \"▾\";}#sk-container-id-30 div.sk-estimator input.sk-toggleable__control:checked~label.sk-toggleable__label {background-color: #d4ebff;}#sk-container-id-30 div.sk-label input.sk-toggleable__control:checked~label.sk-toggleable__label {background-color: #d4ebff;}#sk-container-id-30 input.sk-hidden--visually {border: 0;clip: rect(1px 1px 1px 1px);clip: rect(1px, 1px, 1px, 1px);height: 1px;margin: -1px;overflow: hidden;padding: 0;position: absolute;width: 1px;}#sk-container-id-30 div.sk-estimator {font-family: monospace;background-color: #f0f8ff;border: 1px dotted black;border-radius: 0.25em;box-sizing: border-box;margin-bottom: 0.5em;}#sk-container-id-30 div.sk-estimator:hover {background-color: #d4ebff;}#sk-container-id-30 div.sk-parallel-item::after {content: \"\";width: 100%;border-bottom: 1px solid gray;flex-grow: 1;}#sk-container-id-30 div.sk-label:hover label.sk-toggleable__label {background-color: #d4ebff;}#sk-container-id-30 div.sk-serial::before {content: \"\";position: absolute;border-left: 1px solid gray;box-sizing: border-box;top: 0;bottom: 0;left: 50%;z-index: 0;}#sk-container-id-30 div.sk-serial {display: flex;flex-direction: column;align-items: center;background-color: white;padding-right: 0.2em;padding-left: 0.2em;position: relative;}#sk-container-id-30 div.sk-item {position: relative;z-index: 1;}#sk-container-id-30 div.sk-parallel {display: flex;align-items: stretch;justify-content: center;background-color: white;position: relative;}#sk-container-id-30 div.sk-item::before, #sk-container-id-30 div.sk-parallel-item::before {content: \"\";position: absolute;border-left: 1px solid gray;box-sizing: border-box;top: 0;bottom: 0;left: 50%;z-index: -1;}#sk-container-id-30 div.sk-parallel-item {display: flex;flex-direction: column;z-index: 1;position: relative;background-color: white;}#sk-container-id-30 div.sk-parallel-item:first-child::after {align-self: flex-end;width: 50%;}#sk-container-id-30 div.sk-parallel-item:last-child::after {align-self: flex-start;width: 50%;}#sk-container-id-30 div.sk-parallel-item:only-child::after {width: 0;}#sk-container-id-30 div.sk-dashed-wrapped {border: 1px dashed gray;margin: 0 0.4em 0.5em 0.4em;box-sizing: border-box;padding-bottom: 0.4em;background-color: white;}#sk-container-id-30 div.sk-label label {font-family: monospace;font-weight: bold;display: inline-block;line-height: 1.2em;}#sk-container-id-30 div.sk-label-container {text-align: center;}#sk-container-id-30 div.sk-container {/* jupyter's `normalize.less` sets `[hidden] { display: none; }` but bootstrap.min.css set `[hidden] { display: none !important; }` so we also need the `!important` here to be able to override the default hidden behavior on the sphinx rendered scikit-learn.org. See: https://github.com/scikit-learn/scikit-learn/issues/21755 */display: inline-block !important;position: relative;}#sk-container-id-30 div.sk-text-repr-fallback {display: none;}</style><div id=\"sk-container-id-30\" class=\"sk-top-container\"><div class=\"sk-text-repr-fallback\"><pre>GridSearchCV(cv=2, estimator=RandomForestRegressor(),\n",
              "             param_grid={&#x27;max_depth&#x27;: [1, 10], &#x27;max_features&#x27;: [3, 9, 5, 12],\n",
              "                         &#x27;min_samples_leaf&#x27;: [1, 2, 4, 8],\n",
              "                         &#x27;n_estimators&#x27;: [50, 100, 150]})</pre><b>In a Jupyter environment, please rerun this cell to show the HTML representation or trust the notebook. <br />On GitHub, the HTML representation is unable to render, please try loading this page with nbviewer.org.</b></div><div class=\"sk-container\" hidden><div class=\"sk-item sk-dashed-wrapped\"><div class=\"sk-label-container\"><div class=\"sk-label sk-toggleable\"><input class=\"sk-toggleable__control sk-hidden--visually\" id=\"sk-estimator-id-58\" type=\"checkbox\" ><label for=\"sk-estimator-id-58\" class=\"sk-toggleable__label sk-toggleable__label-arrow\">GridSearchCV</label><div class=\"sk-toggleable__content\"><pre>GridSearchCV(cv=2, estimator=RandomForestRegressor(),\n",
              "             param_grid={&#x27;max_depth&#x27;: [1, 10], &#x27;max_features&#x27;: [3, 9, 5, 12],\n",
              "                         &#x27;min_samples_leaf&#x27;: [1, 2, 4, 8],\n",
              "                         &#x27;n_estimators&#x27;: [50, 100, 150]})</pre></div></div></div><div class=\"sk-parallel\"><div class=\"sk-parallel-item\"><div class=\"sk-item\"><div class=\"sk-label-container\"><div class=\"sk-label sk-toggleable\"><input class=\"sk-toggleable__control sk-hidden--visually\" id=\"sk-estimator-id-59\" type=\"checkbox\" ><label for=\"sk-estimator-id-59\" class=\"sk-toggleable__label sk-toggleable__label-arrow\">estimator: RandomForestRegressor</label><div class=\"sk-toggleable__content\"><pre>RandomForestRegressor()</pre></div></div></div><div class=\"sk-serial\"><div class=\"sk-item\"><div class=\"sk-estimator sk-toggleable\"><input class=\"sk-toggleable__control sk-hidden--visually\" id=\"sk-estimator-id-60\" type=\"checkbox\" ><label for=\"sk-estimator-id-60\" class=\"sk-toggleable__label sk-toggleable__label-arrow\">RandomForestRegressor</label><div class=\"sk-toggleable__content\"><pre>RandomForestRegressor()</pre></div></div></div></div></div></div></div></div></div></div>"
            ]
          },
          "metadata": {},
          "execution_count": 374
        }
      ]
    },
    {
      "cell_type": "code",
      "source": [
        "RFR_grid.best_params_"
      ],
      "metadata": {
        "colab": {
          "base_uri": "https://localhost:8080/"
        },
        "id": "1lXuJ-t6f50Q",
        "outputId": "163c9604-6c96-4051-f6ba-a6afb5390710"
      },
      "execution_count": null,
      "outputs": [
        {
          "output_type": "execute_result",
          "data": {
            "text/plain": [
              "{'max_depth': 10,\n",
              " 'max_features': 12,\n",
              " 'min_samples_leaf': 1,\n",
              " 'n_estimators': 150}"
            ]
          },
          "metadata": {},
          "execution_count": 375
        }
      ]
    },
    {
      "cell_type": "code",
      "source": [
        "scores = get_metrics(Y_train,\n",
        "                     RFR_grid.predict(X_train_con),\n",
        "                     Y_val,RFR_grid.predict(X_val_con),\n",
        "                     \"RFR_best_parameter\",scores)\n",
        "scores"
      ],
      "metadata": {
        "colab": {
          "base_uri": "https://localhost:8080/",
          "height": 175
        },
        "id": "Q_HseEUnf7JQ",
        "outputId": "b48f3503-6c66-4500-a32e-1d5b4fff57fc"
      },
      "execution_count": null,
      "outputs": [
        {
          "output_type": "execute_result",
          "data": {
            "text/plain": [
              "                Model   MAE_Train  RMSE_Train    MAE_Test   RMSE_Test  \\\n",
              "0           Lasso_reg  453.608152  661.834968  468.784151  687.396945   \n",
              "1                 DTR  344.899261  532.030972  349.839237  566.841213   \n",
              "2       DTR_parameter  273.814257  442.966963  293.660438  499.194921   \n",
              "3  RFR_best_parameter  240.107776  370.646339  275.652089  440.491441   \n",
              "\n",
              "          R  \n",
              "0  0.503878  \n",
              "1  0.679400  \n",
              "2  0.777755  \n",
              "3  0.844400  "
            ],
            "text/html": [
              "\n",
              "  <div id=\"df-cf4da617-6bcf-4a41-afe1-d7ab12e7ad8c\">\n",
              "    <div class=\"colab-df-container\">\n",
              "      <div>\n",
              "<style scoped>\n",
              "    .dataframe tbody tr th:only-of-type {\n",
              "        vertical-align: middle;\n",
              "    }\n",
              "\n",
              "    .dataframe tbody tr th {\n",
              "        vertical-align: top;\n",
              "    }\n",
              "\n",
              "    .dataframe thead th {\n",
              "        text-align: right;\n",
              "    }\n",
              "</style>\n",
              "<table border=\"1\" class=\"dataframe\">\n",
              "  <thead>\n",
              "    <tr style=\"text-align: right;\">\n",
              "      <th></th>\n",
              "      <th>Model</th>\n",
              "      <th>MAE_Train</th>\n",
              "      <th>RMSE_Train</th>\n",
              "      <th>MAE_Test</th>\n",
              "      <th>RMSE_Test</th>\n",
              "      <th>R</th>\n",
              "    </tr>\n",
              "  </thead>\n",
              "  <tbody>\n",
              "    <tr>\n",
              "      <th>0</th>\n",
              "      <td>Lasso_reg</td>\n",
              "      <td>453.608152</td>\n",
              "      <td>661.834968</td>\n",
              "      <td>468.784151</td>\n",
              "      <td>687.396945</td>\n",
              "      <td>0.503878</td>\n",
              "    </tr>\n",
              "    <tr>\n",
              "      <th>1</th>\n",
              "      <td>DTR</td>\n",
              "      <td>344.899261</td>\n",
              "      <td>532.030972</td>\n",
              "      <td>349.839237</td>\n",
              "      <td>566.841213</td>\n",
              "      <td>0.679400</td>\n",
              "    </tr>\n",
              "    <tr>\n",
              "      <th>2</th>\n",
              "      <td>DTR_parameter</td>\n",
              "      <td>273.814257</td>\n",
              "      <td>442.966963</td>\n",
              "      <td>293.660438</td>\n",
              "      <td>499.194921</td>\n",
              "      <td>0.777755</td>\n",
              "    </tr>\n",
              "    <tr>\n",
              "      <th>3</th>\n",
              "      <td>RFR_best_parameter</td>\n",
              "      <td>240.107776</td>\n",
              "      <td>370.646339</td>\n",
              "      <td>275.652089</td>\n",
              "      <td>440.491441</td>\n",
              "      <td>0.844400</td>\n",
              "    </tr>\n",
              "  </tbody>\n",
              "</table>\n",
              "</div>\n",
              "      <button class=\"colab-df-convert\" onclick=\"convertToInteractive('df-cf4da617-6bcf-4a41-afe1-d7ab12e7ad8c')\"\n",
              "              title=\"Convert this dataframe to an interactive table.\"\n",
              "              style=\"display:none;\">\n",
              "        \n",
              "  <svg xmlns=\"http://www.w3.org/2000/svg\" height=\"24px\"viewBox=\"0 0 24 24\"\n",
              "       width=\"24px\">\n",
              "    <path d=\"M0 0h24v24H0V0z\" fill=\"none\"/>\n",
              "    <path d=\"M18.56 5.44l.94 2.06.94-2.06 2.06-.94-2.06-.94-.94-2.06-.94 2.06-2.06.94zm-11 1L8.5 8.5l.94-2.06 2.06-.94-2.06-.94L8.5 2.5l-.94 2.06-2.06.94zm10 10l.94 2.06.94-2.06 2.06-.94-2.06-.94-.94-2.06-.94 2.06-2.06.94z\"/><path d=\"M17.41 7.96l-1.37-1.37c-.4-.4-.92-.59-1.43-.59-.52 0-1.04.2-1.43.59L10.3 9.45l-7.72 7.72c-.78.78-.78 2.05 0 2.83L4 21.41c.39.39.9.59 1.41.59.51 0 1.02-.2 1.41-.59l7.78-7.78 2.81-2.81c.8-.78.8-2.07 0-2.86zM5.41 20L4 18.59l7.72-7.72 1.47 1.35L5.41 20z\"/>\n",
              "  </svg>\n",
              "      </button>\n",
              "      \n",
              "  <style>\n",
              "    .colab-df-container {\n",
              "      display:flex;\n",
              "      flex-wrap:wrap;\n",
              "      gap: 12px;\n",
              "    }\n",
              "\n",
              "    .colab-df-convert {\n",
              "      background-color: #E8F0FE;\n",
              "      border: none;\n",
              "      border-radius: 50%;\n",
              "      cursor: pointer;\n",
              "      display: none;\n",
              "      fill: #1967D2;\n",
              "      height: 32px;\n",
              "      padding: 0 0 0 0;\n",
              "      width: 32px;\n",
              "    }\n",
              "\n",
              "    .colab-df-convert:hover {\n",
              "      background-color: #E2EBFA;\n",
              "      box-shadow: 0px 1px 2px rgba(60, 64, 67, 0.3), 0px 1px 3px 1px rgba(60, 64, 67, 0.15);\n",
              "      fill: #174EA6;\n",
              "    }\n",
              "\n",
              "    [theme=dark] .colab-df-convert {\n",
              "      background-color: #3B4455;\n",
              "      fill: #D2E3FC;\n",
              "    }\n",
              "\n",
              "    [theme=dark] .colab-df-convert:hover {\n",
              "      background-color: #434B5C;\n",
              "      box-shadow: 0px 1px 3px 1px rgba(0, 0, 0, 0.15);\n",
              "      filter: drop-shadow(0px 1px 2px rgba(0, 0, 0, 0.3));\n",
              "      fill: #FFFFFF;\n",
              "    }\n",
              "  </style>\n",
              "\n",
              "      <script>\n",
              "        const buttonEl =\n",
              "          document.querySelector('#df-cf4da617-6bcf-4a41-afe1-d7ab12e7ad8c button.colab-df-convert');\n",
              "        buttonEl.style.display =\n",
              "          google.colab.kernel.accessAllowed ? 'block' : 'none';\n",
              "\n",
              "        async function convertToInteractive(key) {\n",
              "          const element = document.querySelector('#df-cf4da617-6bcf-4a41-afe1-d7ab12e7ad8c');\n",
              "          const dataTable =\n",
              "            await google.colab.kernel.invokeFunction('convertToInteractive',\n",
              "                                                     [key], {});\n",
              "          if (!dataTable) return;\n",
              "\n",
              "          const docLinkHtml = 'Like what you see? Visit the ' +\n",
              "            '<a target=\"_blank\" href=https://colab.research.google.com/notebooks/data_table.ipynb>data table notebook</a>'\n",
              "            + ' to learn more about interactive tables.';\n",
              "          element.innerHTML = '';\n",
              "          dataTable['output_type'] = 'display_data';\n",
              "          await google.colab.output.renderOutput(dataTable, element);\n",
              "          const docLink = document.createElement('div');\n",
              "          docLink.innerHTML = docLinkHtml;\n",
              "          element.appendChild(docLink);\n",
              "        }\n",
              "      </script>\n",
              "    </div>\n",
              "  </div>\n",
              "  "
            ]
          },
          "metadata": {},
          "execution_count": 376
        }
      ]
    },
    {
      "cell_type": "code",
      "source": [
        "from sklearn.ensemble import BaggingRegressor"
      ],
      "metadata": {
        "id": "z93zSngRquci"
      },
      "execution_count": null,
      "outputs": []
    },
    {
      "cell_type": "code",
      "source": [
        "# set of parameters to test\n",
        "param_grid = {\"n_estimators\": [10, 15, 20, 25],\n",
        "              \"bootstrap\": [False, True]\n",
        "              }"
      ],
      "metadata": {
        "id": "gn_3WceegB9Q"
      },
      "execution_count": null,
      "outputs": []
    },
    {
      "cell_type": "code",
      "source": [
        "br = BaggingRegressor(random_state=0)\n",
        "Ba_gr = GridSearchCV(br, param_grid, cv=5, n_jobs=-1)\n",
        "Ba_gr.fit(X_train_con, Y_train)"
      ],
      "metadata": {
        "colab": {
          "base_uri": "https://localhost:8080/",
          "height": 118
        },
        "id": "XxCSLp2hqjCE",
        "outputId": "51fa6c36-daa5-4af4-b8b8-0357c77653c2"
      },
      "execution_count": null,
      "outputs": [
        {
          "output_type": "execute_result",
          "data": {
            "text/plain": [
              "GridSearchCV(cv=5, estimator=BaggingRegressor(random_state=0), n_jobs=-1,\n",
              "             param_grid={'bootstrap': [False, True],\n",
              "                         'n_estimators': [10, 15, 20, 25]})"
            ],
            "text/html": [
              "<style>#sk-container-id-31 {color: black;background-color: white;}#sk-container-id-31 pre{padding: 0;}#sk-container-id-31 div.sk-toggleable {background-color: white;}#sk-container-id-31 label.sk-toggleable__label {cursor: pointer;display: block;width: 100%;margin-bottom: 0;padding: 0.3em;box-sizing: border-box;text-align: center;}#sk-container-id-31 label.sk-toggleable__label-arrow:before {content: \"▸\";float: left;margin-right: 0.25em;color: #696969;}#sk-container-id-31 label.sk-toggleable__label-arrow:hover:before {color: black;}#sk-container-id-31 div.sk-estimator:hover label.sk-toggleable__label-arrow:before {color: black;}#sk-container-id-31 div.sk-toggleable__content {max-height: 0;max-width: 0;overflow: hidden;text-align: left;background-color: #f0f8ff;}#sk-container-id-31 div.sk-toggleable__content pre {margin: 0.2em;color: black;border-radius: 0.25em;background-color: #f0f8ff;}#sk-container-id-31 input.sk-toggleable__control:checked~div.sk-toggleable__content {max-height: 200px;max-width: 100%;overflow: auto;}#sk-container-id-31 input.sk-toggleable__control:checked~label.sk-toggleable__label-arrow:before {content: \"▾\";}#sk-container-id-31 div.sk-estimator input.sk-toggleable__control:checked~label.sk-toggleable__label {background-color: #d4ebff;}#sk-container-id-31 div.sk-label input.sk-toggleable__control:checked~label.sk-toggleable__label {background-color: #d4ebff;}#sk-container-id-31 input.sk-hidden--visually {border: 0;clip: rect(1px 1px 1px 1px);clip: rect(1px, 1px, 1px, 1px);height: 1px;margin: -1px;overflow: hidden;padding: 0;position: absolute;width: 1px;}#sk-container-id-31 div.sk-estimator {font-family: monospace;background-color: #f0f8ff;border: 1px dotted black;border-radius: 0.25em;box-sizing: border-box;margin-bottom: 0.5em;}#sk-container-id-31 div.sk-estimator:hover {background-color: #d4ebff;}#sk-container-id-31 div.sk-parallel-item::after {content: \"\";width: 100%;border-bottom: 1px solid gray;flex-grow: 1;}#sk-container-id-31 div.sk-label:hover label.sk-toggleable__label {background-color: #d4ebff;}#sk-container-id-31 div.sk-serial::before {content: \"\";position: absolute;border-left: 1px solid gray;box-sizing: border-box;top: 0;bottom: 0;left: 50%;z-index: 0;}#sk-container-id-31 div.sk-serial {display: flex;flex-direction: column;align-items: center;background-color: white;padding-right: 0.2em;padding-left: 0.2em;position: relative;}#sk-container-id-31 div.sk-item {position: relative;z-index: 1;}#sk-container-id-31 div.sk-parallel {display: flex;align-items: stretch;justify-content: center;background-color: white;position: relative;}#sk-container-id-31 div.sk-item::before, #sk-container-id-31 div.sk-parallel-item::before {content: \"\";position: absolute;border-left: 1px solid gray;box-sizing: border-box;top: 0;bottom: 0;left: 50%;z-index: -1;}#sk-container-id-31 div.sk-parallel-item {display: flex;flex-direction: column;z-index: 1;position: relative;background-color: white;}#sk-container-id-31 div.sk-parallel-item:first-child::after {align-self: flex-end;width: 50%;}#sk-container-id-31 div.sk-parallel-item:last-child::after {align-self: flex-start;width: 50%;}#sk-container-id-31 div.sk-parallel-item:only-child::after {width: 0;}#sk-container-id-31 div.sk-dashed-wrapped {border: 1px dashed gray;margin: 0 0.4em 0.5em 0.4em;box-sizing: border-box;padding-bottom: 0.4em;background-color: white;}#sk-container-id-31 div.sk-label label {font-family: monospace;font-weight: bold;display: inline-block;line-height: 1.2em;}#sk-container-id-31 div.sk-label-container {text-align: center;}#sk-container-id-31 div.sk-container {/* jupyter's `normalize.less` sets `[hidden] { display: none; }` but bootstrap.min.css set `[hidden] { display: none !important; }` so we also need the `!important` here to be able to override the default hidden behavior on the sphinx rendered scikit-learn.org. See: https://github.com/scikit-learn/scikit-learn/issues/21755 */display: inline-block !important;position: relative;}#sk-container-id-31 div.sk-text-repr-fallback {display: none;}</style><div id=\"sk-container-id-31\" class=\"sk-top-container\"><div class=\"sk-text-repr-fallback\"><pre>GridSearchCV(cv=5, estimator=BaggingRegressor(random_state=0), n_jobs=-1,\n",
              "             param_grid={&#x27;bootstrap&#x27;: [False, True],\n",
              "                         &#x27;n_estimators&#x27;: [10, 15, 20, 25]})</pre><b>In a Jupyter environment, please rerun this cell to show the HTML representation or trust the notebook. <br />On GitHub, the HTML representation is unable to render, please try loading this page with nbviewer.org.</b></div><div class=\"sk-container\" hidden><div class=\"sk-item sk-dashed-wrapped\"><div class=\"sk-label-container\"><div class=\"sk-label sk-toggleable\"><input class=\"sk-toggleable__control sk-hidden--visually\" id=\"sk-estimator-id-61\" type=\"checkbox\" ><label for=\"sk-estimator-id-61\" class=\"sk-toggleable__label sk-toggleable__label-arrow\">GridSearchCV</label><div class=\"sk-toggleable__content\"><pre>GridSearchCV(cv=5, estimator=BaggingRegressor(random_state=0), n_jobs=-1,\n",
              "             param_grid={&#x27;bootstrap&#x27;: [False, True],\n",
              "                         &#x27;n_estimators&#x27;: [10, 15, 20, 25]})</pre></div></div></div><div class=\"sk-parallel\"><div class=\"sk-parallel-item\"><div class=\"sk-item\"><div class=\"sk-label-container\"><div class=\"sk-label sk-toggleable\"><input class=\"sk-toggleable__control sk-hidden--visually\" id=\"sk-estimator-id-62\" type=\"checkbox\" ><label for=\"sk-estimator-id-62\" class=\"sk-toggleable__label sk-toggleable__label-arrow\">estimator: BaggingRegressor</label><div class=\"sk-toggleable__content\"><pre>BaggingRegressor(random_state=0)</pre></div></div></div><div class=\"sk-serial\"><div class=\"sk-item\"><div class=\"sk-estimator sk-toggleable\"><input class=\"sk-toggleable__control sk-hidden--visually\" id=\"sk-estimator-id-63\" type=\"checkbox\" ><label for=\"sk-estimator-id-63\" class=\"sk-toggleable__label sk-toggleable__label-arrow\">BaggingRegressor</label><div class=\"sk-toggleable__content\"><pre>BaggingRegressor(random_state=0)</pre></div></div></div></div></div></div></div></div></div></div>"
            ]
          },
          "metadata": {},
          "execution_count": 379
        }
      ]
    },
    {
      "cell_type": "code",
      "source": [
        "Ba_gr.best_params_"
      ],
      "metadata": {
        "colab": {
          "base_uri": "https://localhost:8080/"
        },
        "id": "I6_Ma6ubq6jg",
        "outputId": "84f6d23c-de28-4242-cad6-b769b83c69a7"
      },
      "execution_count": null,
      "outputs": [
        {
          "output_type": "execute_result",
          "data": {
            "text/plain": [
              "{'bootstrap': True, 'n_estimators': 25}"
            ]
          },
          "metadata": {},
          "execution_count": 380
        }
      ]
    },
    {
      "cell_type": "code",
      "source": [
        "scores = get_metrics(Y_train,\n",
        "                     Ba_gr.predict(X_train_con),\n",
        "                     Y_val,Ba_gr.predict(X_val_con),\n",
        "                     \"Bagging_reg_param\",scores)\n",
        "scores"
      ],
      "metadata": {
        "colab": {
          "base_uri": "https://localhost:8080/",
          "height": 206
        },
        "id": "Z442Tqzsqogs",
        "outputId": "c07ec828-6fdf-42b0-8a78-64d0206dfa62"
      },
      "execution_count": null,
      "outputs": [
        {
          "output_type": "execute_result",
          "data": {
            "text/plain": [
              "                Model   MAE_Train  RMSE_Train    MAE_Test   RMSE_Test  \\\n",
              "0           Lasso_reg  453.608152  661.834968  468.784151  687.396945   \n",
              "1                 DTR  344.899261  532.030972  349.839237  566.841213   \n",
              "2       DTR_parameter  273.814257  442.966963  293.660438  499.194921   \n",
              "3  RFR_best_parameter  240.107776  370.646339  275.652089  440.491441   \n",
              "4   Bagging_reg_param   85.714934  160.605417  224.515439  411.841874   \n",
              "\n",
              "          R  \n",
              "0  0.503878  \n",
              "1  0.679400  \n",
              "2  0.777755  \n",
              "3  0.844400  \n",
              "4  0.970785  "
            ],
            "text/html": [
              "\n",
              "  <div id=\"df-44969d55-6cf6-4837-821d-dde631e63ea2\">\n",
              "    <div class=\"colab-df-container\">\n",
              "      <div>\n",
              "<style scoped>\n",
              "    .dataframe tbody tr th:only-of-type {\n",
              "        vertical-align: middle;\n",
              "    }\n",
              "\n",
              "    .dataframe tbody tr th {\n",
              "        vertical-align: top;\n",
              "    }\n",
              "\n",
              "    .dataframe thead th {\n",
              "        text-align: right;\n",
              "    }\n",
              "</style>\n",
              "<table border=\"1\" class=\"dataframe\">\n",
              "  <thead>\n",
              "    <tr style=\"text-align: right;\">\n",
              "      <th></th>\n",
              "      <th>Model</th>\n",
              "      <th>MAE_Train</th>\n",
              "      <th>RMSE_Train</th>\n",
              "      <th>MAE_Test</th>\n",
              "      <th>RMSE_Test</th>\n",
              "      <th>R</th>\n",
              "    </tr>\n",
              "  </thead>\n",
              "  <tbody>\n",
              "    <tr>\n",
              "      <th>0</th>\n",
              "      <td>Lasso_reg</td>\n",
              "      <td>453.608152</td>\n",
              "      <td>661.834968</td>\n",
              "      <td>468.784151</td>\n",
              "      <td>687.396945</td>\n",
              "      <td>0.503878</td>\n",
              "    </tr>\n",
              "    <tr>\n",
              "      <th>1</th>\n",
              "      <td>DTR</td>\n",
              "      <td>344.899261</td>\n",
              "      <td>532.030972</td>\n",
              "      <td>349.839237</td>\n",
              "      <td>566.841213</td>\n",
              "      <td>0.679400</td>\n",
              "    </tr>\n",
              "    <tr>\n",
              "      <th>2</th>\n",
              "      <td>DTR_parameter</td>\n",
              "      <td>273.814257</td>\n",
              "      <td>442.966963</td>\n",
              "      <td>293.660438</td>\n",
              "      <td>499.194921</td>\n",
              "      <td>0.777755</td>\n",
              "    </tr>\n",
              "    <tr>\n",
              "      <th>3</th>\n",
              "      <td>RFR_best_parameter</td>\n",
              "      <td>240.107776</td>\n",
              "      <td>370.646339</td>\n",
              "      <td>275.652089</td>\n",
              "      <td>440.491441</td>\n",
              "      <td>0.844400</td>\n",
              "    </tr>\n",
              "    <tr>\n",
              "      <th>4</th>\n",
              "      <td>Bagging_reg_param</td>\n",
              "      <td>85.714934</td>\n",
              "      <td>160.605417</td>\n",
              "      <td>224.515439</td>\n",
              "      <td>411.841874</td>\n",
              "      <td>0.970785</td>\n",
              "    </tr>\n",
              "  </tbody>\n",
              "</table>\n",
              "</div>\n",
              "      <button class=\"colab-df-convert\" onclick=\"convertToInteractive('df-44969d55-6cf6-4837-821d-dde631e63ea2')\"\n",
              "              title=\"Convert this dataframe to an interactive table.\"\n",
              "              style=\"display:none;\">\n",
              "        \n",
              "  <svg xmlns=\"http://www.w3.org/2000/svg\" height=\"24px\"viewBox=\"0 0 24 24\"\n",
              "       width=\"24px\">\n",
              "    <path d=\"M0 0h24v24H0V0z\" fill=\"none\"/>\n",
              "    <path d=\"M18.56 5.44l.94 2.06.94-2.06 2.06-.94-2.06-.94-.94-2.06-.94 2.06-2.06.94zm-11 1L8.5 8.5l.94-2.06 2.06-.94-2.06-.94L8.5 2.5l-.94 2.06-2.06.94zm10 10l.94 2.06.94-2.06 2.06-.94-2.06-.94-.94-2.06-.94 2.06-2.06.94z\"/><path d=\"M17.41 7.96l-1.37-1.37c-.4-.4-.92-.59-1.43-.59-.52 0-1.04.2-1.43.59L10.3 9.45l-7.72 7.72c-.78.78-.78 2.05 0 2.83L4 21.41c.39.39.9.59 1.41.59.51 0 1.02-.2 1.41-.59l7.78-7.78 2.81-2.81c.8-.78.8-2.07 0-2.86zM5.41 20L4 18.59l7.72-7.72 1.47 1.35L5.41 20z\"/>\n",
              "  </svg>\n",
              "      </button>\n",
              "      \n",
              "  <style>\n",
              "    .colab-df-container {\n",
              "      display:flex;\n",
              "      flex-wrap:wrap;\n",
              "      gap: 12px;\n",
              "    }\n",
              "\n",
              "    .colab-df-convert {\n",
              "      background-color: #E8F0FE;\n",
              "      border: none;\n",
              "      border-radius: 50%;\n",
              "      cursor: pointer;\n",
              "      display: none;\n",
              "      fill: #1967D2;\n",
              "      height: 32px;\n",
              "      padding: 0 0 0 0;\n",
              "      width: 32px;\n",
              "    }\n",
              "\n",
              "    .colab-df-convert:hover {\n",
              "      background-color: #E2EBFA;\n",
              "      box-shadow: 0px 1px 2px rgba(60, 64, 67, 0.3), 0px 1px 3px 1px rgba(60, 64, 67, 0.15);\n",
              "      fill: #174EA6;\n",
              "    }\n",
              "\n",
              "    [theme=dark] .colab-df-convert {\n",
              "      background-color: #3B4455;\n",
              "      fill: #D2E3FC;\n",
              "    }\n",
              "\n",
              "    [theme=dark] .colab-df-convert:hover {\n",
              "      background-color: #434B5C;\n",
              "      box-shadow: 0px 1px 3px 1px rgba(0, 0, 0, 0.15);\n",
              "      filter: drop-shadow(0px 1px 2px rgba(0, 0, 0, 0.3));\n",
              "      fill: #FFFFFF;\n",
              "    }\n",
              "  </style>\n",
              "\n",
              "      <script>\n",
              "        const buttonEl =\n",
              "          document.querySelector('#df-44969d55-6cf6-4837-821d-dde631e63ea2 button.colab-df-convert');\n",
              "        buttonEl.style.display =\n",
              "          google.colab.kernel.accessAllowed ? 'block' : 'none';\n",
              "\n",
              "        async function convertToInteractive(key) {\n",
              "          const element = document.querySelector('#df-44969d55-6cf6-4837-821d-dde631e63ea2');\n",
              "          const dataTable =\n",
              "            await google.colab.kernel.invokeFunction('convertToInteractive',\n",
              "                                                     [key], {});\n",
              "          if (!dataTable) return;\n",
              "\n",
              "          const docLinkHtml = 'Like what you see? Visit the ' +\n",
              "            '<a target=\"_blank\" href=https://colab.research.google.com/notebooks/data_table.ipynb>data table notebook</a>'\n",
              "            + ' to learn more about interactive tables.';\n",
              "          element.innerHTML = '';\n",
              "          dataTable['output_type'] = 'display_data';\n",
              "          await google.colab.output.renderOutput(dataTable, element);\n",
              "          const docLink = document.createElement('div');\n",
              "          docLink.innerHTML = docLinkHtml;\n",
              "          element.appendChild(docLink);\n",
              "        }\n",
              "      </script>\n",
              "    </div>\n",
              "  </div>\n",
              "  "
            ]
          },
          "metadata": {},
          "execution_count": 381
        }
      ]
    },
    {
      "cell_type": "markdown",
      "source": [
        "Boosting"
      ],
      "metadata": {
        "id": "QXDBtc0SrSvc"
      }
    },
    {
      "cell_type": "code",
      "source": [
        "from sklearn.ensemble import GradientBoostingRegressor\n"
      ],
      "metadata": {
        "id": "fSoeNQq5q_um"
      },
      "execution_count": null,
      "outputs": []
    },
    {
      "cell_type": "code",
      "source": [
        "GB=GradientBoostingRegressor()"
      ],
      "metadata": {
        "id": "0psFSwmjroTr"
      },
      "execution_count": null,
      "outputs": []
    },
    {
      "cell_type": "code",
      "source": [
        "GB.fit(X_train_con,Y_train)"
      ],
      "metadata": {
        "colab": {
          "base_uri": "https://localhost:8080/",
          "height": 75
        },
        "id": "CqIbnFOGrb-s",
        "outputId": "39410c2f-2101-45f0-f09f-8767ab49ae4e"
      },
      "execution_count": null,
      "outputs": [
        {
          "output_type": "execute_result",
          "data": {
            "text/plain": [
              "GradientBoostingRegressor()"
            ],
            "text/html": [
              "<style>#sk-container-id-32 {color: black;background-color: white;}#sk-container-id-32 pre{padding: 0;}#sk-container-id-32 div.sk-toggleable {background-color: white;}#sk-container-id-32 label.sk-toggleable__label {cursor: pointer;display: block;width: 100%;margin-bottom: 0;padding: 0.3em;box-sizing: border-box;text-align: center;}#sk-container-id-32 label.sk-toggleable__label-arrow:before {content: \"▸\";float: left;margin-right: 0.25em;color: #696969;}#sk-container-id-32 label.sk-toggleable__label-arrow:hover:before {color: black;}#sk-container-id-32 div.sk-estimator:hover label.sk-toggleable__label-arrow:before {color: black;}#sk-container-id-32 div.sk-toggleable__content {max-height: 0;max-width: 0;overflow: hidden;text-align: left;background-color: #f0f8ff;}#sk-container-id-32 div.sk-toggleable__content pre {margin: 0.2em;color: black;border-radius: 0.25em;background-color: #f0f8ff;}#sk-container-id-32 input.sk-toggleable__control:checked~div.sk-toggleable__content {max-height: 200px;max-width: 100%;overflow: auto;}#sk-container-id-32 input.sk-toggleable__control:checked~label.sk-toggleable__label-arrow:before {content: \"▾\";}#sk-container-id-32 div.sk-estimator input.sk-toggleable__control:checked~label.sk-toggleable__label {background-color: #d4ebff;}#sk-container-id-32 div.sk-label input.sk-toggleable__control:checked~label.sk-toggleable__label {background-color: #d4ebff;}#sk-container-id-32 input.sk-hidden--visually {border: 0;clip: rect(1px 1px 1px 1px);clip: rect(1px, 1px, 1px, 1px);height: 1px;margin: -1px;overflow: hidden;padding: 0;position: absolute;width: 1px;}#sk-container-id-32 div.sk-estimator {font-family: monospace;background-color: #f0f8ff;border: 1px dotted black;border-radius: 0.25em;box-sizing: border-box;margin-bottom: 0.5em;}#sk-container-id-32 div.sk-estimator:hover {background-color: #d4ebff;}#sk-container-id-32 div.sk-parallel-item::after {content: \"\";width: 100%;border-bottom: 1px solid gray;flex-grow: 1;}#sk-container-id-32 div.sk-label:hover label.sk-toggleable__label {background-color: #d4ebff;}#sk-container-id-32 div.sk-serial::before {content: \"\";position: absolute;border-left: 1px solid gray;box-sizing: border-box;top: 0;bottom: 0;left: 50%;z-index: 0;}#sk-container-id-32 div.sk-serial {display: flex;flex-direction: column;align-items: center;background-color: white;padding-right: 0.2em;padding-left: 0.2em;position: relative;}#sk-container-id-32 div.sk-item {position: relative;z-index: 1;}#sk-container-id-32 div.sk-parallel {display: flex;align-items: stretch;justify-content: center;background-color: white;position: relative;}#sk-container-id-32 div.sk-item::before, #sk-container-id-32 div.sk-parallel-item::before {content: \"\";position: absolute;border-left: 1px solid gray;box-sizing: border-box;top: 0;bottom: 0;left: 50%;z-index: -1;}#sk-container-id-32 div.sk-parallel-item {display: flex;flex-direction: column;z-index: 1;position: relative;background-color: white;}#sk-container-id-32 div.sk-parallel-item:first-child::after {align-self: flex-end;width: 50%;}#sk-container-id-32 div.sk-parallel-item:last-child::after {align-self: flex-start;width: 50%;}#sk-container-id-32 div.sk-parallel-item:only-child::after {width: 0;}#sk-container-id-32 div.sk-dashed-wrapped {border: 1px dashed gray;margin: 0 0.4em 0.5em 0.4em;box-sizing: border-box;padding-bottom: 0.4em;background-color: white;}#sk-container-id-32 div.sk-label label {font-family: monospace;font-weight: bold;display: inline-block;line-height: 1.2em;}#sk-container-id-32 div.sk-label-container {text-align: center;}#sk-container-id-32 div.sk-container {/* jupyter's `normalize.less` sets `[hidden] { display: none; }` but bootstrap.min.css set `[hidden] { display: none !important; }` so we also need the `!important` here to be able to override the default hidden behavior on the sphinx rendered scikit-learn.org. See: https://github.com/scikit-learn/scikit-learn/issues/21755 */display: inline-block !important;position: relative;}#sk-container-id-32 div.sk-text-repr-fallback {display: none;}</style><div id=\"sk-container-id-32\" class=\"sk-top-container\"><div class=\"sk-text-repr-fallback\"><pre>GradientBoostingRegressor()</pre><b>In a Jupyter environment, please rerun this cell to show the HTML representation or trust the notebook. <br />On GitHub, the HTML representation is unable to render, please try loading this page with nbviewer.org.</b></div><div class=\"sk-container\" hidden><div class=\"sk-item\"><div class=\"sk-estimator sk-toggleable\"><input class=\"sk-toggleable__control sk-hidden--visually\" id=\"sk-estimator-id-64\" type=\"checkbox\" checked><label for=\"sk-estimator-id-64\" class=\"sk-toggleable__label sk-toggleable__label-arrow\">GradientBoostingRegressor</label><div class=\"sk-toggleable__content\"><pre>GradientBoostingRegressor()</pre></div></div></div></div></div>"
            ]
          },
          "metadata": {},
          "execution_count": 384
        }
      ]
    },
    {
      "cell_type": "code",
      "source": [
        "scores = get_metrics(Y_train,\n",
        "                     GB.predict(X_train_con),\n",
        "                     Y_val,GB.predict(X_val_con),\n",
        "                     \"Boosting_reg\",scores)\n",
        "scores"
      ],
      "metadata": {
        "id": "qs2LkrSqrpqy",
        "outputId": "a22fd44e-7b2f-4aa3-cad1-3d6d030ee387",
        "colab": {
          "base_uri": "https://localhost:8080/",
          "height": 238
        }
      },
      "execution_count": null,
      "outputs": [
        {
          "output_type": "execute_result",
          "data": {
            "text/plain": [
              "                Model   MAE_Train  RMSE_Train    MAE_Test   RMSE_Test  \\\n",
              "0           Lasso_reg  453.608152  661.834968  468.784151  687.396945   \n",
              "1                 DTR  344.899261  532.030972  349.839237  566.841213   \n",
              "2       DTR_parameter  273.814257  442.966963  293.660438  499.194921   \n",
              "3  RFR_best_parameter  240.107776  370.646339  275.652089  440.491441   \n",
              "4   Bagging_reg_param   85.714934  160.605417  224.515439  411.841874   \n",
              "5        Boosting_reg  299.310704  458.162482  314.939452  493.191236   \n",
              "\n",
              "          R  \n",
              "0  0.503878  \n",
              "1  0.679400  \n",
              "2  0.777755  \n",
              "3  0.844400  \n",
              "4  0.970785  \n",
              "5  0.762246  "
            ],
            "text/html": [
              "\n",
              "  <div id=\"df-5e495f09-2324-4022-91bf-9354bda16fa3\">\n",
              "    <div class=\"colab-df-container\">\n",
              "      <div>\n",
              "<style scoped>\n",
              "    .dataframe tbody tr th:only-of-type {\n",
              "        vertical-align: middle;\n",
              "    }\n",
              "\n",
              "    .dataframe tbody tr th {\n",
              "        vertical-align: top;\n",
              "    }\n",
              "\n",
              "    .dataframe thead th {\n",
              "        text-align: right;\n",
              "    }\n",
              "</style>\n",
              "<table border=\"1\" class=\"dataframe\">\n",
              "  <thead>\n",
              "    <tr style=\"text-align: right;\">\n",
              "      <th></th>\n",
              "      <th>Model</th>\n",
              "      <th>MAE_Train</th>\n",
              "      <th>RMSE_Train</th>\n",
              "      <th>MAE_Test</th>\n",
              "      <th>RMSE_Test</th>\n",
              "      <th>R</th>\n",
              "    </tr>\n",
              "  </thead>\n",
              "  <tbody>\n",
              "    <tr>\n",
              "      <th>0</th>\n",
              "      <td>Lasso_reg</td>\n",
              "      <td>453.608152</td>\n",
              "      <td>661.834968</td>\n",
              "      <td>468.784151</td>\n",
              "      <td>687.396945</td>\n",
              "      <td>0.503878</td>\n",
              "    </tr>\n",
              "    <tr>\n",
              "      <th>1</th>\n",
              "      <td>DTR</td>\n",
              "      <td>344.899261</td>\n",
              "      <td>532.030972</td>\n",
              "      <td>349.839237</td>\n",
              "      <td>566.841213</td>\n",
              "      <td>0.679400</td>\n",
              "    </tr>\n",
              "    <tr>\n",
              "      <th>2</th>\n",
              "      <td>DTR_parameter</td>\n",
              "      <td>273.814257</td>\n",
              "      <td>442.966963</td>\n",
              "      <td>293.660438</td>\n",
              "      <td>499.194921</td>\n",
              "      <td>0.777755</td>\n",
              "    </tr>\n",
              "    <tr>\n",
              "      <th>3</th>\n",
              "      <td>RFR_best_parameter</td>\n",
              "      <td>240.107776</td>\n",
              "      <td>370.646339</td>\n",
              "      <td>275.652089</td>\n",
              "      <td>440.491441</td>\n",
              "      <td>0.844400</td>\n",
              "    </tr>\n",
              "    <tr>\n",
              "      <th>4</th>\n",
              "      <td>Bagging_reg_param</td>\n",
              "      <td>85.714934</td>\n",
              "      <td>160.605417</td>\n",
              "      <td>224.515439</td>\n",
              "      <td>411.841874</td>\n",
              "      <td>0.970785</td>\n",
              "    </tr>\n",
              "    <tr>\n",
              "      <th>5</th>\n",
              "      <td>Boosting_reg</td>\n",
              "      <td>299.310704</td>\n",
              "      <td>458.162482</td>\n",
              "      <td>314.939452</td>\n",
              "      <td>493.191236</td>\n",
              "      <td>0.762246</td>\n",
              "    </tr>\n",
              "  </tbody>\n",
              "</table>\n",
              "</div>\n",
              "      <button class=\"colab-df-convert\" onclick=\"convertToInteractive('df-5e495f09-2324-4022-91bf-9354bda16fa3')\"\n",
              "              title=\"Convert this dataframe to an interactive table.\"\n",
              "              style=\"display:none;\">\n",
              "        \n",
              "  <svg xmlns=\"http://www.w3.org/2000/svg\" height=\"24px\"viewBox=\"0 0 24 24\"\n",
              "       width=\"24px\">\n",
              "    <path d=\"M0 0h24v24H0V0z\" fill=\"none\"/>\n",
              "    <path d=\"M18.56 5.44l.94 2.06.94-2.06 2.06-.94-2.06-.94-.94-2.06-.94 2.06-2.06.94zm-11 1L8.5 8.5l.94-2.06 2.06-.94-2.06-.94L8.5 2.5l-.94 2.06-2.06.94zm10 10l.94 2.06.94-2.06 2.06-.94-2.06-.94-.94-2.06-.94 2.06-2.06.94z\"/><path d=\"M17.41 7.96l-1.37-1.37c-.4-.4-.92-.59-1.43-.59-.52 0-1.04.2-1.43.59L10.3 9.45l-7.72 7.72c-.78.78-.78 2.05 0 2.83L4 21.41c.39.39.9.59 1.41.59.51 0 1.02-.2 1.41-.59l7.78-7.78 2.81-2.81c.8-.78.8-2.07 0-2.86zM5.41 20L4 18.59l7.72-7.72 1.47 1.35L5.41 20z\"/>\n",
              "  </svg>\n",
              "      </button>\n",
              "      \n",
              "  <style>\n",
              "    .colab-df-container {\n",
              "      display:flex;\n",
              "      flex-wrap:wrap;\n",
              "      gap: 12px;\n",
              "    }\n",
              "\n",
              "    .colab-df-convert {\n",
              "      background-color: #E8F0FE;\n",
              "      border: none;\n",
              "      border-radius: 50%;\n",
              "      cursor: pointer;\n",
              "      display: none;\n",
              "      fill: #1967D2;\n",
              "      height: 32px;\n",
              "      padding: 0 0 0 0;\n",
              "      width: 32px;\n",
              "    }\n",
              "\n",
              "    .colab-df-convert:hover {\n",
              "      background-color: #E2EBFA;\n",
              "      box-shadow: 0px 1px 2px rgba(60, 64, 67, 0.3), 0px 1px 3px 1px rgba(60, 64, 67, 0.15);\n",
              "      fill: #174EA6;\n",
              "    }\n",
              "\n",
              "    [theme=dark] .colab-df-convert {\n",
              "      background-color: #3B4455;\n",
              "      fill: #D2E3FC;\n",
              "    }\n",
              "\n",
              "    [theme=dark] .colab-df-convert:hover {\n",
              "      background-color: #434B5C;\n",
              "      box-shadow: 0px 1px 3px 1px rgba(0, 0, 0, 0.15);\n",
              "      filter: drop-shadow(0px 1px 2px rgba(0, 0, 0, 0.3));\n",
              "      fill: #FFFFFF;\n",
              "    }\n",
              "  </style>\n",
              "\n",
              "      <script>\n",
              "        const buttonEl =\n",
              "          document.querySelector('#df-5e495f09-2324-4022-91bf-9354bda16fa3 button.colab-df-convert');\n",
              "        buttonEl.style.display =\n",
              "          google.colab.kernel.accessAllowed ? 'block' : 'none';\n",
              "\n",
              "        async function convertToInteractive(key) {\n",
              "          const element = document.querySelector('#df-5e495f09-2324-4022-91bf-9354bda16fa3');\n",
              "          const dataTable =\n",
              "            await google.colab.kernel.invokeFunction('convertToInteractive',\n",
              "                                                     [key], {});\n",
              "          if (!dataTable) return;\n",
              "\n",
              "          const docLinkHtml = 'Like what you see? Visit the ' +\n",
              "            '<a target=\"_blank\" href=https://colab.research.google.com/notebooks/data_table.ipynb>data table notebook</a>'\n",
              "            + ' to learn more about interactive tables.';\n",
              "          element.innerHTML = '';\n",
              "          dataTable['output_type'] = 'display_data';\n",
              "          await google.colab.output.renderOutput(dataTable, element);\n",
              "          const docLink = document.createElement('div');\n",
              "          docLink.innerHTML = docLinkHtml;\n",
              "          element.appendChild(docLink);\n",
              "        }\n",
              "      </script>\n",
              "    </div>\n",
              "  </div>\n",
              "  "
            ]
          },
          "metadata": {},
          "execution_count": 385
        }
      ]
    },
    {
      "cell_type": "code",
      "source": [],
      "metadata": {
        "id": "flbG_nMrfeWt"
      },
      "execution_count": null,
      "outputs": []
    },
    {
      "cell_type": "markdown",
      "source": [
        "As we skewed data may it affecting our model performance ,lets try with transformation techniques"
      ],
      "metadata": {
        "id": "owmJcud3BZYt"
      }
    },
    {
      "cell_type": "code",
      "source": [
        "#The log1p() function calculates the natural logarithm of the target column plus one to avoid issues with zero or negative values.\n",
        "Y_train_tr = np.log1p(Y_train)\n",
        "Y_val_tr=np.log1p(Y_val)\n",
        "Y_test_tr=np.log1p(Y_val)\n"
      ],
      "metadata": {
        "id": "xH3g4vhgruHh"
      },
      "execution_count": null,
      "outputs": []
    },
    {
      "cell_type": "code",
      "source": [
        "Ba_gr.fit(X_train_con, Y_train_tr)"
      ],
      "metadata": {
        "id": "b1h6_1_OB3Bm",
        "colab": {
          "base_uri": "https://localhost:8080/",
          "height": 118
        },
        "outputId": "2db78963-0807-4172-affc-60d2f712e112"
      },
      "execution_count": null,
      "outputs": [
        {
          "output_type": "execute_result",
          "data": {
            "text/plain": [
              "GridSearchCV(cv=5, estimator=BaggingRegressor(random_state=0), n_jobs=-1,\n",
              "             param_grid={'bootstrap': [False, True],\n",
              "                         'n_estimators': [10, 15, 20, 25]})"
            ],
            "text/html": [
              "<style>#sk-container-id-34 {color: black;background-color: white;}#sk-container-id-34 pre{padding: 0;}#sk-container-id-34 div.sk-toggleable {background-color: white;}#sk-container-id-34 label.sk-toggleable__label {cursor: pointer;display: block;width: 100%;margin-bottom: 0;padding: 0.3em;box-sizing: border-box;text-align: center;}#sk-container-id-34 label.sk-toggleable__label-arrow:before {content: \"▸\";float: left;margin-right: 0.25em;color: #696969;}#sk-container-id-34 label.sk-toggleable__label-arrow:hover:before {color: black;}#sk-container-id-34 div.sk-estimator:hover label.sk-toggleable__label-arrow:before {color: black;}#sk-container-id-34 div.sk-toggleable__content {max-height: 0;max-width: 0;overflow: hidden;text-align: left;background-color: #f0f8ff;}#sk-container-id-34 div.sk-toggleable__content pre {margin: 0.2em;color: black;border-radius: 0.25em;background-color: #f0f8ff;}#sk-container-id-34 input.sk-toggleable__control:checked~div.sk-toggleable__content {max-height: 200px;max-width: 100%;overflow: auto;}#sk-container-id-34 input.sk-toggleable__control:checked~label.sk-toggleable__label-arrow:before {content: \"▾\";}#sk-container-id-34 div.sk-estimator input.sk-toggleable__control:checked~label.sk-toggleable__label {background-color: #d4ebff;}#sk-container-id-34 div.sk-label input.sk-toggleable__control:checked~label.sk-toggleable__label {background-color: #d4ebff;}#sk-container-id-34 input.sk-hidden--visually {border: 0;clip: rect(1px 1px 1px 1px);clip: rect(1px, 1px, 1px, 1px);height: 1px;margin: -1px;overflow: hidden;padding: 0;position: absolute;width: 1px;}#sk-container-id-34 div.sk-estimator {font-family: monospace;background-color: #f0f8ff;border: 1px dotted black;border-radius: 0.25em;box-sizing: border-box;margin-bottom: 0.5em;}#sk-container-id-34 div.sk-estimator:hover {background-color: #d4ebff;}#sk-container-id-34 div.sk-parallel-item::after {content: \"\";width: 100%;border-bottom: 1px solid gray;flex-grow: 1;}#sk-container-id-34 div.sk-label:hover label.sk-toggleable__label {background-color: #d4ebff;}#sk-container-id-34 div.sk-serial::before {content: \"\";position: absolute;border-left: 1px solid gray;box-sizing: border-box;top: 0;bottom: 0;left: 50%;z-index: 0;}#sk-container-id-34 div.sk-serial {display: flex;flex-direction: column;align-items: center;background-color: white;padding-right: 0.2em;padding-left: 0.2em;position: relative;}#sk-container-id-34 div.sk-item {position: relative;z-index: 1;}#sk-container-id-34 div.sk-parallel {display: flex;align-items: stretch;justify-content: center;background-color: white;position: relative;}#sk-container-id-34 div.sk-item::before, #sk-container-id-34 div.sk-parallel-item::before {content: \"\";position: absolute;border-left: 1px solid gray;box-sizing: border-box;top: 0;bottom: 0;left: 50%;z-index: -1;}#sk-container-id-34 div.sk-parallel-item {display: flex;flex-direction: column;z-index: 1;position: relative;background-color: white;}#sk-container-id-34 div.sk-parallel-item:first-child::after {align-self: flex-end;width: 50%;}#sk-container-id-34 div.sk-parallel-item:last-child::after {align-self: flex-start;width: 50%;}#sk-container-id-34 div.sk-parallel-item:only-child::after {width: 0;}#sk-container-id-34 div.sk-dashed-wrapped {border: 1px dashed gray;margin: 0 0.4em 0.5em 0.4em;box-sizing: border-box;padding-bottom: 0.4em;background-color: white;}#sk-container-id-34 div.sk-label label {font-family: monospace;font-weight: bold;display: inline-block;line-height: 1.2em;}#sk-container-id-34 div.sk-label-container {text-align: center;}#sk-container-id-34 div.sk-container {/* jupyter's `normalize.less` sets `[hidden] { display: none; }` but bootstrap.min.css set `[hidden] { display: none !important; }` so we also need the `!important` here to be able to override the default hidden behavior on the sphinx rendered scikit-learn.org. See: https://github.com/scikit-learn/scikit-learn/issues/21755 */display: inline-block !important;position: relative;}#sk-container-id-34 div.sk-text-repr-fallback {display: none;}</style><div id=\"sk-container-id-34\" class=\"sk-top-container\"><div class=\"sk-text-repr-fallback\"><pre>GridSearchCV(cv=5, estimator=BaggingRegressor(random_state=0), n_jobs=-1,\n",
              "             param_grid={&#x27;bootstrap&#x27;: [False, True],\n",
              "                         &#x27;n_estimators&#x27;: [10, 15, 20, 25]})</pre><b>In a Jupyter environment, please rerun this cell to show the HTML representation or trust the notebook. <br />On GitHub, the HTML representation is unable to render, please try loading this page with nbviewer.org.</b></div><div class=\"sk-container\" hidden><div class=\"sk-item sk-dashed-wrapped\"><div class=\"sk-label-container\"><div class=\"sk-label sk-toggleable\"><input class=\"sk-toggleable__control sk-hidden--visually\" id=\"sk-estimator-id-68\" type=\"checkbox\" ><label for=\"sk-estimator-id-68\" class=\"sk-toggleable__label sk-toggleable__label-arrow\">GridSearchCV</label><div class=\"sk-toggleable__content\"><pre>GridSearchCV(cv=5, estimator=BaggingRegressor(random_state=0), n_jobs=-1,\n",
              "             param_grid={&#x27;bootstrap&#x27;: [False, True],\n",
              "                         &#x27;n_estimators&#x27;: [10, 15, 20, 25]})</pre></div></div></div><div class=\"sk-parallel\"><div class=\"sk-parallel-item\"><div class=\"sk-item\"><div class=\"sk-label-container\"><div class=\"sk-label sk-toggleable\"><input class=\"sk-toggleable__control sk-hidden--visually\" id=\"sk-estimator-id-69\" type=\"checkbox\" ><label for=\"sk-estimator-id-69\" class=\"sk-toggleable__label sk-toggleable__label-arrow\">estimator: BaggingRegressor</label><div class=\"sk-toggleable__content\"><pre>BaggingRegressor(random_state=0)</pre></div></div></div><div class=\"sk-serial\"><div class=\"sk-item\"><div class=\"sk-estimator sk-toggleable\"><input class=\"sk-toggleable__control sk-hidden--visually\" id=\"sk-estimator-id-70\" type=\"checkbox\" ><label for=\"sk-estimator-id-70\" class=\"sk-toggleable__label sk-toggleable__label-arrow\">BaggingRegressor</label><div class=\"sk-toggleable__content\"><pre>BaggingRegressor(random_state=0)</pre></div></div></div></div></div></div></div></div></div></div>"
            ]
          },
          "metadata": {},
          "execution_count": 407
        }
      ]
    },
    {
      "cell_type": "code",
      "source": [
        "scores = get_metrics(Y_train_tr,\n",
        "                     RFR_grid.predict(X_train_con),\n",
        "                     Y_val_tr,RFR_grid.predict(X_val_con),\n",
        "                     \"Transformed_y\",scores)\n",
        "scores"
      ],
      "metadata": {
        "colab": {
          "base_uri": "https://localhost:8080/",
          "height": 300
        },
        "id": "iQviLqkxf5lN",
        "outputId": "683807fc-7d5d-49ca-bf9e-5b0f82c6e88d"
      },
      "execution_count": null,
      "outputs": [
        {
          "output_type": "execute_result",
          "data": {
            "text/plain": [
              "                Model   MAE_Train  RMSE_Train    MAE_Test   RMSE_Test  \\\n",
              "0           Lasso_reg  453.608152  661.834968  468.784151  687.396945   \n",
              "1                 DTR  344.899261  532.030972  349.839237  566.841213   \n",
              "2       DTR_parameter  273.814257  442.966963  293.660438  499.194921   \n",
              "3  RFR_best_parameter  240.107776  370.646339  275.652089  440.491441   \n",
              "4   Bagging_reg_param   85.714934  160.605417  224.515439  411.841874   \n",
              "5        Boosting_reg  299.310704  458.162482  314.939452  493.191236   \n",
              "6  RFR_best_parameter    1.122123    1.813797    1.222020    1.967071   \n",
              "7  RFR_best_parameter    1.122123    1.813797    1.222020    1.967071   \n",
              "\n",
              "          R  \n",
              "0  0.503878  \n",
              "1  0.679400  \n",
              "2  0.777755  \n",
              "3  0.844400  \n",
              "4  0.970785  \n",
              "5  0.762246  \n",
              "6  0.555628  \n",
              "7  0.555628  "
            ],
            "text/html": [
              "\n",
              "  <div id=\"df-96537b89-9a46-4f4f-8fb5-964725d6db01\">\n",
              "    <div class=\"colab-df-container\">\n",
              "      <div>\n",
              "<style scoped>\n",
              "    .dataframe tbody tr th:only-of-type {\n",
              "        vertical-align: middle;\n",
              "    }\n",
              "\n",
              "    .dataframe tbody tr th {\n",
              "        vertical-align: top;\n",
              "    }\n",
              "\n",
              "    .dataframe thead th {\n",
              "        text-align: right;\n",
              "    }\n",
              "</style>\n",
              "<table border=\"1\" class=\"dataframe\">\n",
              "  <thead>\n",
              "    <tr style=\"text-align: right;\">\n",
              "      <th></th>\n",
              "      <th>Model</th>\n",
              "      <th>MAE_Train</th>\n",
              "      <th>RMSE_Train</th>\n",
              "      <th>MAE_Test</th>\n",
              "      <th>RMSE_Test</th>\n",
              "      <th>R</th>\n",
              "    </tr>\n",
              "  </thead>\n",
              "  <tbody>\n",
              "    <tr>\n",
              "      <th>0</th>\n",
              "      <td>Lasso_reg</td>\n",
              "      <td>453.608152</td>\n",
              "      <td>661.834968</td>\n",
              "      <td>468.784151</td>\n",
              "      <td>687.396945</td>\n",
              "      <td>0.503878</td>\n",
              "    </tr>\n",
              "    <tr>\n",
              "      <th>1</th>\n",
              "      <td>DTR</td>\n",
              "      <td>344.899261</td>\n",
              "      <td>532.030972</td>\n",
              "      <td>349.839237</td>\n",
              "      <td>566.841213</td>\n",
              "      <td>0.679400</td>\n",
              "    </tr>\n",
              "    <tr>\n",
              "      <th>2</th>\n",
              "      <td>DTR_parameter</td>\n",
              "      <td>273.814257</td>\n",
              "      <td>442.966963</td>\n",
              "      <td>293.660438</td>\n",
              "      <td>499.194921</td>\n",
              "      <td>0.777755</td>\n",
              "    </tr>\n",
              "    <tr>\n",
              "      <th>3</th>\n",
              "      <td>RFR_best_parameter</td>\n",
              "      <td>240.107776</td>\n",
              "      <td>370.646339</td>\n",
              "      <td>275.652089</td>\n",
              "      <td>440.491441</td>\n",
              "      <td>0.844400</td>\n",
              "    </tr>\n",
              "    <tr>\n",
              "      <th>4</th>\n",
              "      <td>Bagging_reg_param</td>\n",
              "      <td>85.714934</td>\n",
              "      <td>160.605417</td>\n",
              "      <td>224.515439</td>\n",
              "      <td>411.841874</td>\n",
              "      <td>0.970785</td>\n",
              "    </tr>\n",
              "    <tr>\n",
              "      <th>5</th>\n",
              "      <td>Boosting_reg</td>\n",
              "      <td>299.310704</td>\n",
              "      <td>458.162482</td>\n",
              "      <td>314.939452</td>\n",
              "      <td>493.191236</td>\n",
              "      <td>0.762246</td>\n",
              "    </tr>\n",
              "    <tr>\n",
              "      <th>6</th>\n",
              "      <td>RFR_best_parameter</td>\n",
              "      <td>1.122123</td>\n",
              "      <td>1.813797</td>\n",
              "      <td>1.222020</td>\n",
              "      <td>1.967071</td>\n",
              "      <td>0.555628</td>\n",
              "    </tr>\n",
              "    <tr>\n",
              "      <th>7</th>\n",
              "      <td>RFR_best_parameter</td>\n",
              "      <td>1.122123</td>\n",
              "      <td>1.813797</td>\n",
              "      <td>1.222020</td>\n",
              "      <td>1.967071</td>\n",
              "      <td>0.555628</td>\n",
              "    </tr>\n",
              "  </tbody>\n",
              "</table>\n",
              "</div>\n",
              "      <button class=\"colab-df-convert\" onclick=\"convertToInteractive('df-96537b89-9a46-4f4f-8fb5-964725d6db01')\"\n",
              "              title=\"Convert this dataframe to an interactive table.\"\n",
              "              style=\"display:none;\">\n",
              "        \n",
              "  <svg xmlns=\"http://www.w3.org/2000/svg\" height=\"24px\"viewBox=\"0 0 24 24\"\n",
              "       width=\"24px\">\n",
              "    <path d=\"M0 0h24v24H0V0z\" fill=\"none\"/>\n",
              "    <path d=\"M18.56 5.44l.94 2.06.94-2.06 2.06-.94-2.06-.94-.94-2.06-.94 2.06-2.06.94zm-11 1L8.5 8.5l.94-2.06 2.06-.94-2.06-.94L8.5 2.5l-.94 2.06-2.06.94zm10 10l.94 2.06.94-2.06 2.06-.94-2.06-.94-.94-2.06-.94 2.06-2.06.94z\"/><path d=\"M17.41 7.96l-1.37-1.37c-.4-.4-.92-.59-1.43-.59-.52 0-1.04.2-1.43.59L10.3 9.45l-7.72 7.72c-.78.78-.78 2.05 0 2.83L4 21.41c.39.39.9.59 1.41.59.51 0 1.02-.2 1.41-.59l7.78-7.78 2.81-2.81c.8-.78.8-2.07 0-2.86zM5.41 20L4 18.59l7.72-7.72 1.47 1.35L5.41 20z\"/>\n",
              "  </svg>\n",
              "      </button>\n",
              "      \n",
              "  <style>\n",
              "    .colab-df-container {\n",
              "      display:flex;\n",
              "      flex-wrap:wrap;\n",
              "      gap: 12px;\n",
              "    }\n",
              "\n",
              "    .colab-df-convert {\n",
              "      background-color: #E8F0FE;\n",
              "      border: none;\n",
              "      border-radius: 50%;\n",
              "      cursor: pointer;\n",
              "      display: none;\n",
              "      fill: #1967D2;\n",
              "      height: 32px;\n",
              "      padding: 0 0 0 0;\n",
              "      width: 32px;\n",
              "    }\n",
              "\n",
              "    .colab-df-convert:hover {\n",
              "      background-color: #E2EBFA;\n",
              "      box-shadow: 0px 1px 2px rgba(60, 64, 67, 0.3), 0px 1px 3px 1px rgba(60, 64, 67, 0.15);\n",
              "      fill: #174EA6;\n",
              "    }\n",
              "\n",
              "    [theme=dark] .colab-df-convert {\n",
              "      background-color: #3B4455;\n",
              "      fill: #D2E3FC;\n",
              "    }\n",
              "\n",
              "    [theme=dark] .colab-df-convert:hover {\n",
              "      background-color: #434B5C;\n",
              "      box-shadow: 0px 1px 3px 1px rgba(0, 0, 0, 0.15);\n",
              "      filter: drop-shadow(0px 1px 2px rgba(0, 0, 0, 0.3));\n",
              "      fill: #FFFFFF;\n",
              "    }\n",
              "  </style>\n",
              "\n",
              "      <script>\n",
              "        const buttonEl =\n",
              "          document.querySelector('#df-96537b89-9a46-4f4f-8fb5-964725d6db01 button.colab-df-convert');\n",
              "        buttonEl.style.display =\n",
              "          google.colab.kernel.accessAllowed ? 'block' : 'none';\n",
              "\n",
              "        async function convertToInteractive(key) {\n",
              "          const element = document.querySelector('#df-96537b89-9a46-4f4f-8fb5-964725d6db01');\n",
              "          const dataTable =\n",
              "            await google.colab.kernel.invokeFunction('convertToInteractive',\n",
              "                                                     [key], {});\n",
              "          if (!dataTable) return;\n",
              "\n",
              "          const docLinkHtml = 'Like what you see? Visit the ' +\n",
              "            '<a target=\"_blank\" href=https://colab.research.google.com/notebooks/data_table.ipynb>data table notebook</a>'\n",
              "            + ' to learn more about interactive tables.';\n",
              "          element.innerHTML = '';\n",
              "          dataTable['output_type'] = 'display_data';\n",
              "          await google.colab.output.renderOutput(dataTable, element);\n",
              "          const docLink = document.createElement('div');\n",
              "          docLink.innerHTML = docLinkHtml;\n",
              "          element.appendChild(docLink);\n",
              "        }\n",
              "      </script>\n",
              "    </div>\n",
              "  </div>\n",
              "  "
            ]
          },
          "metadata": {},
          "execution_count": 408
        }
      ]
    },
    {
      "cell_type": "code",
      "source": [],
      "metadata": {
        "id": "JsNlcTsigC-t"
      },
      "execution_count": null,
      "outputs": []
    }
  ],
  "metadata": {
    "colab": {
      "provenance": []
    },
    "kernelspec": {
      "display_name": "Python 3",
      "name": "python3"
    },
    "language_info": {
      "name": "python"
    }
  },
  "nbformat": 4,
  "nbformat_minor": 0
}